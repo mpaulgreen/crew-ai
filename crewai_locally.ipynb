{
 "cells": [
  {
   "cell_type": "markdown",
   "id": "d956b2b1-6240-4af4-b8f8-a8a946bdf000",
   "metadata": {},
   "source": [
    "## Building crew for production"
   ]
  },
  {
   "cell_type": "code",
   "execution_count": 1,
   "id": "56ec958c-96a9-42c9-a154-49833e75eff8",
   "metadata": {
    "tags": []
   },
   "outputs": [],
   "source": [
    "import warnings\n",
    "warnings.filterwarnings('ignore')"
   ]
  },
  {
   "cell_type": "code",
   "execution_count": 2,
   "id": "c1b3a1bc-e6dd-49f6-b441-219c99ccab23",
   "metadata": {
    "tags": []
   },
   "outputs": [],
   "source": [
    "import os\n",
    "from dotenv import load_dotenv, find_dotenv\n",
    "_ = load_dotenv(find_dotenv())"
   ]
  },
  {
   "cell_type": "markdown",
   "id": "a6e5584d-ffef-47b9-be3d-a728dff2fad5",
   "metadata": {},
   "source": [
    "### Creating a new project"
   ]
  },
  {
   "cell_type": "code",
   "execution_count": 6,
   "id": "482ceff2-f7e2-4c2a-b083-d04f7d5e3be4",
   "metadata": {
    "tags": []
   },
   "outputs": [],
   "source": [
    "# ! crewai create crew new_project"
   ]
  },
  {
   "cell_type": "code",
   "execution_count": 7,
   "id": "3bae6778-f96a-458c-9544-6ddab2a64e15",
   "metadata": {
    "tags": []
   },
   "outputs": [
    {
     "name": "stdout",
     "output_type": "stream",
     "text": [
      "# NewProject Crew\n",
      "\n",
      "Welcome to the NewProject Crew project, powered by [crewAI](https://crewai.com). This template is designed to help you set up a multi-agent AI system with ease, leveraging the powerful and flexible framework provided by crewAI. Our goal is to enable your agents to collaborate effectively on complex tasks, maximizing their collective intelligence and capabilities.\n",
      "\n",
      "## Installation\n",
      "\n",
      "Ensure you have Python >=3.10 <3.13 installed on your system. This project uses [UV](https://docs.astral.sh/uv/) for dependency management and package handling, offering a seamless setup and execution experience.\n",
      "\n",
      "First, if you haven't already, install uv:\n",
      "\n",
      "```bash\n",
      "pip install uv\n",
      "```\n",
      "\n",
      "Next, navigate to your project directory and install the dependencies:\n",
      "\n",
      "(Optional) Lock the dependencies and install them by using the CLI command:\n",
      "```bash\n",
      "crewai install\n",
      "```\n",
      "### Customizing\n",
      "\n",
      "**Add your `OPENAI_API_KEY` into the `.env` file**\n",
      "\n",
      "- Modify `src/new_project/config/agents.yaml` to define your agents\n",
      "- Modify `src/new_project/config/tasks.yaml` to define your tasks\n",
      "- Modify `src/new_project/crew.py` to add your own logic, tools and specific args\n",
      "- Modify `src/new_project/main.py` to add custom inputs for your agents and tasks\n",
      "\n",
      "## Running the Project\n",
      "\n",
      "To kickstart your crew of AI agents and begin task execution, run this from the root folder of your project:\n",
      "\n",
      "```bash\n",
      "$ crewai run\n",
      "```\n",
      "\n",
      "This command initializes the new_project Crew, assembling the agents and assigning them tasks as defined in your configuration.\n",
      "\n",
      "This example, unmodified, will run the create a `report.md` file with the output of a research on LLMs in the root folder.\n",
      "\n",
      "## Understanding Your Crew\n",
      "\n",
      "The new_project Crew is composed of multiple AI agents, each with unique roles, goals, and tools. These agents collaborate on a series of tasks, defined in `config/tasks.yaml`, leveraging their collective skills to achieve complex objectives. The `config/agents.yaml` file outlines the capabilities and configurations of each agent in your crew.\n",
      "\n",
      "## Support\n",
      "\n",
      "For support, questions, or feedback regarding the NewProject Crew or crewAI.\n",
      "- Visit our [documentation](https://docs.crewai.com)\n",
      "- Reach out to us through our [GitHub repository](https://github.com/joaomdmoura/crewai)\n",
      "- [Join our Discord](https://discord.com/invite/X4JWnZnxPb)\n",
      "- [Chat with our docs](https://chatg.pt/DWjSBZn)\n",
      "\n",
      "Let's create wonders together with the power and simplicity of crewAI.\n"
     ]
    }
   ],
   "source": [
    "!cat new_project/README.md"
   ]
  },
  {
   "cell_type": "code",
   "execution_count": 8,
   "id": "3090f09f-3611-449f-8629-df3a93e911dc",
   "metadata": {
    "tags": []
   },
   "outputs": [],
   "source": [
    "# ! cd new_project && crewai install"
   ]
  },
  {
   "cell_type": "code",
   "execution_count": 9,
   "id": "1999c131-afa7-48f8-bae8-060e304cbc99",
   "metadata": {
    "tags": []
   },
   "outputs": [],
   "source": [
    "# ! cat new_project/.env"
   ]
  },
  {
   "cell_type": "code",
   "execution_count": 10,
   "id": "aa062100-9770-4dea-a944-9819587fa015",
   "metadata": {
    "tags": []
   },
   "outputs": [],
   "source": [
    "# !crewai run # Running the crew"
   ]
  },
  {
   "cell_type": "code",
   "execution_count": 11,
   "id": "e06490bd-6cb2-46b7-b656-d1812eef8378",
   "metadata": {
    "tags": []
   },
   "outputs": [
    {
     "name": "stdout",
     "output_type": "stream",
     "text": [
      "\u001b[01;34m.\u001b[00m\n",
      "├── README.md\n",
      "├── \u001b[01;34mknowledge\u001b[00m\n",
      "│   └── user_preference.txt\n",
      "├── pyproject.toml\n",
      "├── report.md\n",
      "├── \u001b[01;34msrc\u001b[00m\n",
      "│   └── \u001b[01;34mnew_project\u001b[00m\n",
      "│       ├── __init__.py\n",
      "│       ├── \u001b[01;34m__pycache__\u001b[00m\n",
      "│       │   ├── __init__.cpython-310.pyc\n",
      "│       │   ├── crew.cpython-310.pyc\n",
      "│       │   └── main.cpython-310.pyc\n",
      "│       ├── \u001b[01;34mconfig\u001b[00m\n",
      "│       │   ├── agents.yaml\n",
      "│       │   └── tasks.yaml\n",
      "│       ├── crew.py\n",
      "│       ├── main.py\n",
      "│       └── \u001b[01;34mtools\u001b[00m\n",
      "│           ├── __init__.py\n",
      "│           └── custom_tool.py\n",
      "├── \u001b[01;34mtests\u001b[00m\n",
      "└── uv.lock\n",
      "\n",
      "7 directories, 15 files\n"
     ]
    }
   ],
   "source": [
    "!cd new_project && tree"
   ]
  },
  {
   "cell_type": "code",
   "execution_count": 13,
   "id": "cd5422a1-a9f9-4a81-8dc7-6dd0c43856ee",
   "metadata": {
    "tags": []
   },
   "outputs": [
    {
     "name": "stdout",
     "output_type": "stream",
     "text": [
      "from crewai import Agent, Crew, Process, Task\n",
      "from crewai.project import CrewBase, agent, crew, task\n",
      "from crewai.agents.agent_builder.base_agent import BaseAgent\n",
      "from typing import List\n",
      "# If you want to run a snippet of code before or after the crew starts,\n",
      "# you can use the @before_kickoff and @after_kickoff decorators\n",
      "# https://docs.crewai.com/concepts/crews#example-crew-class-with-decorators\n",
      "\n",
      "@CrewBase\n",
      "class NewProject():\n",
      "    \"\"\"NewProject crew\"\"\"\n",
      "\n",
      "    agents: List[BaseAgent]\n",
      "    tasks: List[Task]\n",
      "\n",
      "    # Learn more about YAML configuration files here:\n",
      "    # Agents: https://docs.crewai.com/concepts/agents#yaml-configuration-recommended\n",
      "    # Tasks: https://docs.crewai.com/concepts/tasks#yaml-configuration-recommended\n",
      "    \n",
      "    # If you would like to add tools to your agents, you can learn more about it here:\n",
      "    # https://docs.crewai.com/concepts/agents#agent-tools\n",
      "    @agent\n",
      "    def researcher(self) -> Agent:\n",
      "        return Agent(\n",
      "            config=self.agents_config['researcher'], # type: ignore[index]\n",
      "            verbose=True\n",
      "        )\n",
      "\n",
      "    @agent\n",
      "    def reporting_analyst(self) -> Agent:\n",
      "        return Agent(\n",
      "            config=self.agents_config['reporting_analyst'], # type: ignore[index]\n",
      "            verbose=True\n",
      "        )\n",
      "\n",
      "    # To learn more about structured task outputs,\n",
      "    # task dependencies, and task callbacks, check out the documentation:\n",
      "    # https://docs.crewai.com/concepts/tasks#overview-of-a-task\n",
      "    @task\n",
      "    def research_task(self) -> Task:\n",
      "        return Task(\n",
      "            config=self.tasks_config['research_task'], # type: ignore[index]\n",
      "        )\n",
      "\n",
      "    @task\n",
      "    def reporting_task(self) -> Task:\n",
      "        return Task(\n",
      "            config=self.tasks_config['reporting_task'], # type: ignore[index]\n",
      "            output_file='report.md'\n",
      "        )\n",
      "\n",
      "    @crew\n",
      "    def crew(self) -> Crew:\n",
      "        \"\"\"Creates the NewProject crew\"\"\"\n",
      "        # To learn how to add knowledge sources to your crew, check out the documentation:\n",
      "        # https://docs.crewai.com/concepts/knowledge#what-is-knowledge\n",
      "\n",
      "        return Crew(\n",
      "            agents=self.agents, # Automatically created by the @agent decorator\n",
      "            tasks=self.tasks, # Automatically created by the @task decorator\n",
      "            process=Process.sequential,\n",
      "            verbose=True,\n",
      "            # process=Process.hierarchical, # In case you wanna use that instead https://docs.crewai.com/how-to/Hierarchical/\n",
      "        )\n"
     ]
    }
   ],
   "source": [
    "!cat new_project/src/new_project/crew.py"
   ]
  },
  {
   "cell_type": "code",
   "execution_count": 14,
   "id": "fb337051-bd65-495a-8dee-d6c5afa63afc",
   "metadata": {
    "tags": []
   },
   "outputs": [
    {
     "name": "stdout",
     "output_type": "stream",
     "text": [
      "cat: new_project/src/new_project/agents.yaml: No such file or directory\n"
     ]
    }
   ],
   "source": [
    "!cat new_project/src/new_project/configagents.yaml"
   ]
  },
  {
   "cell_type": "code",
   "execution_count": null,
   "id": "5dd2e968-8570-4b76-afd4-a5567b35ce57",
   "metadata": {},
   "outputs": [],
   "source": []
  }
 ],
 "metadata": {
  "environment": {
   "kernel": "python3",
   "name": "pytorch-gpu.2-4.m129",
   "type": "gcloud",
   "uri": "us-docker.pkg.dev/deeplearning-platform-release/gcr.io/pytorch-gpu.2-4:m129"
  },
  "kernelspec": {
   "display_name": "Python 3",
   "language": "python",
   "name": "python3"
  },
  "language_info": {
   "codemirror_mode": {
    "name": "ipython",
    "version": 3
   },
   "file_extension": ".py",
   "mimetype": "text/x-python",
   "name": "python",
   "nbconvert_exporter": "python",
   "pygments_lexer": "ipython3",
   "version": "3.10.17"
  }
 },
 "nbformat": 4,
 "nbformat_minor": 5
}
