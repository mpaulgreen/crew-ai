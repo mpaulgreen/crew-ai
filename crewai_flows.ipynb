{
 "cells": [
  {
   "cell_type": "code",
   "execution_count": 1,
   "id": "ef9af639-1eea-4a19-9081-0c667d136e1b",
   "metadata": {
    "tags": []
   },
   "outputs": [],
   "source": [
    "import warnings\n",
    "warnings.filterwarnings('ignore')"
   ]
  },
  {
   "cell_type": "code",
   "execution_count": 2,
   "id": "dba36a02-a464-454e-a0d2-9df41c5a669a",
   "metadata": {
    "tags": []
   },
   "outputs": [],
   "source": [
    "import os\n",
    "from dotenv import load_dotenv, find_dotenv\n",
    "_ = load_dotenv(find_dotenv())\n",
    "os.environ[\"OPENAI_MODEL_NAME\"] = 'gpt-4o-mini'"
   ]
  },
  {
   "cell_type": "code",
   "execution_count": 3,
   "id": "4c45a438-7094-44f0-943c-88d652492473",
   "metadata": {
    "tags": []
   },
   "outputs": [],
   "source": [
    "import os\n",
    "import yaml\n",
    "from crewai import Agent, Task, Crew"
   ]
  },
  {
   "cell_type": "code",
   "execution_count": 4,
   "id": "fd88dd41-fb4e-438a-828b-6e5572c3f070",
   "metadata": {
    "tags": []
   },
   "outputs": [],
   "source": [
    "# Define file paths for YAML configurations\n",
    "files = {\n",
    "    'lead_agents': 'config/lead_qualification_agents.yaml',\n",
    "    'lead_tasks': 'config/lead_qualification_tasks.yaml',\n",
    "    'email_agents': 'config/email_engagement_agents.yaml',\n",
    "    'email_tasks': 'config/email_engagement_tasks.yaml'\n",
    "}\n",
    "\n",
    "# Load configurations from YAML files\n",
    "configs = {}\n",
    "for config_type, file_path in files.items():\n",
    "    with open(file_path, 'r') as file:\n",
    "        configs[config_type] = yaml.safe_load(file)\n",
    "\n",
    "# Assign loaded configurations to specific variables\n",
    "lead_agents_config = configs['lead_agents']\n",
    "lead_tasks_config = configs['lead_tasks']\n",
    "email_agents_config = configs['email_agents']\n",
    "email_tasks_config = configs['email_tasks']"
   ]
  },
  {
   "cell_type": "markdown",
   "id": "add20c81-6821-488b-a219-272bed0062e0",
   "metadata": {},
   "source": [
    "## Create Pydantic models for structured outputs"
   ]
  },
  {
   "cell_type": "code",
   "execution_count": 5,
   "id": "8f907530-337e-4e96-b261-f541ccb4f170",
   "metadata": {
    "tags": []
   },
   "outputs": [],
   "source": [
    "from pydantic import BaseModel, Field\n",
    "from typing import Dict, Optional, List, Set, Tuple\n",
    "\n",
    "class LeadPersonalInfo(BaseModel):\n",
    "    name: str = Field(..., description=\"The full name of the lead.\")\n",
    "    job_title: str = Field(..., description=\"The job title of the lead.\")\n",
    "    role_relevance: int = Field(..., ge=0, le=10, description=\"A score representing how relevant the lead's role is to the decision-making process (0-10).\")\n",
    "    professional_background: Optional[str] = Field(..., description=\"A brief description of the lead's professional background.\")\n",
    "\n",
    "class CompanyInfo(BaseModel):\n",
    "    company_name: str = Field(..., description=\"The name of the company the lead works for.\")\n",
    "    industry: str = Field(..., description=\"The industry in which the company operates.\")\n",
    "    company_size: int = Field(..., description=\"The size of the company in terms of employee count.\")\n",
    "    revenue: Optional[float] = Field(None, description=\"The annual revenue of the company, if available.\")\n",
    "    market_presence: int = Field(..., ge=0, le=10, description=\"A score representing the company's market presence (0-10).\")\n",
    "\n",
    "class LeadScore(BaseModel):\n",
    "    score: int = Field(..., ge=0, le=100, description=\"The final score assigned to the lead (0-100).\")\n",
    "    scoring_criteria: List[str] = Field(..., description=\"The criteria used to determine the lead's score.\")\n",
    "    validation_notes: Optional[str] = Field(None, description=\"Any notes regarding the validation of the lead score.\")\n",
    "\n",
    "class LeadScoringResult(BaseModel):\n",
    "    personal_info: LeadPersonalInfo = Field(..., description=\"Personal information about the lead.\")\n",
    "    company_info: CompanyInfo = Field(..., description=\"Information about the lead's company.\")\n",
    "    lead_score: LeadScore = Field(..., description=\"The calculated score and related information for the lead.\")"
   ]
  },
  {
   "cell_type": "markdown",
   "id": "0f012190-b03d-44c6-ab25-d45fe24f9ab2",
   "metadata": {},
   "source": [
    "## Importing Tools"
   ]
  },
  {
   "cell_type": "code",
   "execution_count": 6,
   "id": "c29d61f2-156e-4027-aa2e-df8a331dc216",
   "metadata": {
    "tags": []
   },
   "outputs": [],
   "source": [
    "from crewai_tools import SerperDevTool, ScrapeWebsiteTool"
   ]
  },
  {
   "cell_type": "markdown",
   "id": "2f98be73-ae97-403e-8747-b9f02f1aaedb",
   "metadata": {},
   "source": [
    "## Lead Qualification Crew, Agents and Tasks"
   ]
  },
  {
   "cell_type": "code",
   "execution_count": 7,
   "id": "1796341c-d01f-4c6f-8718-2967db081679",
   "metadata": {
    "tags": []
   },
   "outputs": [],
   "source": [
    "# Creating Agents\n",
    "lead_data_agent = Agent(\n",
    "  config=lead_agents_config['lead_data_agent'],\n",
    "  tools=[SerperDevTool(), ScrapeWebsiteTool()]\n",
    ")\n",
    "\n",
    "cultural_fit_agent = Agent(\n",
    "  config=lead_agents_config['cultural_fit_agent'],\n",
    "  tools=[SerperDevTool(), ScrapeWebsiteTool()]\n",
    ")\n",
    "\n",
    "scoring_validation_agent = Agent(\n",
    "  config=lead_agents_config['scoring_validation_agent'],\n",
    "  tools=[SerperDevTool(), ScrapeWebsiteTool()]\n",
    ")\n",
    "\n",
    "# Creating Tasks\n",
    "lead_data_task = Task(\n",
    "  config=lead_tasks_config['lead_data_collection'],\n",
    "  agent=lead_data_agent\n",
    ")\n",
    "\n",
    "cultural_fit_task = Task(\n",
    "  config=lead_tasks_config['cultural_fit_analysis'],\n",
    "  agent=cultural_fit_agent\n",
    ")\n",
    "\n",
    "scoring_validation_task = Task(\n",
    "  config=lead_tasks_config['lead_scoring_and_validation'],\n",
    "  agent=scoring_validation_agent,\n",
    "  context=[lead_data_task, cultural_fit_task],\n",
    "  output_pydantic=LeadScoringResult\n",
    ")\n",
    "\n",
    "# Creating Crew\n",
    "lead_scoring_crew = Crew(\n",
    "  agents=[\n",
    "    lead_data_agent,\n",
    "    cultural_fit_agent,\n",
    "    scoring_validation_agent\n",
    "  ],\n",
    "  tasks=[\n",
    "    lead_data_task,\n",
    "    cultural_fit_task,\n",
    "    scoring_validation_task\n",
    "  ],\n",
    "  verbose=True\n",
    ")"
   ]
  },
  {
   "cell_type": "markdown",
   "id": "28bb61ab-1b4d-4fca-9d21-709811ca7139",
   "metadata": {},
   "source": [
    "## Email Engagement crew"
   ]
  },
  {
   "cell_type": "code",
   "execution_count": 8,
   "id": "8462bab4-53ac-4490-b62d-cdb6ea73e8d6",
   "metadata": {
    "tags": []
   },
   "outputs": [],
   "source": [
    "# Creating Agents\n",
    "email_content_specialist = Agent(\n",
    "  config=email_agents_config['email_content_specialist']\n",
    ")\n",
    "\n",
    "engagement_strategist = Agent(\n",
    "  config=email_agents_config['engagement_strategist']\n",
    ")\n",
    "\n",
    "# Creating Tasks\n",
    "email_drafting = Task(\n",
    "  config=email_tasks_config['email_drafting'],\n",
    "  agent=email_content_specialist\n",
    ")\n",
    "\n",
    "engagement_optimization = Task(\n",
    "  config=email_tasks_config['engagement_optimization'],\n",
    "  agent=engagement_strategist\n",
    ")\n",
    "\n",
    "# Creating Crew\n",
    "email_writing_crew = Crew(\n",
    "  agents=[\n",
    "    email_content_specialist,\n",
    "    engagement_strategist\n",
    "  ],\n",
    "  tasks=[\n",
    "    email_drafting,\n",
    "    engagement_optimization\n",
    "  ],\n",
    "  verbose=True\n",
    ")"
   ]
  },
  {
   "cell_type": "markdown",
   "id": "ffed4082-f42c-442a-aa70-b6ca6fc713c3",
   "metadata": {},
   "source": [
    "## Creating complete sales flow"
   ]
  },
  {
   "cell_type": "code",
   "execution_count": 19,
   "id": "a0d0b82e-bb2f-43f7-855f-a86fb1558144",
   "metadata": {
    "tags": []
   },
   "outputs": [
    {
     "data": {
      "text/html": [
       "<pre style=\"white-space:pre;overflow-x:auto;line-height:normal;font-family:Menlo,'DejaVu Sans Mono',consolas,'Courier New',monospace\"><span style=\"color: #000080; text-decoration-color: #000080\">╭──────────────────────────────────────────────── Flow Execution ─────────────────────────────────────────────────╮</span>\n",
       "<span style=\"color: #000080; text-decoration-color: #000080\">│</span>                                                                                                                 <span style=\"color: #000080; text-decoration-color: #000080\">│</span>\n",
       "<span style=\"color: #000080; text-decoration-color: #000080\">│</span>  <span style=\"color: #000080; text-decoration-color: #000080; font-weight: bold\">Starting Flow Execution</span>                                                                                        <span style=\"color: #000080; text-decoration-color: #000080\">│</span>\n",
       "<span style=\"color: #000080; text-decoration-color: #000080\">│</span>  <span style=\"color: #c0c0c0; text-decoration-color: #c0c0c0\">Name: </span><span style=\"color: #000080; text-decoration-color: #000080\">SalesPipeline</span>                                                                                            <span style=\"color: #000080; text-decoration-color: #000080\">│</span>\n",
       "<span style=\"color: #000080; text-decoration-color: #000080\">│</span>  <span style=\"color: #c0c0c0; text-decoration-color: #c0c0c0\">ID: </span><span style=\"color: #000080; text-decoration-color: #000080\">ffe00d9d-48e2-4f21-b3b6-1b4beaddf987</span>                                                                       <span style=\"color: #000080; text-decoration-color: #000080\">│</span>\n",
       "<span style=\"color: #000080; text-decoration-color: #000080\">│</span>                                                                                                                 <span style=\"color: #000080; text-decoration-color: #000080\">│</span>\n",
       "<span style=\"color: #000080; text-decoration-color: #000080\">│</span>                                                                                                                 <span style=\"color: #000080; text-decoration-color: #000080\">│</span>\n",
       "<span style=\"color: #000080; text-decoration-color: #000080\">╰─────────────────────────────────────────────────────────────────────────────────────────────────────────────────╯</span>\n",
       "</pre>\n"
      ],
      "text/plain": [
       "\u001b[34m╭─\u001b[0m\u001b[34m───────────────────────────────────────────────\u001b[0m\u001b[34m Flow Execution \u001b[0m\u001b[34m────────────────────────────────────────────────\u001b[0m\u001b[34m─╮\u001b[0m\n",
       "\u001b[34m│\u001b[0m                                                                                                                 \u001b[34m│\u001b[0m\n",
       "\u001b[34m│\u001b[0m  \u001b[1;34mStarting Flow Execution\u001b[0m                                                                                        \u001b[34m│\u001b[0m\n",
       "\u001b[34m│\u001b[0m  \u001b[37mName: \u001b[0m\u001b[34mSalesPipeline\u001b[0m                                                                                            \u001b[34m│\u001b[0m\n",
       "\u001b[34m│\u001b[0m  \u001b[37mID: \u001b[0m\u001b[34mffe00d9d-48e2-4f21-b3b6-1b4beaddf987\u001b[0m                                                                       \u001b[34m│\u001b[0m\n",
       "\u001b[34m│\u001b[0m                                                                                                                 \u001b[34m│\u001b[0m\n",
       "\u001b[34m│\u001b[0m                                                                                                                 \u001b[34m│\u001b[0m\n",
       "\u001b[34m╰─────────────────────────────────────────────────────────────────────────────────────────────────────────────────╯\u001b[0m\n"
      ]
     },
     "metadata": {},
     "output_type": "display_data"
    },
    {
     "data": {
      "text/html": [
       "<pre style=\"white-space:pre;overflow-x:auto;line-height:normal;font-family:Menlo,'DejaVu Sans Mono',consolas,'Courier New',monospace\">\n",
       "</pre>\n"
      ],
      "text/plain": [
       "\n"
      ]
     },
     "metadata": {},
     "output_type": "display_data"
    }
   ],
   "source": [
    "from crewai import Flow\n",
    "from crewai.flow.flow import listen, start\n",
    "\n",
    "class SalesPipeline(Flow):\n",
    "    @start()\n",
    "    def fetch_leads(self):\n",
    "        # Pull our leads from the database\n",
    "        leads = [\n",
    "            {\n",
    "                \"lead_data\": {\n",
    "                    \"name\": \"João Moura\",\n",
    "                    \"job_title\": \"Director of Engineering\",\n",
    "                    \"company\": \"Clearbit\",\n",
    "                    \"email\": \"joao@clearbit.com\",\n",
    "                    \"use_case\": \"Using AI Agent to do better data enrichment.\"\n",
    "                },\n",
    "            },\n",
    "        ]\n",
    "        return leads\n",
    "\n",
    "    @listen(fetch_leads)\n",
    "    def score_leads(self, leads):\n",
    "        scores = lead_scoring_crew.kickoff_for_each(leads)\n",
    "        self.state[\"score_crews_results\"] = scores\n",
    "        return scores\n",
    "\n",
    "    @listen(score_leads)\n",
    "    def store_leads_score(self, scores):\n",
    "        # Here we would store the scores in the database\n",
    "        return scores\n",
    "\n",
    "    @listen(score_leads)\n",
    "    def filter_leads(self, scores):\n",
    "        return [score for score in scores if score['lead_score'].score > 70]\n",
    "\n",
    "    @listen(filter_leads)\n",
    "    def write_email(self, leads):\n",
    "        scored_leads = [lead.to_dict() for lead in leads]\n",
    "        emails = email_writing_crew.kickoff_for_each(scored_leads)\n",
    "        return emails\n",
    "\n",
    "    @listen(write_email)\n",
    "    def send_email(self, emails):\n",
    "        # Here we would send the emails to the leads\n",
    "        return emails\n",
    "\n",
    "flow = SalesPipeline()"
   ]
  },
  {
   "cell_type": "code",
   "execution_count": 20,
   "id": "677a65c6-f9db-496e-a6bb-14b01157f79b",
   "metadata": {
    "tags": []
   },
   "outputs": [
    {
     "name": "stdout",
     "output_type": "stream",
     "text": [
      "Plot saved as crewai_flow.html\n"
     ]
    }
   ],
   "source": [
    "flow.plot()"
   ]
  },
  {
   "cell_type": "code",
   "execution_count": 21,
   "id": "8041c9ea-cf00-4105-b215-5b266266857a",
   "metadata": {
    "tags": []
   },
   "outputs": [
    {
     "data": {
      "text/html": [
       "\n",
       "        <iframe\n",
       "            width=\"150%\"\n",
       "            height=\"600\"\n",
       "            src=\"./crewai_flow.html\"\n",
       "            frameborder=\"0\"\n",
       "            allowfullscreen\n",
       "            \n",
       "        ></iframe>\n",
       "        "
      ],
      "text/plain": [
       "<IPython.lib.display.IFrame at 0x7f0451249000>"
      ]
     },
     "execution_count": 21,
     "metadata": {},
     "output_type": "execute_result"
    }
   ],
   "source": [
    "from IPython.display import IFrame\n",
    "\n",
    "IFrame(src='./crewai_flow.html', width='150%', height=600)"
   ]
  },
  {
   "cell_type": "markdown",
   "id": "6391211a-399b-4085-912d-c3bae609e6b2",
   "metadata": {},
   "source": [
    "## Flow kickoff"
   ]
  },
  {
   "cell_type": "code",
   "execution_count": 23,
   "id": "eba4927c-3829-43ea-8879-6a6fd597601b",
   "metadata": {
    "tags": []
   },
   "outputs": [
    {
     "data": {
      "text/html": [
       "<pre style=\"white-space:pre;overflow-x:auto;line-height:normal;font-family:Menlo,'DejaVu Sans Mono',consolas,'Courier New',monospace\"><span style=\"color: #000080; text-decoration-color: #000080; font-weight: bold\">🌊 Flow: </span><span style=\"color: #000080; text-decoration-color: #000080\">SalesPipeline</span>\n",
       "<span style=\"color: #c0c0c0; text-decoration-color: #c0c0c0\">    ID: </span><span style=\"color: #000080; text-decoration-color: #000080\">ffe00d9d-48e2-4f21-b3b6-1b4beaddf987</span>\n",
       "└── <span style=\"color: #808000; text-decoration-color: #808000\">🧠 Starting Flow...</span>\n",
       "</pre>\n"
      ],
      "text/plain": [
       "\u001b[1;34m🌊 Flow: \u001b[0m\u001b[34mSalesPipeline\u001b[0m\n",
       "\u001b[37m    ID: \u001b[0m\u001b[34mffe00d9d-48e2-4f21-b3b6-1b4beaddf987\u001b[0m\n",
       "└── \u001b[33m🧠 Starting Flow...\u001b[0m\n"
      ]
     },
     "metadata": {},
     "output_type": "display_data"
    },
    {
     "data": {
      "text/html": [
       "<pre style=\"white-space:pre;overflow-x:auto;line-height:normal;font-family:Menlo,'DejaVu Sans Mono',consolas,'Courier New',monospace\">\n",
       "</pre>\n"
      ],
      "text/plain": [
       "\n"
      ]
     },
     "metadata": {},
     "output_type": "display_data"
    },
    {
     "name": "stdout",
     "output_type": "stream",
     "text": [
      "\u001b[1m\u001b[35m Flow started with ID: ffe00d9d-48e2-4f21-b3b6-1b4beaddf987\u001b[00m\n"
     ]
    },
    {
     "data": {
      "text/html": [
       "<pre style=\"white-space:pre;overflow-x:auto;line-height:normal;font-family:Menlo,'DejaVu Sans Mono',consolas,'Courier New',monospace\"><span style=\"color: #000080; text-decoration-color: #000080; font-weight: bold\">🌊 Flow: </span><span style=\"color: #000080; text-decoration-color: #000080\">SalesPipeline</span>\n",
       "<span style=\"color: #c0c0c0; text-decoration-color: #c0c0c0\">    ID: </span><span style=\"color: #000080; text-decoration-color: #000080\">ffe00d9d-48e2-4f21-b3b6-1b4beaddf987</span>\n",
       "├── <span style=\"color: #808000; text-decoration-color: #808000\">🧠 Starting Flow...</span>\n",
       "└── <span style=\"color: #808000; text-decoration-color: #808000; font-weight: bold\">🔄 Running: fetch_leads</span>\n",
       "</pre>\n"
      ],
      "text/plain": [
       "\u001b[1;34m🌊 Flow: \u001b[0m\u001b[34mSalesPipeline\u001b[0m\n",
       "\u001b[37m    ID: \u001b[0m\u001b[34mffe00d9d-48e2-4f21-b3b6-1b4beaddf987\u001b[0m\n",
       "├── \u001b[33m🧠 Starting Flow...\u001b[0m\n",
       "└── \u001b[1;33m🔄 Running:\u001b[0m\u001b[1;33m fetch_leads\u001b[0m\n"
      ]
     },
     "metadata": {},
     "output_type": "display_data"
    },
    {
     "data": {
      "text/html": [
       "<pre style=\"white-space:pre;overflow-x:auto;line-height:normal;font-family:Menlo,'DejaVu Sans Mono',consolas,'Courier New',monospace\">\n",
       "</pre>\n"
      ],
      "text/plain": [
       "\n"
      ]
     },
     "metadata": {},
     "output_type": "display_data"
    },
    {
     "data": {
      "text/html": [
       "<pre style=\"white-space:pre;overflow-x:auto;line-height:normal;font-family:Menlo,'DejaVu Sans Mono',consolas,'Courier New',monospace\"><span style=\"color: #000080; text-decoration-color: #000080; font-weight: bold\">🌊 Flow: </span><span style=\"color: #000080; text-decoration-color: #000080\">SalesPipeline</span>\n",
       "<span style=\"color: #c0c0c0; text-decoration-color: #c0c0c0\">    ID: </span><span style=\"color: #000080; text-decoration-color: #000080\">ffe00d9d-48e2-4f21-b3b6-1b4beaddf987</span>\n",
       "├── <span style=\"color: #c0c0c0; text-decoration-color: #c0c0c0\">Flow Method Step</span>\n",
       "└── <span style=\"color: #008000; text-decoration-color: #008000; font-weight: bold\">✅ Completed: fetch_leads</span>\n",
       "</pre>\n"
      ],
      "text/plain": [
       "\u001b[1;34m🌊 Flow: \u001b[0m\u001b[34mSalesPipeline\u001b[0m\n",
       "\u001b[37m    ID: \u001b[0m\u001b[34mffe00d9d-48e2-4f21-b3b6-1b4beaddf987\u001b[0m\n",
       "├── \u001b[37mFlow Method Step\u001b[0m\n",
       "└── \u001b[1;32m✅ Completed:\u001b[0m\u001b[1;32m fetch_leads\u001b[0m\n"
      ]
     },
     "metadata": {},
     "output_type": "display_data"
    },
    {
     "data": {
      "text/html": [
       "<pre style=\"white-space:pre;overflow-x:auto;line-height:normal;font-family:Menlo,'DejaVu Sans Mono',consolas,'Courier New',monospace\">\n",
       "</pre>\n"
      ],
      "text/plain": [
       "\n"
      ]
     },
     "metadata": {},
     "output_type": "display_data"
    },
    {
     "data": {
      "text/html": [
       "<pre style=\"white-space:pre;overflow-x:auto;line-height:normal;font-family:Menlo,'DejaVu Sans Mono',consolas,'Courier New',monospace\"><span style=\"color: #000080; text-decoration-color: #000080; font-weight: bold\">🌊 Flow: </span><span style=\"color: #000080; text-decoration-color: #000080\">SalesPipeline</span>\n",
       "<span style=\"color: #c0c0c0; text-decoration-color: #c0c0c0\">    ID: </span><span style=\"color: #000080; text-decoration-color: #000080\">ffe00d9d-48e2-4f21-b3b6-1b4beaddf987</span>\n",
       "├── <span style=\"color: #c0c0c0; text-decoration-color: #c0c0c0\">Flow Method Step</span>\n",
       "├── <span style=\"color: #008000; text-decoration-color: #008000; font-weight: bold\">✅ Completed: fetch_leads</span>\n",
       "└── <span style=\"color: #808000; text-decoration-color: #808000; font-weight: bold\">🔄 Running: score_leads</span>\n",
       "</pre>\n"
      ],
      "text/plain": [
       "\u001b[1;34m🌊 Flow: \u001b[0m\u001b[34mSalesPipeline\u001b[0m\n",
       "\u001b[37m    ID: \u001b[0m\u001b[34mffe00d9d-48e2-4f21-b3b6-1b4beaddf987\u001b[0m\n",
       "├── \u001b[37mFlow Method Step\u001b[0m\n",
       "├── \u001b[1;32m✅ Completed:\u001b[0m\u001b[1;32m fetch_leads\u001b[0m\n",
       "└── \u001b[1;33m🔄 Running:\u001b[0m\u001b[1;33m score_leads\u001b[0m\n"
      ]
     },
     "metadata": {},
     "output_type": "display_data"
    },
    {
     "data": {
      "text/html": [
       "<pre style=\"white-space:pre;overflow-x:auto;line-height:normal;font-family:Menlo,'DejaVu Sans Mono',consolas,'Courier New',monospace\">\n",
       "</pre>\n"
      ],
      "text/plain": [
       "\n"
      ]
     },
     "metadata": {},
     "output_type": "display_data"
    },
    {
     "data": {
      "text/html": [
       "<pre style=\"white-space:pre;overflow-x:auto;line-height:normal;font-family:Menlo,'DejaVu Sans Mono',consolas,'Courier New',monospace\"><span style=\"color: #008080; text-decoration-color: #008080\">╭──────────────────────────────────────────── Crew Execution Started ─────────────────────────────────────────────╮</span>\n",
       "<span style=\"color: #008080; text-decoration-color: #008080\">│</span>                                                                                                                 <span style=\"color: #008080; text-decoration-color: #008080\">│</span>\n",
       "<span style=\"color: #008080; text-decoration-color: #008080\">│</span>  <span style=\"color: #008080; text-decoration-color: #008080; font-weight: bold\">Crew Execution Started</span>                                                                                         <span style=\"color: #008080; text-decoration-color: #008080\">│</span>\n",
       "<span style=\"color: #008080; text-decoration-color: #008080\">│</span>  <span style=\"color: #c0c0c0; text-decoration-color: #c0c0c0\">Name: </span><span style=\"color: #008080; text-decoration-color: #008080\">crew</span>                                                                                                     <span style=\"color: #008080; text-decoration-color: #008080\">│</span>\n",
       "<span style=\"color: #008080; text-decoration-color: #008080\">│</span>  <span style=\"color: #c0c0c0; text-decoration-color: #c0c0c0\">ID: </span><span style=\"color: #008080; text-decoration-color: #008080\">99e92e1d-548a-4513-a4c9-84a002b15ac8</span>                                                                       <span style=\"color: #008080; text-decoration-color: #008080\">│</span>\n",
       "<span style=\"color: #008080; text-decoration-color: #008080\">│</span>                                                                                                                 <span style=\"color: #008080; text-decoration-color: #008080\">│</span>\n",
       "<span style=\"color: #008080; text-decoration-color: #008080\">│</span>                                                                                                                 <span style=\"color: #008080; text-decoration-color: #008080\">│</span>\n",
       "<span style=\"color: #008080; text-decoration-color: #008080\">╰─────────────────────────────────────────────────────────────────────────────────────────────────────────────────╯</span>\n",
       "</pre>\n"
      ],
      "text/plain": [
       "\u001b[36m╭─\u001b[0m\u001b[36m───────────────────────────────────────────\u001b[0m\u001b[36m Crew Execution Started \u001b[0m\u001b[36m────────────────────────────────────────────\u001b[0m\u001b[36m─╮\u001b[0m\n",
       "\u001b[36m│\u001b[0m                                                                                                                 \u001b[36m│\u001b[0m\n",
       "\u001b[36m│\u001b[0m  \u001b[1;36mCrew Execution Started\u001b[0m                                                                                         \u001b[36m│\u001b[0m\n",
       "\u001b[36m│\u001b[0m  \u001b[37mName: \u001b[0m\u001b[36mcrew\u001b[0m                                                                                                     \u001b[36m│\u001b[0m\n",
       "\u001b[36m│\u001b[0m  \u001b[37mID: \u001b[0m\u001b[36m99e92e1d-548a-4513-a4c9-84a002b15ac8\u001b[0m                                                                       \u001b[36m│\u001b[0m\n",
       "\u001b[36m│\u001b[0m                                                                                                                 \u001b[36m│\u001b[0m\n",
       "\u001b[36m│\u001b[0m                                                                                                                 \u001b[36m│\u001b[0m\n",
       "\u001b[36m╰─────────────────────────────────────────────────────────────────────────────────────────────────────────────────╯\u001b[0m\n"
      ]
     },
     "metadata": {},
     "output_type": "display_data"
    },
    {
     "data": {
      "text/html": [
       "<pre style=\"white-space:pre;overflow-x:auto;line-height:normal;font-family:Menlo,'DejaVu Sans Mono',consolas,'Courier New',monospace\">\n",
       "</pre>\n"
      ],
      "text/plain": [
       "\n"
      ]
     },
     "metadata": {},
     "output_type": "display_data"
    },
    {
     "data": {
      "text/html": [
       "<pre style=\"white-space:pre;overflow-x:auto;line-height:normal;font-family:Menlo,'DejaVu Sans Mono',consolas,'Courier New',monospace\"><span style=\"color: #008080; text-decoration-color: #008080; font-weight: bold\">🚀 Crew: crew</span>\n",
       "└── <span style=\"color: #808000; text-decoration-color: #808000; font-weight: bold\">📋 Task: 1eb4f66e-682a-4e7f-aee7-d29173bb965f</span>\n",
       "    <span style=\"color: #c0c0c0; text-decoration-color: #c0c0c0\">   Status: </span><span style=\"color: #bfbf7f; text-decoration-color: #bfbf7f\">Executing Task...</span>\n",
       "</pre>\n"
      ],
      "text/plain": [
       "\u001b[1;36m🚀 Crew: \u001b[0m\u001b[1;36mcrew\u001b[0m\n",
       "└── \u001b[1;33m📋 Task: 1eb4f66e-682a-4e7f-aee7-d29173bb965f\u001b[0m\n",
       "    \u001b[37m   Status: \u001b[0m\u001b[2;33mExecuting Task...\u001b[0m\n"
      ]
     },
     "metadata": {},
     "output_type": "display_data"
    },
    {
     "data": {
      "text/html": [
       "<pre style=\"white-space:pre;overflow-x:auto;line-height:normal;font-family:Menlo,'DejaVu Sans Mono',consolas,'Courier New',monospace\">\n",
       "</pre>\n"
      ],
      "text/plain": [
       "\n"
      ]
     },
     "metadata": {},
     "output_type": "display_data"
    },
    {
     "data": {
      "text/html": [
       "<pre style=\"white-space:pre;overflow-x:auto;line-height:normal;font-family:Menlo,'DejaVu Sans Mono',consolas,'Courier New',monospace\"><span style=\"color: #008080; text-decoration-color: #008080; font-weight: bold\">🚀 Crew: crew</span>\n",
       "└── <span style=\"color: #808000; text-decoration-color: #808000; font-weight: bold\">📋 Task: 1eb4f66e-682a-4e7f-aee7-d29173bb965f</span>\n",
       "    <span style=\"color: #c0c0c0; text-decoration-color: #c0c0c0\">   Status: </span><span style=\"color: #bfbf7f; text-decoration-color: #bfbf7f\">Executing Task...</span>\n",
       "    └── <span style=\"color: #008000; text-decoration-color: #008000; font-weight: bold\">🤖 Agent: </span><span style=\"color: #008000; text-decoration-color: #008000\">Lead Data Specialist</span>\n",
       "        \n",
       "        <span style=\"color: #c0c0c0; text-decoration-color: #c0c0c0\">    Status: </span><span style=\"color: #008000; text-decoration-color: #008000; font-weight: bold\">In Progress</span>\n",
       "</pre>\n"
      ],
      "text/plain": [
       "\u001b[1;36m🚀 Crew: \u001b[0m\u001b[1;36mcrew\u001b[0m\n",
       "└── \u001b[1;33m📋 Task: 1eb4f66e-682a-4e7f-aee7-d29173bb965f\u001b[0m\n",
       "    \u001b[37m   Status: \u001b[0m\u001b[2;33mExecuting Task...\u001b[0m\n",
       "    └── \u001b[1;32m🤖 Agent: \u001b[0m\u001b[32mLead Data Specialist\u001b[0m\n",
       "        \n",
       "        \u001b[37m    Status: \u001b[0m\u001b[1;32mIn Progress\u001b[0m\n"
      ]
     },
     "metadata": {},
     "output_type": "display_data"
    },
    {
     "data": {
      "text/html": [
       "<pre style=\"white-space:pre;overflow-x:auto;line-height:normal;font-family:Menlo,'DejaVu Sans Mono',consolas,'Courier New',monospace\">\n",
       "</pre>\n"
      ],
      "text/plain": [
       "\n"
      ]
     },
     "metadata": {},
     "output_type": "display_data"
    },
    {
     "name": "stdout",
     "output_type": "stream",
     "text": [
      "\u001b[1m\u001b[95m# Agent:\u001b[00m \u001b[1m\u001b[92mLead Data Specialist\u001b[00m\n",
      "\u001b[95m## Task:\u001b[00m \u001b[92mCollect and analyze the following information about the lead:\n",
      "- Personal Information:\n",
      "  - Name: Obtain the full name of the lead.\n",
      "  - Job Title: Determine the lead's current job title.\n",
      "  - Role Relevance: Assess how relevant the lead's role is to the decision-making process on a scale from 0 to 10.\n",
      "  - Professional Background: Optionally, gather a brief description of the lead's professional background.\n",
      "\n",
      "- Company Information:\n",
      "  - Company Name: Identify the name of the company the lead works for.\n",
      "  - Industry: Determine the industry in which the company operates.\n",
      "  - Company Size: Estimate the size of the company in terms of employee count.\n",
      "  - Revenue: If available, collect information on the annual revenue of the company.\n",
      "  - Market Presence: Evaluate the company's market presence on a scale from 0 to 10.\n",
      "\n",
      "- Our Company and Product:\n",
      "  - Company Name: CrewAI\n",
      "  - Product: Multi-Agent Orchestration Platform\n",
      "  - ICP: Enterprise companies looking into Agentic automation.\n",
      "  - Pitch: We are a platform that allows you to orchestrate AI Agents for automations to any vertical.\n",
      "\n",
      "-Lead Data:\n",
      "  {'name': 'João Moura', 'job_title': 'Director of Engineering', 'company': 'Clearbit', 'email': 'joao@clearbit.com', 'use_case': 'Using AI Agent to do better data enrichment.'}\n",
      "\u001b[00m\n"
     ]
    },
    {
     "data": {
      "text/html": [
       "<pre style=\"white-space:pre;overflow-x:auto;line-height:normal;font-family:Menlo,'DejaVu Sans Mono',consolas,'Courier New',monospace\"><span style=\"color: #008000; text-decoration-color: #008000; font-weight: bold\">🤖 Agent: </span><span style=\"color: #008000; text-decoration-color: #008000\">Lead Data Specialist</span>\n",
       "\n",
       "<span style=\"color: #c0c0c0; text-decoration-color: #c0c0c0\">    Status: </span><span style=\"color: #008000; text-decoration-color: #008000; font-weight: bold\">In Progress</span>\n",
       "└── <span style=\"color: #000080; text-decoration-color: #000080; font-weight: bold\">🧠 </span><span style=\"color: #000080; text-decoration-color: #000080\">Thinking...</span>\n",
       "</pre>\n"
      ],
      "text/plain": [
       "\u001b[1;32m🤖 Agent: \u001b[0m\u001b[32mLead Data Specialist\u001b[0m\n",
       "\n",
       "\u001b[37m    Status: \u001b[0m\u001b[1;32mIn Progress\u001b[0m\n",
       "└── \u001b[1;34m🧠 \u001b[0m\u001b[34mThinking...\u001b[0m\n"
      ]
     },
     "metadata": {},
     "output_type": "display_data"
    },
    {
     "data": {
      "text/html": [
       "<pre style=\"white-space:pre;overflow-x:auto;line-height:normal;font-family:Menlo,'DejaVu Sans Mono',consolas,'Courier New',monospace\">\n",
       "</pre>\n"
      ],
      "text/plain": [
       "\n"
      ]
     },
     "metadata": {},
     "output_type": "display_data"
    },
    {
     "data": {
      "text/html": [
       "<pre style=\"white-space:pre;overflow-x:auto;line-height:normal;font-family:Menlo,'DejaVu Sans Mono',consolas,'Courier New',monospace\"><span style=\"color: #008000; text-decoration-color: #008000; font-weight: bold\">🤖 Agent: </span><span style=\"color: #008000; text-decoration-color: #008000\">Lead Data Specialist</span>\n",
       "\n",
       "<span style=\"color: #c0c0c0; text-decoration-color: #c0c0c0\">    Status: </span><span style=\"color: #008000; text-decoration-color: #008000; font-weight: bold\">In Progress</span>\n",
       "</pre>\n"
      ],
      "text/plain": [
       "\u001b[1;32m🤖 Agent: \u001b[0m\u001b[32mLead Data Specialist\u001b[0m\n",
       "\n",
       "\u001b[37m    Status: \u001b[0m\u001b[1;32mIn Progress\u001b[0m\n"
      ]
     },
     "metadata": {},
     "output_type": "display_data"
    },
    {
     "data": {
      "text/html": [
       "<pre style=\"white-space:pre;overflow-x:auto;line-height:normal;font-family:Menlo,'DejaVu Sans Mono',consolas,'Courier New',monospace\">\n",
       "</pre>\n"
      ],
      "text/plain": [
       "\n"
      ]
     },
     "metadata": {},
     "output_type": "display_data"
    },
    {
     "data": {
      "text/html": [
       "<pre style=\"white-space:pre;overflow-x:auto;line-height:normal;font-family:Menlo,'DejaVu Sans Mono',consolas,'Courier New',monospace\"><span style=\"color: #008000; text-decoration-color: #008000; font-weight: bold\">🤖 Agent: </span><span style=\"color: #008000; text-decoration-color: #008000\">Lead Data Specialist</span>\n",
       "\n",
       "<span style=\"color: #c0c0c0; text-decoration-color: #c0c0c0\">    Status: </span><span style=\"color: #008000; text-decoration-color: #008000; font-weight: bold\">In Progress</span>\n",
       "</pre>\n"
      ],
      "text/plain": [
       "\u001b[1;32m🤖 Agent: \u001b[0m\u001b[32mLead Data Specialist\u001b[0m\n",
       "\n",
       "\u001b[37m    Status: \u001b[0m\u001b[1;32mIn Progress\u001b[0m\n"
      ]
     },
     "metadata": {},
     "output_type": "display_data"
    },
    {
     "data": {
      "text/html": [
       "<pre style=\"white-space:pre;overflow-x:auto;line-height:normal;font-family:Menlo,'DejaVu Sans Mono',consolas,'Courier New',monospace\">\n",
       "</pre>\n"
      ],
      "text/plain": [
       "\n"
      ]
     },
     "metadata": {},
     "output_type": "display_data"
    },
    {
     "name": "stdout",
     "output_type": "stream",
     "text": [
      "\n",
      "\n",
      "\u001b[1m\u001b[95m# Agent:\u001b[00m \u001b[1m\u001b[92mLead Data Specialist\u001b[00m\n",
      "\u001b[95m## Thought:\u001b[00m \u001b[92mI need to gather and analyze information related to the lead, João Moura, who works for Clearbit. First, I'll search for details about his company Clearbit to obtain information such as the industry, company size, revenue, and market presence.\u001b[00m\n",
      "\u001b[95m## Using tool:\u001b[00m \u001b[92mSearch the internet with Serper\u001b[00m\n",
      "\u001b[95m## Tool Input:\u001b[00m \u001b[92m\n",
      "\"{\\\"search_query\\\": \\\"Clearbit company industry, company size, annual revenue, and market presence\\\"}\"\u001b[00m\n",
      "\u001b[95m## Tool Output:\u001b[00m \u001b[92m\n",
      "{'searchParameters': {'q': 'Clearbit company industry, company size, annual revenue, and market presence', 'type': 'search', 'num': 10, 'engine': 'google'}, 'organic': [{'title': 'Leverage 100+ business data attributes - Clearbit', 'link': 'https://clearbit.com/attributes', 'snippet': \"Annual Revenue. The company's annual revenue. This attribute is available for public companies only. $20M. Estimated Annual Revenue. An estimate of the ...\", 'position': 1}, {'title': 'Clearbit: Revenue, Competitors, Alternatives - Growjo', 'link': 'https://growjo.com/company/Clearbit', 'snippet': 'Clearbit top competitors are ZoomInfo, People Data Labs and 6sense and they have annual revenue of $17.8M and 127 employees.', 'position': 2}, {'title': \"Clearbit's Competitors, Revenue, Number of Employees ... - Owler\", 'link': 'https://www.owler.com/company/clearbit', 'snippet': 'Clearbit is a California-based B2B marketing intelligence platform that provides solutions such as conversion tracking and form optimization for enterprises.', 'position': 3}, {'title': 'Fit: firmographic and employment data - Clearbit', 'link': 'https://clearbit.com/resources/books/b2b-data/firmographic-demographic', 'snippet': 'Firmographic data: company information, like size, type, industry, revenue, etc., indicating whether the company is a good fit for your product or service.', 'position': 4}, {'title': 'Clearbit Information - RocketReach', 'link': 'https://rocketreach.co/clearbit-profile_b5a7f4d5f75d56fc', 'snippet': 'Clearbit Questions ; What is the annual revenue of Clearbit? The Clearbit annual revenue was $41.6 million in 2025. ; How many people are employed at Clearbit? 36 ...', 'position': 5}, {'title': 'Clearbit Company Overview, Contact Details & Competitors | LeadIQ', 'link': 'https://leadiq.com/c/clearbit/5a1d842e24000024005ea95d', 'snippet': \"How much revenue does Clearbit generate? Minus sign icon Plus sign icon As of April 2025, Clearbit's annual revenue reached $15M. What is Clearbit's SIC ...\", 'position': 6}, {'title': 'Data enrichment explained (with examples) - Clearbit', 'link': 'https://clearbit.com/blog/data-enrichment-explained', 'snippet': 'Common types of data enrichment attributes: Location; Company size; Estimated annual revenue; Industry, sub-industry, or vertical; Technologies ...', 'position': 7}, {'title': 'Total Addressable Market Calculator (TAM) - Clearbit', 'link': 'https://clearbit.com/resources/tools/tam-calculator', 'snippet': 'Calculate Total Addressable Market for free using our TAM calculator. Build your calculation instantly using our up-to-date database of 50M companies.', 'position': 8}, {'title': 'Searching for healthier revenue — the process behind ... - Clearbit', 'link': 'https://clearbit.com/blog/ideal-customer-profile-process', 'snippet': \"We found that the Pareto principle holds true for us: around 86% of Clearbit's long-term revenue comes from around 18% of the leads that enter our funnel.\", 'position': 9}, {'title': 'How Clearbit hit $31.5M revenue and 907 customers in 2023.', 'link': 'https://getlatka.com/companies/clearbit', 'snippet': 'Clearbit CEO shares how Clearbit grew to $31.5M over the past 10 years. Clearbit has raised $38.5M. See more Clearbit data here.', 'position': 10}], 'peopleAlsoAsk': [{'question': 'What is the revenue of Clearbit?', 'snippet': \"Clearbit Revenue In 2023, Clearbit's revenue reached $31.5M up from $41.4M in 2022. The company previously reported $41.4M in 2022, $3.4M in 2021. Since its launch in 2015, Clearbit has shown consistent revenue growth, reflecting its expanding user base and increasing adoption across various industries.\", 'title': 'How Clearbit hit $31.5M revenue and 907 customers in 2023.', 'link': 'https://getlatka.com/companies/clearbit'}, {'question': 'Where does Clearbit get its data?', 'snippet': 'Where does the data come from? Combining over 250 public and private data sources and sorting through billions of data points, we create marketing intelligence from a variety of sources, including social profiles, company websites, legal filings, crowdsourcing, plus many more.', 'title': 'About Clearbit Data | The sourcing, processing, and delivery of ...', 'link': 'https://clearbit.com/our-data'}, {'question': 'What is clearbit enrichment?', 'snippet': 'Clearbit Enrichment is an API endpoint where you send an email address (required) and other known user attributes and it returns information about the person and company they work for (if that information is available based on the attributes you provide).', 'title': 'Clearbit Enrichment Integration - Twilio Segment', 'link': 'https://segment.com/catalog/integrations/destination/clearbit-enrichment/'}], 'relatedSearches': [{'query': 'Seamless Contacts, L...'}, {'query': 'Clearbit company industry company size annual revenue and market presence example'}, {'query': 'Clearbit company industry company size annual revenue and market presence email'}, {'query': 'Clearbit company industry company size annual revenue and market presence 2021'}, {'query': 'Clearbit company industry company size annual revenue and market presence qui'}, {'query': 'HubSpot Clearbit'}, {'query': 'Clearbit API documentation'}, {'query': 'ZoomInfo'}, {'query': 'Clearbit wiki'}], 'credits': 1}\u001b[00m\n"
     ]
    },
    {
     "data": {
      "text/html": [
       "<pre style=\"white-space:pre;overflow-x:auto;line-height:normal;font-family:Menlo,'DejaVu Sans Mono',consolas,'Courier New',monospace\"><span style=\"color: #008000; text-decoration-color: #008000; font-weight: bold\">🤖 Agent: </span><span style=\"color: #008000; text-decoration-color: #008000\">Lead Data Specialist</span>\n",
       "\n",
       "<span style=\"color: #c0c0c0; text-decoration-color: #c0c0c0\">    Status: </span><span style=\"color: #008000; text-decoration-color: #008000; font-weight: bold\">In Progress</span>\n",
       "└── <span style=\"color: #000080; text-decoration-color: #000080; font-weight: bold\">🧠 </span><span style=\"color: #000080; text-decoration-color: #000080\">Thinking...</span>\n",
       "</pre>\n"
      ],
      "text/plain": [
       "\u001b[1;32m🤖 Agent: \u001b[0m\u001b[32mLead Data Specialist\u001b[0m\n",
       "\n",
       "\u001b[37m    Status: \u001b[0m\u001b[1;32mIn Progress\u001b[0m\n",
       "└── \u001b[1;34m🧠 \u001b[0m\u001b[34mThinking...\u001b[0m\n"
      ]
     },
     "metadata": {},
     "output_type": "display_data"
    },
    {
     "data": {
      "text/html": [
       "<pre style=\"white-space:pre;overflow-x:auto;line-height:normal;font-family:Menlo,'DejaVu Sans Mono',consolas,'Courier New',monospace\">\n",
       "</pre>\n"
      ],
      "text/plain": [
       "\n"
      ]
     },
     "metadata": {},
     "output_type": "display_data"
    },
    {
     "data": {
      "text/html": [
       "<pre style=\"white-space:pre;overflow-x:auto;line-height:normal;font-family:Menlo,'DejaVu Sans Mono',consolas,'Courier New',monospace\"><span style=\"color: #008000; text-decoration-color: #008000; font-weight: bold\">🤖 Agent: </span><span style=\"color: #008000; text-decoration-color: #008000\">Lead Data Specialist</span>\n",
       "\n",
       "<span style=\"color: #c0c0c0; text-decoration-color: #c0c0c0\">    Status: </span><span style=\"color: #008000; text-decoration-color: #008000; font-weight: bold\">In Progress</span>\n",
       "</pre>\n"
      ],
      "text/plain": [
       "\u001b[1;32m🤖 Agent: \u001b[0m\u001b[32mLead Data Specialist\u001b[0m\n",
       "\n",
       "\u001b[37m    Status: \u001b[0m\u001b[1;32mIn Progress\u001b[0m\n"
      ]
     },
     "metadata": {},
     "output_type": "display_data"
    },
    {
     "data": {
      "text/html": [
       "<pre style=\"white-space:pre;overflow-x:auto;line-height:normal;font-family:Menlo,'DejaVu Sans Mono',consolas,'Courier New',monospace\">\n",
       "</pre>\n"
      ],
      "text/plain": [
       "\n"
      ]
     },
     "metadata": {},
     "output_type": "display_data"
    },
    {
     "name": "stdout",
     "output_type": "stream",
     "text": [
      "\n",
      "\n",
      "\u001b[1m\u001b[95m# Agent:\u001b[00m \u001b[1m\u001b[92mLead Data Specialist\u001b[00m\n",
      "\u001b[95m## Final Answer:\u001b[00m \u001b[92m\n",
      "{\n",
      "  \"personal_information\": {\n",
      "    \"name\": \"João Moura\",\n",
      "    \"job_title\": \"Director of Engineering\",\n",
      "    \"role_relevance\": 8,\n",
      "    \"professional_background\": \"João Moura likely has extensive experience in engineering and data analytics, given his role and the company's focus on data enrichment.\"\n",
      "  },\n",
      "  \"company_information\": {\n",
      "    \"company_name\": \"Clearbit\",\n",
      "    \"industry\": \"B2B Marketing Intelligence\",\n",
      "    \"company_size\": 127,\n",
      "    \"revenue\": \"Approximately $31.5 million as of 2023\",\n",
      "    \"market_presence\": 7\n",
      "  }\n",
      "}\u001b[00m\n",
      "\n",
      "\n"
     ]
    },
    {
     "data": {
      "text/html": [
       "<pre style=\"white-space:pre;overflow-x:auto;line-height:normal;font-family:Menlo,'DejaVu Sans Mono',consolas,'Courier New',monospace\"><span style=\"color: #008080; text-decoration-color: #008080; font-weight: bold\">🚀 Crew: crew</span>\n",
       "└── <span style=\"color: #808000; text-decoration-color: #808000; font-weight: bold\">📋 Task: 1eb4f66e-682a-4e7f-aee7-d29173bb965f</span>\n",
       "    <span style=\"color: #c0c0c0; text-decoration-color: #c0c0c0\">   Status: </span><span style=\"color: #bfbf7f; text-decoration-color: #bfbf7f\">Executing Task...</span>\n",
       "    └── <span style=\"color: #008000; text-decoration-color: #008000; font-weight: bold\">🤖 Agent: </span><span style=\"color: #008000; text-decoration-color: #008000\">Lead Data Specialist</span>\n",
       "        \n",
       "        <span style=\"color: #c0c0c0; text-decoration-color: #c0c0c0\">    Status: </span><span style=\"color: #008000; text-decoration-color: #008000; font-weight: bold\">✅ Completed</span>\n",
       "</pre>\n"
      ],
      "text/plain": [
       "\u001b[1;36m🚀 Crew: \u001b[0m\u001b[1;36mcrew\u001b[0m\n",
       "└── \u001b[1;33m📋 Task: 1eb4f66e-682a-4e7f-aee7-d29173bb965f\u001b[0m\n",
       "    \u001b[37m   Status: \u001b[0m\u001b[2;33mExecuting Task...\u001b[0m\n",
       "    └── \u001b[1;32m🤖 Agent: \u001b[0m\u001b[32mLead Data Specialist\u001b[0m\n",
       "        \n",
       "        \u001b[37m    Status: \u001b[0m\u001b[1;32m✅ Completed\u001b[0m\n"
      ]
     },
     "metadata": {},
     "output_type": "display_data"
    },
    {
     "data": {
      "text/html": [
       "<pre style=\"white-space:pre;overflow-x:auto;line-height:normal;font-family:Menlo,'DejaVu Sans Mono',consolas,'Courier New',monospace\">\n",
       "</pre>\n"
      ],
      "text/plain": [
       "\n"
      ]
     },
     "metadata": {},
     "output_type": "display_data"
    },
    {
     "data": {
      "text/html": [
       "<pre style=\"white-space:pre;overflow-x:auto;line-height:normal;font-family:Menlo,'DejaVu Sans Mono',consolas,'Courier New',monospace\"><span style=\"color: #008080; text-decoration-color: #008080; font-weight: bold\">🚀 Crew: crew</span>\n",
       "└── <span style=\"color: #008000; text-decoration-color: #008000; font-weight: bold\">📋 Task: 1eb4f66e-682a-4e7f-aee7-d29173bb965f</span>\n",
       "    <span style=\"color: #c0c0c0; text-decoration-color: #c0c0c0\">   Assigned to: </span><span style=\"color: #008000; text-decoration-color: #008000\">Lead Data Specialist</span>\n",
       "    \n",
       "    <span style=\"color: #c0c0c0; text-decoration-color: #c0c0c0\">   Status: </span><span style=\"color: #008000; text-decoration-color: #008000; font-weight: bold\">✅ Completed</span>\n",
       "    └── <span style=\"color: #008000; text-decoration-color: #008000; font-weight: bold\">🤖 Agent: </span><span style=\"color: #008000; text-decoration-color: #008000\">Lead Data Specialist</span>\n",
       "        \n",
       "        <span style=\"color: #c0c0c0; text-decoration-color: #c0c0c0\">    Status: </span><span style=\"color: #008000; text-decoration-color: #008000; font-weight: bold\">✅ Completed</span>\n",
       "</pre>\n"
      ],
      "text/plain": [
       "\u001b[1;36m🚀 Crew: \u001b[0m\u001b[1;36mcrew\u001b[0m\n",
       "└── \u001b[1;32m📋 Task: 1eb4f66e-682a-4e7f-aee7-d29173bb965f\u001b[0m\n",
       "    \u001b[37m   Assigned to: \u001b[0m\u001b[32mLead Data Specialist\u001b[0m\n",
       "    \n",
       "    \u001b[37m   Status: \u001b[0m\u001b[1;32m✅ Completed\u001b[0m\n",
       "    └── \u001b[1;32m🤖 Agent: \u001b[0m\u001b[32mLead Data Specialist\u001b[0m\n",
       "        \n",
       "        \u001b[37m    Status: \u001b[0m\u001b[1;32m✅ Completed\u001b[0m\n"
      ]
     },
     "metadata": {},
     "output_type": "display_data"
    },
    {
     "data": {
      "text/html": [
       "<pre style=\"white-space:pre;overflow-x:auto;line-height:normal;font-family:Menlo,'DejaVu Sans Mono',consolas,'Courier New',monospace\"><span style=\"color: #008000; text-decoration-color: #008000\">╭──────────────────────────────────────────────── Task Completion ────────────────────────────────────────────────╮</span>\n",
       "<span style=\"color: #008000; text-decoration-color: #008000\">│</span>                                                                                                                 <span style=\"color: #008000; text-decoration-color: #008000\">│</span>\n",
       "<span style=\"color: #008000; text-decoration-color: #008000\">│</span>  <span style=\"color: #008000; text-decoration-color: #008000; font-weight: bold\">Task Completed</span>                                                                                                 <span style=\"color: #008000; text-decoration-color: #008000\">│</span>\n",
       "<span style=\"color: #008000; text-decoration-color: #008000\">│</span>  <span style=\"color: #c0c0c0; text-decoration-color: #c0c0c0\">Name: </span><span style=\"color: #008000; text-decoration-color: #008000\">1eb4f66e-682a-4e7f-aee7-d29173bb965f</span>                                                                     <span style=\"color: #008000; text-decoration-color: #008000\">│</span>\n",
       "<span style=\"color: #008000; text-decoration-color: #008000\">│</span>  <span style=\"color: #c0c0c0; text-decoration-color: #c0c0c0\">Agent: </span><span style=\"color: #008000; text-decoration-color: #008000\">Lead Data Specialist</span>                                                                                    <span style=\"color: #008000; text-decoration-color: #008000\">│</span>\n",
       "<span style=\"color: #008000; text-decoration-color: #008000\">│</span>                                                                                                                 <span style=\"color: #008000; text-decoration-color: #008000\">│</span>\n",
       "<span style=\"color: #008000; text-decoration-color: #008000\">│</span>                                                                                                                 <span style=\"color: #008000; text-decoration-color: #008000\">│</span>\n",
       "<span style=\"color: #008000; text-decoration-color: #008000\">│</span>                                                                                                                 <span style=\"color: #008000; text-decoration-color: #008000\">│</span>\n",
       "<span style=\"color: #008000; text-decoration-color: #008000\">╰─────────────────────────────────────────────────────────────────────────────────────────────────────────────────╯</span>\n",
       "</pre>\n"
      ],
      "text/plain": [
       "\u001b[32m╭─\u001b[0m\u001b[32m───────────────────────────────────────────────\u001b[0m\u001b[32m Task Completion \u001b[0m\u001b[32m───────────────────────────────────────────────\u001b[0m\u001b[32m─╮\u001b[0m\n",
       "\u001b[32m│\u001b[0m                                                                                                                 \u001b[32m│\u001b[0m\n",
       "\u001b[32m│\u001b[0m  \u001b[1;32mTask Completed\u001b[0m                                                                                                 \u001b[32m│\u001b[0m\n",
       "\u001b[32m│\u001b[0m  \u001b[37mName: \u001b[0m\u001b[32m1eb4f66e-682a-4e7f-aee7-d29173bb965f\u001b[0m                                                                     \u001b[32m│\u001b[0m\n",
       "\u001b[32m│\u001b[0m  \u001b[37mAgent: \u001b[0m\u001b[32mLead Data Specialist\u001b[0m                                                                                    \u001b[32m│\u001b[0m\n",
       "\u001b[32m│\u001b[0m                                                                                                                 \u001b[32m│\u001b[0m\n",
       "\u001b[32m│\u001b[0m                                                                                                                 \u001b[32m│\u001b[0m\n",
       "\u001b[32m│\u001b[0m                                                                                                                 \u001b[32m│\u001b[0m\n",
       "\u001b[32m╰─────────────────────────────────────────────────────────────────────────────────────────────────────────────────╯\u001b[0m\n"
      ]
     },
     "metadata": {},
     "output_type": "display_data"
    },
    {
     "data": {
      "text/html": [
       "<pre style=\"white-space:pre;overflow-x:auto;line-height:normal;font-family:Menlo,'DejaVu Sans Mono',consolas,'Courier New',monospace\">\n",
       "</pre>\n"
      ],
      "text/plain": [
       "\n"
      ]
     },
     "metadata": {},
     "output_type": "display_data"
    },
    {
     "data": {
      "text/html": [
       "<pre style=\"white-space:pre;overflow-x:auto;line-height:normal;font-family:Menlo,'DejaVu Sans Mono',consolas,'Courier New',monospace\"><span style=\"color: #008080; text-decoration-color: #008080; font-weight: bold\">🚀 Crew: crew</span>\n",
       "├── <span style=\"color: #008000; text-decoration-color: #008000; font-weight: bold\">📋 Task: 1eb4f66e-682a-4e7f-aee7-d29173bb965f</span>\n",
       "│   <span style=\"color: #c0c0c0; text-decoration-color: #c0c0c0\">   Assigned to: </span><span style=\"color: #008000; text-decoration-color: #008000\">Lead Data Specialist</span>\n",
       "│   \n",
       "│   <span style=\"color: #c0c0c0; text-decoration-color: #c0c0c0\">   Status: </span><span style=\"color: #008000; text-decoration-color: #008000; font-weight: bold\">✅ Completed</span>\n",
       "│   └── <span style=\"color: #008000; text-decoration-color: #008000; font-weight: bold\">🤖 Agent: </span><span style=\"color: #008000; text-decoration-color: #008000\">Lead Data Specialist</span>\n",
       "│       \n",
       "│       <span style=\"color: #c0c0c0; text-decoration-color: #c0c0c0\">    Status: </span><span style=\"color: #008000; text-decoration-color: #008000; font-weight: bold\">✅ Completed</span>\n",
       "└── <span style=\"color: #808000; text-decoration-color: #808000; font-weight: bold\">📋 Task: 19645590-28fb-4539-a6a4-d6547b86b6b1</span>\n",
       "    <span style=\"color: #c0c0c0; text-decoration-color: #c0c0c0\">   Status: </span><span style=\"color: #bfbf7f; text-decoration-color: #bfbf7f\">Executing Task...</span>\n",
       "</pre>\n"
      ],
      "text/plain": [
       "\u001b[1;36m🚀 Crew: \u001b[0m\u001b[1;36mcrew\u001b[0m\n",
       "├── \u001b[1;32m📋 Task: 1eb4f66e-682a-4e7f-aee7-d29173bb965f\u001b[0m\n",
       "│   \u001b[37m   Assigned to: \u001b[0m\u001b[32mLead Data Specialist\u001b[0m\n",
       "│   \n",
       "│   \u001b[37m   Status: \u001b[0m\u001b[1;32m✅ Completed\u001b[0m\n",
       "│   └── \u001b[1;32m🤖 Agent: \u001b[0m\u001b[32mLead Data Specialist\u001b[0m\n",
       "│       \n",
       "│       \u001b[37m    Status: \u001b[0m\u001b[1;32m✅ Completed\u001b[0m\n",
       "└── \u001b[1;33m📋 Task: 19645590-28fb-4539-a6a4-d6547b86b6b1\u001b[0m\n",
       "    \u001b[37m   Status: \u001b[0m\u001b[2;33mExecuting Task...\u001b[0m\n"
      ]
     },
     "metadata": {},
     "output_type": "display_data"
    },
    {
     "data": {
      "text/html": [
       "<pre style=\"white-space:pre;overflow-x:auto;line-height:normal;font-family:Menlo,'DejaVu Sans Mono',consolas,'Courier New',monospace\">\n",
       "</pre>\n"
      ],
      "text/plain": [
       "\n"
      ]
     },
     "metadata": {},
     "output_type": "display_data"
    },
    {
     "data": {
      "text/html": [
       "<pre style=\"white-space:pre;overflow-x:auto;line-height:normal;font-family:Menlo,'DejaVu Sans Mono',consolas,'Courier New',monospace\"><span style=\"color: #008080; text-decoration-color: #008080; font-weight: bold\">🚀 Crew: crew</span>\n",
       "├── <span style=\"color: #008000; text-decoration-color: #008000; font-weight: bold\">📋 Task: 1eb4f66e-682a-4e7f-aee7-d29173bb965f</span>\n",
       "│   <span style=\"color: #c0c0c0; text-decoration-color: #c0c0c0\">   Assigned to: </span><span style=\"color: #008000; text-decoration-color: #008000\">Lead Data Specialist</span>\n",
       "│   \n",
       "│   <span style=\"color: #c0c0c0; text-decoration-color: #c0c0c0\">   Status: </span><span style=\"color: #008000; text-decoration-color: #008000; font-weight: bold\">✅ Completed</span>\n",
       "│   └── <span style=\"color: #008000; text-decoration-color: #008000; font-weight: bold\">🤖 Agent: </span><span style=\"color: #008000; text-decoration-color: #008000\">Lead Data Specialist</span>\n",
       "│       \n",
       "│       <span style=\"color: #c0c0c0; text-decoration-color: #c0c0c0\">    Status: </span><span style=\"color: #008000; text-decoration-color: #008000; font-weight: bold\">✅ Completed</span>\n",
       "└── <span style=\"color: #808000; text-decoration-color: #808000; font-weight: bold\">📋 Task: 19645590-28fb-4539-a6a4-d6547b86b6b1</span>\n",
       "    <span style=\"color: #c0c0c0; text-decoration-color: #c0c0c0\">   Status: </span><span style=\"color: #bfbf7f; text-decoration-color: #bfbf7f\">Executing Task...</span>\n",
       "    └── <span style=\"color: #008000; text-decoration-color: #008000; font-weight: bold\">🤖 Agent: </span><span style=\"color: #008000; text-decoration-color: #008000\">Cultural Fit Analyst</span>\n",
       "        \n",
       "        <span style=\"color: #c0c0c0; text-decoration-color: #c0c0c0\">    Status: </span><span style=\"color: #008000; text-decoration-color: #008000; font-weight: bold\">In Progress</span>\n",
       "</pre>\n"
      ],
      "text/plain": [
       "\u001b[1;36m🚀 Crew: \u001b[0m\u001b[1;36mcrew\u001b[0m\n",
       "├── \u001b[1;32m📋 Task: 1eb4f66e-682a-4e7f-aee7-d29173bb965f\u001b[0m\n",
       "│   \u001b[37m   Assigned to: \u001b[0m\u001b[32mLead Data Specialist\u001b[0m\n",
       "│   \n",
       "│   \u001b[37m   Status: \u001b[0m\u001b[1;32m✅ Completed\u001b[0m\n",
       "│   └── \u001b[1;32m🤖 Agent: \u001b[0m\u001b[32mLead Data Specialist\u001b[0m\n",
       "│       \n",
       "│       \u001b[37m    Status: \u001b[0m\u001b[1;32m✅ Completed\u001b[0m\n",
       "└── \u001b[1;33m📋 Task: 19645590-28fb-4539-a6a4-d6547b86b6b1\u001b[0m\n",
       "    \u001b[37m   Status: \u001b[0m\u001b[2;33mExecuting Task...\u001b[0m\n",
       "    └── \u001b[1;32m🤖 Agent: \u001b[0m\u001b[32mCultural Fit Analyst\u001b[0m\n",
       "        \n",
       "        \u001b[37m    Status: \u001b[0m\u001b[1;32mIn Progress\u001b[0m\n"
      ]
     },
     "metadata": {},
     "output_type": "display_data"
    },
    {
     "data": {
      "text/html": [
       "<pre style=\"white-space:pre;overflow-x:auto;line-height:normal;font-family:Menlo,'DejaVu Sans Mono',consolas,'Courier New',monospace\">\n",
       "</pre>\n"
      ],
      "text/plain": [
       "\n"
      ]
     },
     "metadata": {},
     "output_type": "display_data"
    },
    {
     "name": "stdout",
     "output_type": "stream",
     "text": [
      "\u001b[1m\u001b[95m# Agent:\u001b[00m \u001b[1m\u001b[92mCultural Fit Analyst\u001b[00m\n",
      "\u001b[95m## Task:\u001b[00m \u001b[92mAssess the cultural alignment between the lead's company and our organization by considering the following:\n",
      "  - Cultural Values: Analyze the company's publicly stated values and internal culture (e.g., innovation, sustainability, employee engagement).\n",
      "  - Strategic Alignment: Evaluate how well the company's goals and mission align with our organization's strategic objectives.\n",
      "  - Qualitative Scoring: Assign a qualitative score (0-10) representing the overall cultural fit.\n",
      "  - Comments: Provide additional comments or observations that support the cultural fit score.\n",
      "\n",
      "- Our Company and Product:\n",
      "  - Company Name: CrewAI\n",
      "  - Product: Multi-Agent Orchestration Platform\n",
      "  - ICP: Enterprise companies looking into Agentic automation.\n",
      "  - Pitch: We are a platform that allows you to orchestrate AI Agents for automations to any vertical.\n",
      "\n",
      "- Lead Data:\n",
      "  {'name': 'João Moura', 'job_title': 'Director of Engineering', 'company': 'Clearbit', 'email': 'joao@clearbit.com', 'use_case': 'Using AI Agent to do better data enrichment.'}\n",
      "\u001b[00m\n"
     ]
    },
    {
     "data": {
      "text/html": [
       "<pre style=\"white-space:pre;overflow-x:auto;line-height:normal;font-family:Menlo,'DejaVu Sans Mono',consolas,'Courier New',monospace\"><span style=\"color: #008000; text-decoration-color: #008000; font-weight: bold\">🤖 Agent: </span><span style=\"color: #008000; text-decoration-color: #008000\">Cultural Fit Analyst</span>\n",
       "\n",
       "<span style=\"color: #c0c0c0; text-decoration-color: #c0c0c0\">    Status: </span><span style=\"color: #008000; text-decoration-color: #008000; font-weight: bold\">In Progress</span>\n",
       "</pre>\n"
      ],
      "text/plain": [
       "\u001b[1;32m🤖 Agent: \u001b[0m\u001b[32mCultural Fit Analyst\u001b[0m\n",
       "\n",
       "\u001b[37m    Status: \u001b[0m\u001b[1;32mIn Progress\u001b[0m\n"
      ]
     },
     "metadata": {},
     "output_type": "display_data"
    },
    {
     "data": {
      "text/html": [
       "<pre style=\"white-space:pre;overflow-x:auto;line-height:normal;font-family:Menlo,'DejaVu Sans Mono',consolas,'Courier New',monospace\">\n",
       "</pre>\n"
      ],
      "text/plain": [
       "\n"
      ]
     },
     "metadata": {},
     "output_type": "display_data"
    },
    {
     "name": "stdout",
     "output_type": "stream",
     "text": [
      "\n",
      "\n",
      "\u001b[1m\u001b[95m# Agent:\u001b[00m \u001b[1m\u001b[92mCultural Fit Analyst\u001b[00m\n",
      "\u001b[95m## Thought:\u001b[00m \u001b[92mI need to gather information about Clearbit's cultural values, mission, and strategic objectives to assess the cultural alignment with CrewAI.\u001b[00m\n",
      "\u001b[95m## Using tool:\u001b[00m \u001b[92mSearch the internet with Serper\u001b[00m\n",
      "\u001b[95m## Tool Input:\u001b[00m \u001b[92m\n",
      "\"{\\\"search_query\\\": \\\"Clearbit company culture values mission statement\\\"}\"\u001b[00m\n",
      "\u001b[95m## Tool Output:\u001b[00m \u001b[92m\n",
      "{'searchParameters': {'q': 'Clearbit company culture values mission statement', 'type': 'search', 'num': 10, 'engine': 'google'}, 'organic': [{'title': \"Defining Clearbit's company values\", 'link': 'https://clearbit.com/blog/company-values', 'snippet': \"Values provide a constitution for company culture, a rubric for how you work together. Here's how Clearbit came up with our company values ...\", 'position': 1, 'sitelinks': [{'title': 'Surfacing Values, From The...', 'link': 'https://clearbit.com/blog/company-values#:~:text=Surfacing%20values%2C%20from%20the%20bottom%20up'}, {'title': \"Clearbit's Values\", 'link': 'https://clearbit.com/blog/company-values#:~:text=Clearbit%27s%20Values'}, {'title': 'So How Do We Actually Use...', 'link': 'https://clearbit.com/blog/company-values#:~:text=So%20how%20do%20we%20actually%20use%20our%20values%3F'}]}, {'title': 'Clearbit Mission, Values, Culture & Jobs - Teal', 'link': 'https://www.tealhq.com/company/clearbit', 'snippet': 'Continuous Improvement: Clearbit fosters a culture of continuous improvement, encouraging employees to learn, grow, and innovate to drive the company forward.', 'position': 2}, {'title': 'A message from our CEO - Clearbit', 'link': 'https://clearbit.com/blog/company-update', 'snippet': \"Today we are announcing that Alex MacCaw, Clearbit's co-founder and CEO, is moving to a chairman of the board position.\", 'position': 3}, {'title': \"Values interviews - The Manager's Handbook\", 'link': 'https://themanagershandbook.com/hiring-and-onboarding/interviewing/values-interviews', 'snippet': 'At Clearbit, we place a particular emphasis on building a close-knit team. We want to work with people whom we also enjoy spending time with.', 'position': 4}, {'title': 'Clearbit enters agreement to join forces with HubSpot', 'link': 'https://clearbit.com/blog/clearbit-enters-agreement-to-join-hubspot', 'snippet': \"Clearbit has made it its mission to collect rich data about millions of companies. HubSpot's customer platform combined with Clearbit's data ...\", 'position': 5}, {'title': 'A Brief History of Clearbit – CanvasBusinessModel.com', 'link': 'https://canvasbusinessmodel.com/blogs/brief-history/clearbit-brief-history?srsltid=AfmBOoqBPDu9ja87Si8YbQ1PXVPDNAmCzoTsqM1sLqAjohumNL4Eb_3P', 'snippet': \"Clearbit's commitment to innovation and customer satisfaction has been instrumental in its growth and success. The company's dedication to ...\", 'position': 6}, {'title': 'Welcoming Clearbit to the HubSpot Team', 'link': 'https://www.hubspot.com/company-news/welcoming-clearbit-to-hubspot', 'snippet': \"Clearbit's CEO and CTO, Matt and Harlow, have a bold mission to leverage AI to power customer insights and are passionate about data. In all our ...\", 'position': 7}, {'title': 'Crushing Corporate Culture: Lessons from Five Companies Who Do ...', 'link': 'https://josephcwells.com/blog/corporate-culture', 'snippet': 'Forget mission statements, manifestos, and jargony lists of company values. Our purpose is simple and can be stated in 1 sentence: Gumroad helps creators ...', 'position': 8, 'sitelinks': [{'title': 'Basecamp On Values And...', 'link': 'https://josephcwells.com/blog/corporate-culture#:~:text=Basecamp%20on%20Values%20and%20Communication'}, {'title': 'Gumroad On Defining What...', 'link': 'https://josephcwells.com/blog/corporate-culture#:~:text=Gumroad%20on%20Defining%20What%20They%20Do'}, {'title': 'Clearbit On Training...', 'link': 'https://josephcwells.com/blog/corporate-culture#:~:text=Clearbit%20on%20Training%20Managers'}]}, {'title': 'Clearbit Reviews: Pros And Cons of Working At Clearbit - Glassdoor', 'link': 'https://www.glassdoor.com/Reviews/Clearbit-Reviews-E2208101.htm', 'snippet': 'Employees also rated Clearbit 4.1 out of 5 for work life balance, 3.9 for culture and values and 3.6 for career opportunities. What are the pros and cons of ...', 'position': 9}], 'peopleAlsoAsk': [{'question': 'What is a company culture values and mission statement?', 'snippet': \"A mission statement describes a company's goals and purpose, or core values, which detail the beliefs that guide decisions. A workplace culture statement, on the other hand, captures the unique internal dynamics of a company. The mission statement and core values provide strategic direction.\", 'title': 'Describing Culture: 20 Examples of Company Culture Statements - Gable', 'link': 'https://www.gable.to/blog/post/company-culture-statement-examples'}, {'question': 'Who are the founders of Clearbit?', 'snippet': \"Clearbit founder Alex MacCaw's NEW anti-VC startup - PLG123.\", 'title': \"Clearbit founder Alex MacCaw's NEW anti-VC startup - PLG123\", 'link': 'https://openviewpartners.com/product-led-growth/?wchannelid=fipmxtzbdl&wmediaid=ndilscdd8j'}], 'relatedSearches': [{'query': 'Lusha Systems Inc.'}, {'query': 'Clearbit company culture values mission statement sample'}, {'query': 'HubSpot Clearbit acquisition price'}, {'query': 'Clearbit revenue'}, {'query': 'HubSpot acquires Clearbit'}, {'query': 'Clearbit HubSpot integration'}, {'query': 'Clearbit crunchbase'}, {'query': 'Clearbit API'}, {'query': 'HubSpot Breeze Intelligence'}], 'credits': 1}\u001b[00m\n"
     ]
    },
    {
     "data": {
      "text/html": [
       "<pre style=\"white-space:pre;overflow-x:auto;line-height:normal;font-family:Menlo,'DejaVu Sans Mono',consolas,'Courier New',monospace\"><span style=\"color: #008000; text-decoration-color: #008000; font-weight: bold\">🤖 Agent: </span><span style=\"color: #008000; text-decoration-color: #008000\">Cultural Fit Analyst</span>\n",
       "\n",
       "<span style=\"color: #c0c0c0; text-decoration-color: #c0c0c0\">    Status: </span><span style=\"color: #008000; text-decoration-color: #008000; font-weight: bold\">In Progress</span>\n",
       "└── <span style=\"color: #000080; text-decoration-color: #000080; font-weight: bold\">🧠 </span><span style=\"color: #000080; text-decoration-color: #000080\">Thinking...</span>\n",
       "</pre>\n"
      ],
      "text/plain": [
       "\u001b[1;32m🤖 Agent: \u001b[0m\u001b[32mCultural Fit Analyst\u001b[0m\n",
       "\n",
       "\u001b[37m    Status: \u001b[0m\u001b[1;32mIn Progress\u001b[0m\n",
       "└── \u001b[1;34m🧠 \u001b[0m\u001b[34mThinking...\u001b[0m\n"
      ]
     },
     "metadata": {},
     "output_type": "display_data"
    },
    {
     "data": {
      "text/html": [
       "<pre style=\"white-space:pre;overflow-x:auto;line-height:normal;font-family:Menlo,'DejaVu Sans Mono',consolas,'Courier New',monospace\">\n",
       "</pre>\n"
      ],
      "text/plain": [
       "\n"
      ]
     },
     "metadata": {},
     "output_type": "display_data"
    },
    {
     "data": {
      "text/html": [
       "<pre style=\"white-space:pre;overflow-x:auto;line-height:normal;font-family:Menlo,'DejaVu Sans Mono',consolas,'Courier New',monospace\"><span style=\"color: #008000; text-decoration-color: #008000; font-weight: bold\">🤖 Agent: </span><span style=\"color: #008000; text-decoration-color: #008000\">Cultural Fit Analyst</span>\n",
       "\n",
       "<span style=\"color: #c0c0c0; text-decoration-color: #c0c0c0\">    Status: </span><span style=\"color: #008000; text-decoration-color: #008000; font-weight: bold\">In Progress</span>\n",
       "</pre>\n"
      ],
      "text/plain": [
       "\u001b[1;32m🤖 Agent: \u001b[0m\u001b[32mCultural Fit Analyst\u001b[0m\n",
       "\n",
       "\u001b[37m    Status: \u001b[0m\u001b[1;32mIn Progress\u001b[0m\n"
      ]
     },
     "metadata": {},
     "output_type": "display_data"
    },
    {
     "data": {
      "text/html": [
       "<pre style=\"white-space:pre;overflow-x:auto;line-height:normal;font-family:Menlo,'DejaVu Sans Mono',consolas,'Courier New',monospace\">\n",
       "</pre>\n"
      ],
      "text/plain": [
       "\n"
      ]
     },
     "metadata": {},
     "output_type": "display_data"
    },
    {
     "data": {
      "text/html": [
       "<pre style=\"white-space:pre;overflow-x:auto;line-height:normal;font-family:Menlo,'DejaVu Sans Mono',consolas,'Courier New',monospace\"><span style=\"color: #008000; text-decoration-color: #008000; font-weight: bold\">🤖 Agent: </span><span style=\"color: #008000; text-decoration-color: #008000\">Cultural Fit Analyst</span>\n",
       "\n",
       "<span style=\"color: #c0c0c0; text-decoration-color: #c0c0c0\">    Status: </span><span style=\"color: #008000; text-decoration-color: #008000; font-weight: bold\">In Progress</span>\n",
       "</pre>\n"
      ],
      "text/plain": [
       "\u001b[1;32m🤖 Agent: \u001b[0m\u001b[32mCultural Fit Analyst\u001b[0m\n",
       "\n",
       "\u001b[37m    Status: \u001b[0m\u001b[1;32mIn Progress\u001b[0m\n"
      ]
     },
     "metadata": {},
     "output_type": "display_data"
    },
    {
     "data": {
      "text/html": [
       "<pre style=\"white-space:pre;overflow-x:auto;line-height:normal;font-family:Menlo,'DejaVu Sans Mono',consolas,'Courier New',monospace\">\n",
       "</pre>\n"
      ],
      "text/plain": [
       "\n"
      ]
     },
     "metadata": {},
     "output_type": "display_data"
    },
    {
     "name": "stdout",
     "output_type": "stream",
     "text": [
      "\n",
      "\n",
      "\u001b[1m\u001b[95m# Agent:\u001b[00m \u001b[1m\u001b[92mCultural Fit Analyst\u001b[00m\n",
      "\u001b[95m## Thought:\u001b[00m \u001b[92mNow that I have accessed multiple sources regarding Clearbit's company culture and values, I will analyze that information to draw parallels with CrewAI.\u001b[00m\n",
      "\u001b[95m## Using tool:\u001b[00m \u001b[92mRead website content\u001b[00m\n",
      "\u001b[95m## Tool Input:\u001b[00m \u001b[92m\n",
      "\"{\\\"website_url\\\": \\\"https://clearbit.com/blog/company-values\\\"}\"\u001b[00m\n",
      "\u001b[95m## Tool Output:\u001b[00m \u001b[92m\n",
      "Defining Clearbit's company values Clearbit customer login Blog > Defining Clearbit's company values Defining Clearbit's company values Matt Sornson | August 12, 2019 | 4 minute read In mid-2018, Clearbit was hitting an inflection point.\n",
      "Since our founding in 2014, we'd been running as a small, hyper-efficient, and profitable business. Just about everyone in the company would weigh in on new hires, and every new employee spent significant time with the entire leadership team to understand what our values were. This organic model started to show some cracks as we started to scale.\n",
      "At thirty-odd employees, Clearbit did already have a real set of values, even if not everyone could verbalize them. In line with how we were building the company — deliberately and with a close eye on creating a culture we all wanted to be a part of — it was time to get official. The challenge: to codify and articulate our internal operating principles.\n",
      "We've effectively tripled our team, while maintaining an incredibly high bar and preserving the culture we all cherish. Choosing and then using our values has been instrumental in that success.\n",
      "Surfacing values, from the bottom up\n",
      "We believe that values should be a reflection of the entire team, not just the CEO or leadership. So when we set out to formalize Clearbit's, we started by asking the team.\n",
      "We sent out a survey to every employee, asking them to submit up to three values that they thought best described our culture. Of equal importance, we asked that they nominate the person at Clearbit they thought best exemplified that value.\n",
      "We were expecting to see a wide array of suggestions and had anticipated that the responses would require some serious workshopping to produce a final set. Incredibly, from the over 70 value suggestions, ALL of them could be grouped into 7 themes.\n",
      "being customer centric / empathy for customers\n",
      "learning\n",
      "excellence / hard work\n",
      "self-sufficiency\n",
      "fun\n",
      "honest communication\n",
      "team\n",
      "We took this list and reworked them to sound as Clearbit-y as possible, which ended up being really easy as we had dozens of variations pre-written by everyone who had submitted ideas. We also combined two of the suggestions, as excellence and learning are inseparable in our minds.\n",
      "Clearbit's Values\n",
      "Care (Give a shit) . Empathize with customers. Take the time to understand their frustrations, needs, and desires.\n",
      "Craft (Master it) . Own your craft. Never stop learning and improving.\n",
      "Team (Work together) . Teamwork makes the dream work. Fill gaps. There’s no such thing as “it’s not my job.”\n",
      "Truth (Say it) . Be upfront and candid. Say it like it is. Hold yourself and others accountable.\n",
      "Initiative (Be resourceful) . Don’t wait for permission. Figure it out — or figure out who can.\n",
      "Fun (Have it) . Don’t take yourself too seriously — life is short.\n",
      "So how do we actually use our values?\n",
      "Even the most thoughtfully-produced company values don't matter unless they're put into practice and used tactically. And when they're not actively referenced and applied across the company, they become an out-of-mind list that merely exists as a slide or rarely-opened document.\n",
      "Hiring rubric \n",
      "We built value testing into our hiring rubric and created semi-standardized questions that let us investigate without having to ask questions like, \"are you a team player?\".\n",
      "Person of the week \n",
      "Every week at our all-hands meeting, we highlight one value and a person whose actions best exemplifies that value. This regular practice helps new people get acclimated and gives shape to a list of values they see in their onboarding docs. It also regularly reinforces the values across the company, providing repetition around what they are and a nice moment of recognition and appreciation for team members.\n",
      "Feedback \n",
      "We take feedback seriously here at Clearbit and have worked to weave our values into that process — both by celebrating when someone really is leaning into a value and recognizing the learning moments when we fail to (which we all do sometimes).\n",
      "Values are alive!\n",
      "Our list of values is a living document that will evolve and change as we do. A company culture inevitably changes, and our values need to grow with us. If the values don't align or resonate with the individual values of our team, it's time to change.\n",
      "results of an internal survey measuring alignment between personal and company values\n",
      "Having integrity with our values is what builds trust in our relationships, and because we believe trust is the most basic building block of any organization, we commit to checking back on an annual basis to make sure we have values that truly represent our culture.\n",
      "It's easy to discount corporate values as just lip service and nice words to stick on the wall. However, when carefully created and implemented, values provide a constitution for your company culture, a true rubric that helps you hire, fire, promote, retain, and celebrate your team.\n",
      "Company The Standard in B2B Data The all new Clearbit. AI powered and free to get started. Create a Free Account The all new Clearbit. Rebuilt with AI and free to try. Company by Matt Sornson   on September 06, 2023 In the last 4 months we’ve gone AI Native and shipped over 100 improvements to these datasets. With LLMs and some data black magic we've significantly increased our coverage and accuracy, and released a few all-new attributes.\n",
      "Read more Our promise to be the best in B2B data Company by Matt Sornson   on July 11, 2023 Clearbit Global Coverage – delivering on our promise to be the best in B2B data.\n",
      "International coverage on companies, contact, and buying intent. Millions of new companies, 250M new contacts, and so much more. Read more The Standard in B2B Data Now reinvented with Artificial Intelligence—Clearbit is the first AI Native Data Provider. Enrich your records, reveal buying intent, and connect with your ideal customers. Create a Free Account Resources Blog Free Tools Guides Books Webinars Newsletter Release Notes Information Data Attributes Support Company About Us Careers Press Customers Trust Center Privacy Policy Status Support Legal Do Not Sell My Info Manage Cookies © 2025 Clearbit\u001b[00m\n"
     ]
    },
    {
     "data": {
      "text/html": [
       "<pre style=\"white-space:pre;overflow-x:auto;line-height:normal;font-family:Menlo,'DejaVu Sans Mono',consolas,'Courier New',monospace\"><span style=\"color: #008000; text-decoration-color: #008000; font-weight: bold\">🤖 Agent: </span><span style=\"color: #008000; text-decoration-color: #008000\">Cultural Fit Analyst</span>\n",
       "\n",
       "<span style=\"color: #c0c0c0; text-decoration-color: #c0c0c0\">    Status: </span><span style=\"color: #008000; text-decoration-color: #008000; font-weight: bold\">In Progress</span>\n",
       "└── <span style=\"color: #000080; text-decoration-color: #000080; font-weight: bold\">🧠 </span><span style=\"color: #000080; text-decoration-color: #000080\">Thinking...</span>\n",
       "</pre>\n"
      ],
      "text/plain": [
       "\u001b[1;32m🤖 Agent: \u001b[0m\u001b[32mCultural Fit Analyst\u001b[0m\n",
       "\n",
       "\u001b[37m    Status: \u001b[0m\u001b[1;32mIn Progress\u001b[0m\n",
       "└── \u001b[1;34m🧠 \u001b[0m\u001b[34mThinking...\u001b[0m\n"
      ]
     },
     "metadata": {},
     "output_type": "display_data"
    },
    {
     "data": {
      "text/html": [
       "<pre style=\"white-space:pre;overflow-x:auto;line-height:normal;font-family:Menlo,'DejaVu Sans Mono',consolas,'Courier New',monospace\">\n",
       "</pre>\n"
      ],
      "text/plain": [
       "\n"
      ]
     },
     "metadata": {},
     "output_type": "display_data"
    },
    {
     "data": {
      "text/html": [
       "<pre style=\"white-space:pre;overflow-x:auto;line-height:normal;font-family:Menlo,'DejaVu Sans Mono',consolas,'Courier New',monospace\"><span style=\"color: #008000; text-decoration-color: #008000; font-weight: bold\">🤖 Agent: </span><span style=\"color: #008000; text-decoration-color: #008000\">Cultural Fit Analyst</span>\n",
       "\n",
       "<span style=\"color: #c0c0c0; text-decoration-color: #c0c0c0\">    Status: </span><span style=\"color: #008000; text-decoration-color: #008000; font-weight: bold\">In Progress</span>\n",
       "</pre>\n"
      ],
      "text/plain": [
       "\u001b[1;32m🤖 Agent: \u001b[0m\u001b[32mCultural Fit Analyst\u001b[0m\n",
       "\n",
       "\u001b[37m    Status: \u001b[0m\u001b[1;32mIn Progress\u001b[0m\n"
      ]
     },
     "metadata": {},
     "output_type": "display_data"
    },
    {
     "data": {
      "text/html": [
       "<pre style=\"white-space:pre;overflow-x:auto;line-height:normal;font-family:Menlo,'DejaVu Sans Mono',consolas,'Courier New',monospace\">\n",
       "</pre>\n"
      ],
      "text/plain": [
       "\n"
      ]
     },
     "metadata": {},
     "output_type": "display_data"
    },
    {
     "name": "stdout",
     "output_type": "stream",
     "text": [
      "\n",
      "\n",
      "\u001b[1m\u001b[95m# Agent:\u001b[00m \u001b[1m\u001b[92mCultural Fit Analyst\u001b[00m\n",
      "\u001b[95m## Final Answer:\u001b[00m \u001b[92m\n",
      "Cultural Fit Score: 8 out of 10\n",
      "\n",
      "Supporting Analysis:\n",
      "1. Cultural Values: Clearbit emphasizes care for customers, continuous improvement, collaboration, candid communication, resourcefulness, and fun. These resonate with CrewAI's focus on innovation, teamwork, and customer-centric solutions.\n",
      "2. Strategic Alignment: Both companies are driven by an innovative spirit and prioritize customer engagement, which enhances their strategic alignment.\n",
      "3. Comments: The cultural values of both organizations align well, indicating a potential for a productive partnership, focusing on technological advancements and customer-focused solutions.\u001b[00m\n",
      "\n",
      "\n"
     ]
    },
    {
     "data": {
      "text/html": [
       "<pre style=\"white-space:pre;overflow-x:auto;line-height:normal;font-family:Menlo,'DejaVu Sans Mono',consolas,'Courier New',monospace\"><span style=\"color: #008080; text-decoration-color: #008080; font-weight: bold\">🚀 Crew: crew</span>\n",
       "├── <span style=\"color: #008000; text-decoration-color: #008000; font-weight: bold\">📋 Task: 1eb4f66e-682a-4e7f-aee7-d29173bb965f</span>\n",
       "│   <span style=\"color: #c0c0c0; text-decoration-color: #c0c0c0\">   Assigned to: </span><span style=\"color: #008000; text-decoration-color: #008000\">Lead Data Specialist</span>\n",
       "│   \n",
       "│   <span style=\"color: #c0c0c0; text-decoration-color: #c0c0c0\">   Status: </span><span style=\"color: #008000; text-decoration-color: #008000; font-weight: bold\">✅ Completed</span>\n",
       "│   └── <span style=\"color: #008000; text-decoration-color: #008000; font-weight: bold\">🤖 Agent: </span><span style=\"color: #008000; text-decoration-color: #008000\">Lead Data Specialist</span>\n",
       "│       \n",
       "│       <span style=\"color: #c0c0c0; text-decoration-color: #c0c0c0\">    Status: </span><span style=\"color: #008000; text-decoration-color: #008000; font-weight: bold\">✅ Completed</span>\n",
       "└── <span style=\"color: #808000; text-decoration-color: #808000; font-weight: bold\">📋 Task: 19645590-28fb-4539-a6a4-d6547b86b6b1</span>\n",
       "    <span style=\"color: #c0c0c0; text-decoration-color: #c0c0c0\">   Status: </span><span style=\"color: #bfbf7f; text-decoration-color: #bfbf7f\">Executing Task...</span>\n",
       "    └── <span style=\"color: #008000; text-decoration-color: #008000; font-weight: bold\">🤖 Agent: </span><span style=\"color: #008000; text-decoration-color: #008000\">Cultural Fit Analyst</span>\n",
       "        \n",
       "        <span style=\"color: #c0c0c0; text-decoration-color: #c0c0c0\">    Status: </span><span style=\"color: #008000; text-decoration-color: #008000; font-weight: bold\">✅ Completed</span>\n",
       "</pre>\n"
      ],
      "text/plain": [
       "\u001b[1;36m🚀 Crew: \u001b[0m\u001b[1;36mcrew\u001b[0m\n",
       "├── \u001b[1;32m📋 Task: 1eb4f66e-682a-4e7f-aee7-d29173bb965f\u001b[0m\n",
       "│   \u001b[37m   Assigned to: \u001b[0m\u001b[32mLead Data Specialist\u001b[0m\n",
       "│   \n",
       "│   \u001b[37m   Status: \u001b[0m\u001b[1;32m✅ Completed\u001b[0m\n",
       "│   └── \u001b[1;32m🤖 Agent: \u001b[0m\u001b[32mLead Data Specialist\u001b[0m\n",
       "│       \n",
       "│       \u001b[37m    Status: \u001b[0m\u001b[1;32m✅ Completed\u001b[0m\n",
       "└── \u001b[1;33m📋 Task: 19645590-28fb-4539-a6a4-d6547b86b6b1\u001b[0m\n",
       "    \u001b[37m   Status: \u001b[0m\u001b[2;33mExecuting Task...\u001b[0m\n",
       "    └── \u001b[1;32m🤖 Agent: \u001b[0m\u001b[32mCultural Fit Analyst\u001b[0m\n",
       "        \n",
       "        \u001b[37m    Status: \u001b[0m\u001b[1;32m✅ Completed\u001b[0m\n"
      ]
     },
     "metadata": {},
     "output_type": "display_data"
    },
    {
     "data": {
      "text/html": [
       "<pre style=\"white-space:pre;overflow-x:auto;line-height:normal;font-family:Menlo,'DejaVu Sans Mono',consolas,'Courier New',monospace\">\n",
       "</pre>\n"
      ],
      "text/plain": [
       "\n"
      ]
     },
     "metadata": {},
     "output_type": "display_data"
    },
    {
     "data": {
      "text/html": [
       "<pre style=\"white-space:pre;overflow-x:auto;line-height:normal;font-family:Menlo,'DejaVu Sans Mono',consolas,'Courier New',monospace\"><span style=\"color: #008080; text-decoration-color: #008080; font-weight: bold\">🚀 Crew: crew</span>\n",
       "├── <span style=\"color: #008000; text-decoration-color: #008000; font-weight: bold\">📋 Task: 1eb4f66e-682a-4e7f-aee7-d29173bb965f</span>\n",
       "│   <span style=\"color: #c0c0c0; text-decoration-color: #c0c0c0\">   Assigned to: </span><span style=\"color: #008000; text-decoration-color: #008000\">Lead Data Specialist</span>\n",
       "│   \n",
       "│   <span style=\"color: #c0c0c0; text-decoration-color: #c0c0c0\">   Status: </span><span style=\"color: #008000; text-decoration-color: #008000; font-weight: bold\">✅ Completed</span>\n",
       "│   └── <span style=\"color: #008000; text-decoration-color: #008000; font-weight: bold\">🤖 Agent: </span><span style=\"color: #008000; text-decoration-color: #008000\">Lead Data Specialist</span>\n",
       "│       \n",
       "│       <span style=\"color: #c0c0c0; text-decoration-color: #c0c0c0\">    Status: </span><span style=\"color: #008000; text-decoration-color: #008000; font-weight: bold\">✅ Completed</span>\n",
       "└── <span style=\"color: #008000; text-decoration-color: #008000; font-weight: bold\">📋 Task: 19645590-28fb-4539-a6a4-d6547b86b6b1</span>\n",
       "    <span style=\"color: #c0c0c0; text-decoration-color: #c0c0c0\">   Assigned to: </span><span style=\"color: #008000; text-decoration-color: #008000\">Cultural Fit Analyst</span>\n",
       "    \n",
       "    <span style=\"color: #c0c0c0; text-decoration-color: #c0c0c0\">   Status: </span><span style=\"color: #008000; text-decoration-color: #008000; font-weight: bold\">✅ Completed</span>\n",
       "    └── <span style=\"color: #008000; text-decoration-color: #008000; font-weight: bold\">🤖 Agent: </span><span style=\"color: #008000; text-decoration-color: #008000\">Cultural Fit Analyst</span>\n",
       "        \n",
       "        <span style=\"color: #c0c0c0; text-decoration-color: #c0c0c0\">    Status: </span><span style=\"color: #008000; text-decoration-color: #008000; font-weight: bold\">✅ Completed</span>\n",
       "</pre>\n"
      ],
      "text/plain": [
       "\u001b[1;36m🚀 Crew: \u001b[0m\u001b[1;36mcrew\u001b[0m\n",
       "├── \u001b[1;32m📋 Task: 1eb4f66e-682a-4e7f-aee7-d29173bb965f\u001b[0m\n",
       "│   \u001b[37m   Assigned to: \u001b[0m\u001b[32mLead Data Specialist\u001b[0m\n",
       "│   \n",
       "│   \u001b[37m   Status: \u001b[0m\u001b[1;32m✅ Completed\u001b[0m\n",
       "│   └── \u001b[1;32m🤖 Agent: \u001b[0m\u001b[32mLead Data Specialist\u001b[0m\n",
       "│       \n",
       "│       \u001b[37m    Status: \u001b[0m\u001b[1;32m✅ Completed\u001b[0m\n",
       "└── \u001b[1;32m📋 Task: 19645590-28fb-4539-a6a4-d6547b86b6b1\u001b[0m\n",
       "    \u001b[37m   Assigned to: \u001b[0m\u001b[32mCultural Fit Analyst\u001b[0m\n",
       "    \n",
       "    \u001b[37m   Status: \u001b[0m\u001b[1;32m✅ Completed\u001b[0m\n",
       "    └── \u001b[1;32m🤖 Agent: \u001b[0m\u001b[32mCultural Fit Analyst\u001b[0m\n",
       "        \n",
       "        \u001b[37m    Status: \u001b[0m\u001b[1;32m✅ Completed\u001b[0m\n"
      ]
     },
     "metadata": {},
     "output_type": "display_data"
    },
    {
     "data": {
      "text/html": [
       "<pre style=\"white-space:pre;overflow-x:auto;line-height:normal;font-family:Menlo,'DejaVu Sans Mono',consolas,'Courier New',monospace\"><span style=\"color: #008000; text-decoration-color: #008000\">╭──────────────────────────────────────────────── Task Completion ────────────────────────────────────────────────╮</span>\n",
       "<span style=\"color: #008000; text-decoration-color: #008000\">│</span>                                                                                                                 <span style=\"color: #008000; text-decoration-color: #008000\">│</span>\n",
       "<span style=\"color: #008000; text-decoration-color: #008000\">│</span>  <span style=\"color: #008000; text-decoration-color: #008000; font-weight: bold\">Task Completed</span>                                                                                                 <span style=\"color: #008000; text-decoration-color: #008000\">│</span>\n",
       "<span style=\"color: #008000; text-decoration-color: #008000\">│</span>  <span style=\"color: #c0c0c0; text-decoration-color: #c0c0c0\">Name: </span><span style=\"color: #008000; text-decoration-color: #008000\">19645590-28fb-4539-a6a4-d6547b86b6b1</span>                                                                     <span style=\"color: #008000; text-decoration-color: #008000\">│</span>\n",
       "<span style=\"color: #008000; text-decoration-color: #008000\">│</span>  <span style=\"color: #c0c0c0; text-decoration-color: #c0c0c0\">Agent: </span><span style=\"color: #008000; text-decoration-color: #008000\">Cultural Fit Analyst</span>                                                                                    <span style=\"color: #008000; text-decoration-color: #008000\">│</span>\n",
       "<span style=\"color: #008000; text-decoration-color: #008000\">│</span>                                                                                                                 <span style=\"color: #008000; text-decoration-color: #008000\">│</span>\n",
       "<span style=\"color: #008000; text-decoration-color: #008000\">│</span>                                                                                                                 <span style=\"color: #008000; text-decoration-color: #008000\">│</span>\n",
       "<span style=\"color: #008000; text-decoration-color: #008000\">│</span>                                                                                                                 <span style=\"color: #008000; text-decoration-color: #008000\">│</span>\n",
       "<span style=\"color: #008000; text-decoration-color: #008000\">╰─────────────────────────────────────────────────────────────────────────────────────────────────────────────────╯</span>\n",
       "</pre>\n"
      ],
      "text/plain": [
       "\u001b[32m╭─\u001b[0m\u001b[32m───────────────────────────────────────────────\u001b[0m\u001b[32m Task Completion \u001b[0m\u001b[32m───────────────────────────────────────────────\u001b[0m\u001b[32m─╮\u001b[0m\n",
       "\u001b[32m│\u001b[0m                                                                                                                 \u001b[32m│\u001b[0m\n",
       "\u001b[32m│\u001b[0m  \u001b[1;32mTask Completed\u001b[0m                                                                                                 \u001b[32m│\u001b[0m\n",
       "\u001b[32m│\u001b[0m  \u001b[37mName: \u001b[0m\u001b[32m19645590-28fb-4539-a6a4-d6547b86b6b1\u001b[0m                                                                     \u001b[32m│\u001b[0m\n",
       "\u001b[32m│\u001b[0m  \u001b[37mAgent: \u001b[0m\u001b[32mCultural Fit Analyst\u001b[0m                                                                                    \u001b[32m│\u001b[0m\n",
       "\u001b[32m│\u001b[0m                                                                                                                 \u001b[32m│\u001b[0m\n",
       "\u001b[32m│\u001b[0m                                                                                                                 \u001b[32m│\u001b[0m\n",
       "\u001b[32m│\u001b[0m                                                                                                                 \u001b[32m│\u001b[0m\n",
       "\u001b[32m╰─────────────────────────────────────────────────────────────────────────────────────────────────────────────────╯\u001b[0m\n"
      ]
     },
     "metadata": {},
     "output_type": "display_data"
    },
    {
     "data": {
      "text/html": [
       "<pre style=\"white-space:pre;overflow-x:auto;line-height:normal;font-family:Menlo,'DejaVu Sans Mono',consolas,'Courier New',monospace\">\n",
       "</pre>\n"
      ],
      "text/plain": [
       "\n"
      ]
     },
     "metadata": {},
     "output_type": "display_data"
    },
    {
     "data": {
      "text/html": [
       "<pre style=\"white-space:pre;overflow-x:auto;line-height:normal;font-family:Menlo,'DejaVu Sans Mono',consolas,'Courier New',monospace\"><span style=\"color: #008080; text-decoration-color: #008080; font-weight: bold\">🚀 Crew: crew</span>\n",
       "├── <span style=\"color: #008000; text-decoration-color: #008000; font-weight: bold\">📋 Task: 1eb4f66e-682a-4e7f-aee7-d29173bb965f</span>\n",
       "│   <span style=\"color: #c0c0c0; text-decoration-color: #c0c0c0\">   Assigned to: </span><span style=\"color: #008000; text-decoration-color: #008000\">Lead Data Specialist</span>\n",
       "│   \n",
       "│   <span style=\"color: #c0c0c0; text-decoration-color: #c0c0c0\">   Status: </span><span style=\"color: #008000; text-decoration-color: #008000; font-weight: bold\">✅ Completed</span>\n",
       "│   └── <span style=\"color: #008000; text-decoration-color: #008000; font-weight: bold\">🤖 Agent: </span><span style=\"color: #008000; text-decoration-color: #008000\">Lead Data Specialist</span>\n",
       "│       \n",
       "│       <span style=\"color: #c0c0c0; text-decoration-color: #c0c0c0\">    Status: </span><span style=\"color: #008000; text-decoration-color: #008000; font-weight: bold\">✅ Completed</span>\n",
       "├── <span style=\"color: #008000; text-decoration-color: #008000; font-weight: bold\">📋 Task: 19645590-28fb-4539-a6a4-d6547b86b6b1</span>\n",
       "│   <span style=\"color: #c0c0c0; text-decoration-color: #c0c0c0\">   Assigned to: </span><span style=\"color: #008000; text-decoration-color: #008000\">Cultural Fit Analyst</span>\n",
       "│   \n",
       "│   <span style=\"color: #c0c0c0; text-decoration-color: #c0c0c0\">   Status: </span><span style=\"color: #008000; text-decoration-color: #008000; font-weight: bold\">✅ Completed</span>\n",
       "│   └── <span style=\"color: #008000; text-decoration-color: #008000; font-weight: bold\">🤖 Agent: </span><span style=\"color: #008000; text-decoration-color: #008000\">Cultural Fit Analyst</span>\n",
       "│       \n",
       "│       <span style=\"color: #c0c0c0; text-decoration-color: #c0c0c0\">    Status: </span><span style=\"color: #008000; text-decoration-color: #008000; font-weight: bold\">✅ Completed</span>\n",
       "└── <span style=\"color: #808000; text-decoration-color: #808000; font-weight: bold\">📋 Task: c4f1df01-7adc-4012-9ce6-f082bf0d227c</span>\n",
       "    <span style=\"color: #c0c0c0; text-decoration-color: #c0c0c0\">   Status: </span><span style=\"color: #bfbf7f; text-decoration-color: #bfbf7f\">Executing Task...</span>\n",
       "</pre>\n"
      ],
      "text/plain": [
       "\u001b[1;36m🚀 Crew: \u001b[0m\u001b[1;36mcrew\u001b[0m\n",
       "├── \u001b[1;32m📋 Task: 1eb4f66e-682a-4e7f-aee7-d29173bb965f\u001b[0m\n",
       "│   \u001b[37m   Assigned to: \u001b[0m\u001b[32mLead Data Specialist\u001b[0m\n",
       "│   \n",
       "│   \u001b[37m   Status: \u001b[0m\u001b[1;32m✅ Completed\u001b[0m\n",
       "│   └── \u001b[1;32m🤖 Agent: \u001b[0m\u001b[32mLead Data Specialist\u001b[0m\n",
       "│       \n",
       "│       \u001b[37m    Status: \u001b[0m\u001b[1;32m✅ Completed\u001b[0m\n",
       "├── \u001b[1;32m📋 Task: 19645590-28fb-4539-a6a4-d6547b86b6b1\u001b[0m\n",
       "│   \u001b[37m   Assigned to: \u001b[0m\u001b[32mCultural Fit Analyst\u001b[0m\n",
       "│   \n",
       "│   \u001b[37m   Status: \u001b[0m\u001b[1;32m✅ Completed\u001b[0m\n",
       "│   └── \u001b[1;32m🤖 Agent: \u001b[0m\u001b[32mCultural Fit Analyst\u001b[0m\n",
       "│       \n",
       "│       \u001b[37m    Status: \u001b[0m\u001b[1;32m✅ Completed\u001b[0m\n",
       "└── \u001b[1;33m📋 Task: c4f1df01-7adc-4012-9ce6-f082bf0d227c\u001b[0m\n",
       "    \u001b[37m   Status: \u001b[0m\u001b[2;33mExecuting Task...\u001b[0m\n"
      ]
     },
     "metadata": {},
     "output_type": "display_data"
    },
    {
     "data": {
      "text/html": [
       "<pre style=\"white-space:pre;overflow-x:auto;line-height:normal;font-family:Menlo,'DejaVu Sans Mono',consolas,'Courier New',monospace\">\n",
       "</pre>\n"
      ],
      "text/plain": [
       "\n"
      ]
     },
     "metadata": {},
     "output_type": "display_data"
    },
    {
     "data": {
      "text/html": [
       "<pre style=\"white-space:pre;overflow-x:auto;line-height:normal;font-family:Menlo,'DejaVu Sans Mono',consolas,'Courier New',monospace\"><span style=\"color: #008080; text-decoration-color: #008080; font-weight: bold\">🚀 Crew: crew</span>\n",
       "├── <span style=\"color: #008000; text-decoration-color: #008000; font-weight: bold\">📋 Task: 1eb4f66e-682a-4e7f-aee7-d29173bb965f</span>\n",
       "│   <span style=\"color: #c0c0c0; text-decoration-color: #c0c0c0\">   Assigned to: </span><span style=\"color: #008000; text-decoration-color: #008000\">Lead Data Specialist</span>\n",
       "│   \n",
       "│   <span style=\"color: #c0c0c0; text-decoration-color: #c0c0c0\">   Status: </span><span style=\"color: #008000; text-decoration-color: #008000; font-weight: bold\">✅ Completed</span>\n",
       "│   └── <span style=\"color: #008000; text-decoration-color: #008000; font-weight: bold\">🤖 Agent: </span><span style=\"color: #008000; text-decoration-color: #008000\">Lead Data Specialist</span>\n",
       "│       \n",
       "│       <span style=\"color: #c0c0c0; text-decoration-color: #c0c0c0\">    Status: </span><span style=\"color: #008000; text-decoration-color: #008000; font-weight: bold\">✅ Completed</span>\n",
       "├── <span style=\"color: #008000; text-decoration-color: #008000; font-weight: bold\">📋 Task: 19645590-28fb-4539-a6a4-d6547b86b6b1</span>\n",
       "│   <span style=\"color: #c0c0c0; text-decoration-color: #c0c0c0\">   Assigned to: </span><span style=\"color: #008000; text-decoration-color: #008000\">Cultural Fit Analyst</span>\n",
       "│   \n",
       "│   <span style=\"color: #c0c0c0; text-decoration-color: #c0c0c0\">   Status: </span><span style=\"color: #008000; text-decoration-color: #008000; font-weight: bold\">✅ Completed</span>\n",
       "│   └── <span style=\"color: #008000; text-decoration-color: #008000; font-weight: bold\">🤖 Agent: </span><span style=\"color: #008000; text-decoration-color: #008000\">Cultural Fit Analyst</span>\n",
       "│       \n",
       "│       <span style=\"color: #c0c0c0; text-decoration-color: #c0c0c0\">    Status: </span><span style=\"color: #008000; text-decoration-color: #008000; font-weight: bold\">✅ Completed</span>\n",
       "└── <span style=\"color: #808000; text-decoration-color: #808000; font-weight: bold\">📋 Task: c4f1df01-7adc-4012-9ce6-f082bf0d227c</span>\n",
       "    <span style=\"color: #c0c0c0; text-decoration-color: #c0c0c0\">   Status: </span><span style=\"color: #bfbf7f; text-decoration-color: #bfbf7f\">Executing Task...</span>\n",
       "    └── <span style=\"color: #008000; text-decoration-color: #008000; font-weight: bold\">🤖 Agent: </span><span style=\"color: #008000; text-decoration-color: #008000\">Lead Scorer and Validator</span>\n",
       "        \n",
       "        <span style=\"color: #c0c0c0; text-decoration-color: #c0c0c0\">    Status: </span><span style=\"color: #008000; text-decoration-color: #008000; font-weight: bold\">In Progress</span>\n",
       "</pre>\n"
      ],
      "text/plain": [
       "\u001b[1;36m🚀 Crew: \u001b[0m\u001b[1;36mcrew\u001b[0m\n",
       "├── \u001b[1;32m📋 Task: 1eb4f66e-682a-4e7f-aee7-d29173bb965f\u001b[0m\n",
       "│   \u001b[37m   Assigned to: \u001b[0m\u001b[32mLead Data Specialist\u001b[0m\n",
       "│   \n",
       "│   \u001b[37m   Status: \u001b[0m\u001b[1;32m✅ Completed\u001b[0m\n",
       "│   └── \u001b[1;32m🤖 Agent: \u001b[0m\u001b[32mLead Data Specialist\u001b[0m\n",
       "│       \n",
       "│       \u001b[37m    Status: \u001b[0m\u001b[1;32m✅ Completed\u001b[0m\n",
       "├── \u001b[1;32m📋 Task: 19645590-28fb-4539-a6a4-d6547b86b6b1\u001b[0m\n",
       "│   \u001b[37m   Assigned to: \u001b[0m\u001b[32mCultural Fit Analyst\u001b[0m\n",
       "│   \n",
       "│   \u001b[37m   Status: \u001b[0m\u001b[1;32m✅ Completed\u001b[0m\n",
       "│   └── \u001b[1;32m🤖 Agent: \u001b[0m\u001b[32mCultural Fit Analyst\u001b[0m\n",
       "│       \n",
       "│       \u001b[37m    Status: \u001b[0m\u001b[1;32m✅ Completed\u001b[0m\n",
       "└── \u001b[1;33m📋 Task: c4f1df01-7adc-4012-9ce6-f082bf0d227c\u001b[0m\n",
       "    \u001b[37m   Status: \u001b[0m\u001b[2;33mExecuting Task...\u001b[0m\n",
       "    └── \u001b[1;32m🤖 Agent: \u001b[0m\u001b[32mLead Scorer and Validator\u001b[0m\n",
       "        \n",
       "        \u001b[37m    Status: \u001b[0m\u001b[1;32mIn Progress\u001b[0m\n"
      ]
     },
     "metadata": {},
     "output_type": "display_data"
    },
    {
     "data": {
      "text/html": [
       "<pre style=\"white-space:pre;overflow-x:auto;line-height:normal;font-family:Menlo,'DejaVu Sans Mono',consolas,'Courier New',monospace\">\n",
       "</pre>\n"
      ],
      "text/plain": [
       "\n"
      ]
     },
     "metadata": {},
     "output_type": "display_data"
    },
    {
     "name": "stdout",
     "output_type": "stream",
     "text": [
      "\u001b[1m\u001b[95m# Agent:\u001b[00m \u001b[1m\u001b[92mLead Scorer and Validator\u001b[00m\n",
      "\u001b[95m## Task:\u001b[00m \u001b[92mAggregate the collected data and perform the following steps: - Score Calculation: Based on predefined criteria, calculate a final lead score (0-100). Consider factors such as:\n",
      "  - Role Relevance\n",
      "  - Company Size\n",
      "  - Market Presence\n",
      "  - Cultural Fit\n",
      "- Scoring Criteria Documentation: List the criteria used to determine the score. - Validation: Review the collected data and the calculated score for consistency and accuracy. Make adjustments if necessary. - Final Report: Compile a summary report that includes the final validated lead score, the criteria used, and any validation notes.\n",
      "- Our Company and Product:\n",
      "  - Company Name: CrewAI\n",
      "  - Product: Multi-Agent Orchestration Platform\n",
      "  - ICP: Enterprise companies looking into Agentic automation.\n",
      "  - Pitch: We are a platform that allows you to orchestrate AI Agents for automations to any vertical.\n",
      "\n",
      "- Lead Data:\n",
      "  {'name': 'João Moura', 'job_title': 'Director of Engineering', 'company': 'Clearbit', 'email': 'joao@clearbit.com', 'use_case': 'Using AI Agent to do better data enrichment.'}\n",
      "\u001b[00m\n"
     ]
    },
    {
     "data": {
      "text/html": [
       "<pre style=\"white-space:pre;overflow-x:auto;line-height:normal;font-family:Menlo,'DejaVu Sans Mono',consolas,'Courier New',monospace\"><span style=\"color: #008000; text-decoration-color: #008000; font-weight: bold\">🤖 Agent: </span><span style=\"color: #008000; text-decoration-color: #008000\">Lead Scorer and Validator</span>\n",
       "\n",
       "<span style=\"color: #c0c0c0; text-decoration-color: #c0c0c0\">    Status: </span><span style=\"color: #008000; text-decoration-color: #008000; font-weight: bold\">In Progress</span>\n",
       "</pre>\n"
      ],
      "text/plain": [
       "\u001b[1;32m🤖 Agent: \u001b[0m\u001b[32mLead Scorer and Validator\u001b[0m\n",
       "\n",
       "\u001b[37m    Status: \u001b[0m\u001b[1;32mIn Progress\u001b[0m\n"
      ]
     },
     "metadata": {},
     "output_type": "display_data"
    },
    {
     "data": {
      "text/html": [
       "<pre style=\"white-space:pre;overflow-x:auto;line-height:normal;font-family:Menlo,'DejaVu Sans Mono',consolas,'Courier New',monospace\">\n",
       "</pre>\n"
      ],
      "text/plain": [
       "\n"
      ]
     },
     "metadata": {},
     "output_type": "display_data"
    },
    {
     "name": "stdout",
     "output_type": "stream",
     "text": [
      "\n",
      "\n",
      "\u001b[1m\u001b[95m# Agent:\u001b[00m \u001b[1m\u001b[92mLead Scorer and Validator\u001b[00m\n",
      "\u001b[95m## Thought:\u001b[00m \u001b[92mI should begin by confirming the specifics of the lead data for validation and scoring analysis.\u001b[00m\n",
      "\u001b[95m## Using tool:\u001b[00m \u001b[92mRead website content\u001b[00m\n",
      "\u001b[95m## Tool Input:\u001b[00m \u001b[92m\n",
      "\"{\\\"website_url\\\": \\\"https://clearbit.com/\\\"}\"\u001b[00m\n",
      "\u001b[95m## Tool Output:\u001b[00m \u001b[92m\n",
      "Clearbit is Now Breeze Intelligence for HubSpot Clearbit customer login Clearbit has joined HubSpot! The best B2B data provider is now part of the best B2B customer platform! Breeze Intelligence for HubSpot To reach the right audiences and get the most out of AI, you need the right data. With Breeze Intelligence, you ‌get a full picture of your prospects and customers — making your marketing, sales, and service efforts even more effective. Check out Breeze! A data foundation you can build on We gather public data from the web, our proprietary data, and the power of LLMs to convert unstructured information into precise and standardized data sets. Get access to clean, precise, and reliable data that your B2B team needs to go-to-market. Data for leads, contacts, and accounts Enrich every single record Global coverage across every country, in any language. Starting with the most precise data sources, we then incorporate all other available sources to offer you the optimal combination of accuracy and coverage. Focus on what matters Score & route instantly The data you need to score and route every lead, in real-time. Identify your high fit leads in real time and focus your team's efforts where they matter most. Best in class industry info. The most granular possible industry categorization, including 6 digit NAICS, GICS, and SIC. Corporate Hierarchies. Understand parent companies and subsidiaries to route the right lead to the right rep. Normalized Role & Seniority. Turn titles into a standardized set of roles and seniorities to easily map your systems to your Ideal Customer Profile. Identify hidden intent Reveal buying intent Turn your anonymous website traffic into real buying intent signals with our best-in-class IP intelligence data. The visitor dashboard highlights companies that match your ideal customer profile, enabling you to concentrate outbound efforts on qualified companies that are showing interest. Form shortening Shorter forms convert better Reduce friction be removing fields that Clearbit can enrich simply by collecting an email address. Dynamic Form Shortening only shows necessary fields if an enrichment value isn't available ensuring 100% data coverage for your leads. Trust Center Privacy Policy Status Support Legal Do Not Sell My Info Manage Cookies © 2025 Clearbit\u001b[00m\n"
     ]
    },
    {
     "data": {
      "text/html": [
       "<pre style=\"white-space:pre;overflow-x:auto;line-height:normal;font-family:Menlo,'DejaVu Sans Mono',consolas,'Courier New',monospace\"><span style=\"color: #008000; text-decoration-color: #008000; font-weight: bold\">🤖 Agent: </span><span style=\"color: #008000; text-decoration-color: #008000\">Lead Scorer and Validator</span>\n",
       "\n",
       "<span style=\"color: #c0c0c0; text-decoration-color: #c0c0c0\">    Status: </span><span style=\"color: #008000; text-decoration-color: #008000; font-weight: bold\">In Progress</span>\n",
       "└── <span style=\"color: #000080; text-decoration-color: #000080; font-weight: bold\">🧠 </span><span style=\"color: #000080; text-decoration-color: #000080\">Thinking...</span>\n",
       "</pre>\n"
      ],
      "text/plain": [
       "\u001b[1;32m🤖 Agent: \u001b[0m\u001b[32mLead Scorer and Validator\u001b[0m\n",
       "\n",
       "\u001b[37m    Status: \u001b[0m\u001b[1;32mIn Progress\u001b[0m\n",
       "└── \u001b[1;34m🧠 \u001b[0m\u001b[34mThinking...\u001b[0m\n"
      ]
     },
     "metadata": {},
     "output_type": "display_data"
    },
    {
     "data": {
      "text/html": [
       "<pre style=\"white-space:pre;overflow-x:auto;line-height:normal;font-family:Menlo,'DejaVu Sans Mono',consolas,'Courier New',monospace\">\n",
       "</pre>\n"
      ],
      "text/plain": [
       "\n"
      ]
     },
     "metadata": {},
     "output_type": "display_data"
    },
    {
     "data": {
      "text/html": [
       "<pre style=\"white-space:pre;overflow-x:auto;line-height:normal;font-family:Menlo,'DejaVu Sans Mono',consolas,'Courier New',monospace\"><span style=\"color: #008000; text-decoration-color: #008000; font-weight: bold\">🤖 Agent: </span><span style=\"color: #008000; text-decoration-color: #008000\">Lead Scorer and Validator</span>\n",
       "\n",
       "<span style=\"color: #c0c0c0; text-decoration-color: #c0c0c0\">    Status: </span><span style=\"color: #008000; text-decoration-color: #008000; font-weight: bold\">In Progress</span>\n",
       "</pre>\n"
      ],
      "text/plain": [
       "\u001b[1;32m🤖 Agent: \u001b[0m\u001b[32mLead Scorer and Validator\u001b[0m\n",
       "\n",
       "\u001b[37m    Status: \u001b[0m\u001b[1;32mIn Progress\u001b[0m\n"
      ]
     },
     "metadata": {},
     "output_type": "display_data"
    },
    {
     "data": {
      "text/html": [
       "<pre style=\"white-space:pre;overflow-x:auto;line-height:normal;font-family:Menlo,'DejaVu Sans Mono',consolas,'Courier New',monospace\">\n",
       "</pre>\n"
      ],
      "text/plain": [
       "\n"
      ]
     },
     "metadata": {},
     "output_type": "display_data"
    },
    {
     "name": "stdout",
     "output_type": "stream",
     "text": [
      "\n",
      "\n",
      "\u001b[1m\u001b[95m# Agent:\u001b[00m \u001b[1m\u001b[92mLead Scorer and Validator\u001b[00m\n",
      "\u001b[95m## Final Answer:\u001b[00m \u001b[92m\n",
      "Given the analysis of João Moura’s role, his company's information, and cultural fit, I can now calculate the final lead score based on the provided scoring criteria. \n",
      "\n",
      "1. **Role Relevance (8/10)**: As the Director of Engineering at Clearbit, he is likely to influence decisions relating to technology and automation, aligning with CrewAI's offerings.\n",
      "2. **Company Size (8/10)**: Clearbit has a company size of 127, which positions it as an enterprise-level potential customer.\n",
      "3. **Market Presence (7/10)**: Clearbit's established reputation in the B2B marketing intelligence industry enhances its market presence but is not a leader.\n",
      "4. **Cultural Fit (8/10)**: The cultural values align well, indicating a productive partnership potential.\n",
      "\n",
      "**Score Calculation**:\n",
      "- Average of the category scores: (8 + 8 + 7 + 8) / 4 = 7.75, rounded to 78%.\n",
      "\n",
      "Now, summarizing these insights and validation into the desired format. \n",
      "\n",
      "{\n",
      "  \"personal_info\": {\n",
      "    \"name\": \"João Moura\",\n",
      "    \"job_title\": \"Director of Engineering\",\n",
      "    \"role_relevance\": 8,\n",
      "    \"professional_background\": \"João Moura likely has extensive experience in engineering and data analytics, given his role and the company's focus on data enrichment.\"\n",
      "  },\n",
      "  \"company_info\": {\n",
      "    \"company_name\": \"Clearbit\",\n",
      "    \"industry\": \"B2B Marketing Intelligence\",\n",
      "    \"company_size\": 127,\n",
      "    \"revenue\": 31.5,\n",
      "    \"market_presence\": 7\n",
      "  },\n",
      "  \"lead_score\": {\n",
      "    \"score\": 78,\n",
      "    \"scoring_criteria\": [\n",
      "      \"Role Relevance: 8/10\",\n",
      "      \"Company Size: 8/10\",\n",
      "      \"Market Presence: 7/10\",\n",
      "      \"Cultural Fit: 8/10\"\n",
      "    ],\n",
      "    \"validation_notes\": \"The scores have been derived based on clear benchmarking against predefined criteria, yielding a solid lead scoring outcome.\"\n",
      "  }\n",
      "}\u001b[00m\n",
      "\n",
      "\n"
     ]
    },
    {
     "data": {
      "text/html": [
       "<pre style=\"white-space:pre;overflow-x:auto;line-height:normal;font-family:Menlo,'DejaVu Sans Mono',consolas,'Courier New',monospace\"><span style=\"color: #008080; text-decoration-color: #008080; font-weight: bold\">🚀 Crew: crew</span>\n",
       "├── <span style=\"color: #008000; text-decoration-color: #008000; font-weight: bold\">📋 Task: 1eb4f66e-682a-4e7f-aee7-d29173bb965f</span>\n",
       "│   <span style=\"color: #c0c0c0; text-decoration-color: #c0c0c0\">   Assigned to: </span><span style=\"color: #008000; text-decoration-color: #008000\">Lead Data Specialist</span>\n",
       "│   \n",
       "│   <span style=\"color: #c0c0c0; text-decoration-color: #c0c0c0\">   Status: </span><span style=\"color: #008000; text-decoration-color: #008000; font-weight: bold\">✅ Completed</span>\n",
       "│   └── <span style=\"color: #008000; text-decoration-color: #008000; font-weight: bold\">🤖 Agent: </span><span style=\"color: #008000; text-decoration-color: #008000\">Lead Data Specialist</span>\n",
       "│       \n",
       "│       <span style=\"color: #c0c0c0; text-decoration-color: #c0c0c0\">    Status: </span><span style=\"color: #008000; text-decoration-color: #008000; font-weight: bold\">✅ Completed</span>\n",
       "├── <span style=\"color: #008000; text-decoration-color: #008000; font-weight: bold\">📋 Task: 19645590-28fb-4539-a6a4-d6547b86b6b1</span>\n",
       "│   <span style=\"color: #c0c0c0; text-decoration-color: #c0c0c0\">   Assigned to: </span><span style=\"color: #008000; text-decoration-color: #008000\">Cultural Fit Analyst</span>\n",
       "│   \n",
       "│   <span style=\"color: #c0c0c0; text-decoration-color: #c0c0c0\">   Status: </span><span style=\"color: #008000; text-decoration-color: #008000; font-weight: bold\">✅ Completed</span>\n",
       "│   └── <span style=\"color: #008000; text-decoration-color: #008000; font-weight: bold\">🤖 Agent: </span><span style=\"color: #008000; text-decoration-color: #008000\">Cultural Fit Analyst</span>\n",
       "│       \n",
       "│       <span style=\"color: #c0c0c0; text-decoration-color: #c0c0c0\">    Status: </span><span style=\"color: #008000; text-decoration-color: #008000; font-weight: bold\">✅ Completed</span>\n",
       "└── <span style=\"color: #808000; text-decoration-color: #808000; font-weight: bold\">📋 Task: c4f1df01-7adc-4012-9ce6-f082bf0d227c</span>\n",
       "    <span style=\"color: #c0c0c0; text-decoration-color: #c0c0c0\">   Status: </span><span style=\"color: #bfbf7f; text-decoration-color: #bfbf7f\">Executing Task...</span>\n",
       "    └── <span style=\"color: #008000; text-decoration-color: #008000; font-weight: bold\">🤖 Agent: </span><span style=\"color: #008000; text-decoration-color: #008000\">Lead Scorer and Validator</span>\n",
       "        \n",
       "        <span style=\"color: #c0c0c0; text-decoration-color: #c0c0c0\">    Status: </span><span style=\"color: #008000; text-decoration-color: #008000; font-weight: bold\">✅ Completed</span>\n",
       "</pre>\n"
      ],
      "text/plain": [
       "\u001b[1;36m🚀 Crew: \u001b[0m\u001b[1;36mcrew\u001b[0m\n",
       "├── \u001b[1;32m📋 Task: 1eb4f66e-682a-4e7f-aee7-d29173bb965f\u001b[0m\n",
       "│   \u001b[37m   Assigned to: \u001b[0m\u001b[32mLead Data Specialist\u001b[0m\n",
       "│   \n",
       "│   \u001b[37m   Status: \u001b[0m\u001b[1;32m✅ Completed\u001b[0m\n",
       "│   └── \u001b[1;32m🤖 Agent: \u001b[0m\u001b[32mLead Data Specialist\u001b[0m\n",
       "│       \n",
       "│       \u001b[37m    Status: \u001b[0m\u001b[1;32m✅ Completed\u001b[0m\n",
       "├── \u001b[1;32m📋 Task: 19645590-28fb-4539-a6a4-d6547b86b6b1\u001b[0m\n",
       "│   \u001b[37m   Assigned to: \u001b[0m\u001b[32mCultural Fit Analyst\u001b[0m\n",
       "│   \n",
       "│   \u001b[37m   Status: \u001b[0m\u001b[1;32m✅ Completed\u001b[0m\n",
       "│   └── \u001b[1;32m🤖 Agent: \u001b[0m\u001b[32mCultural Fit Analyst\u001b[0m\n",
       "│       \n",
       "│       \u001b[37m    Status: \u001b[0m\u001b[1;32m✅ Completed\u001b[0m\n",
       "└── \u001b[1;33m📋 Task: c4f1df01-7adc-4012-9ce6-f082bf0d227c\u001b[0m\n",
       "    \u001b[37m   Status: \u001b[0m\u001b[2;33mExecuting Task...\u001b[0m\n",
       "    └── \u001b[1;32m🤖 Agent: \u001b[0m\u001b[32mLead Scorer and Validator\u001b[0m\n",
       "        \n",
       "        \u001b[37m    Status: \u001b[0m\u001b[1;32m✅ Completed\u001b[0m\n"
      ]
     },
     "metadata": {},
     "output_type": "display_data"
    },
    {
     "data": {
      "text/html": [
       "<pre style=\"white-space:pre;overflow-x:auto;line-height:normal;font-family:Menlo,'DejaVu Sans Mono',consolas,'Courier New',monospace\">\n",
       "</pre>\n"
      ],
      "text/plain": [
       "\n"
      ]
     },
     "metadata": {},
     "output_type": "display_data"
    },
    {
     "data": {
      "text/html": [
       "<pre style=\"white-space:pre;overflow-x:auto;line-height:normal;font-family:Menlo,'DejaVu Sans Mono',consolas,'Courier New',monospace\"><span style=\"color: #008080; text-decoration-color: #008080; font-weight: bold\">🚀 Crew: crew</span>\n",
       "├── <span style=\"color: #008000; text-decoration-color: #008000; font-weight: bold\">📋 Task: 1eb4f66e-682a-4e7f-aee7-d29173bb965f</span>\n",
       "│   <span style=\"color: #c0c0c0; text-decoration-color: #c0c0c0\">   Assigned to: </span><span style=\"color: #008000; text-decoration-color: #008000\">Lead Data Specialist</span>\n",
       "│   \n",
       "│   <span style=\"color: #c0c0c0; text-decoration-color: #c0c0c0\">   Status: </span><span style=\"color: #008000; text-decoration-color: #008000; font-weight: bold\">✅ Completed</span>\n",
       "│   └── <span style=\"color: #008000; text-decoration-color: #008000; font-weight: bold\">🤖 Agent: </span><span style=\"color: #008000; text-decoration-color: #008000\">Lead Data Specialist</span>\n",
       "│       \n",
       "│       <span style=\"color: #c0c0c0; text-decoration-color: #c0c0c0\">    Status: </span><span style=\"color: #008000; text-decoration-color: #008000; font-weight: bold\">✅ Completed</span>\n",
       "├── <span style=\"color: #008000; text-decoration-color: #008000; font-weight: bold\">📋 Task: 19645590-28fb-4539-a6a4-d6547b86b6b1</span>\n",
       "│   <span style=\"color: #c0c0c0; text-decoration-color: #c0c0c0\">   Assigned to: </span><span style=\"color: #008000; text-decoration-color: #008000\">Cultural Fit Analyst</span>\n",
       "│   \n",
       "│   <span style=\"color: #c0c0c0; text-decoration-color: #c0c0c0\">   Status: </span><span style=\"color: #008000; text-decoration-color: #008000; font-weight: bold\">✅ Completed</span>\n",
       "│   └── <span style=\"color: #008000; text-decoration-color: #008000; font-weight: bold\">🤖 Agent: </span><span style=\"color: #008000; text-decoration-color: #008000\">Cultural Fit Analyst</span>\n",
       "│       \n",
       "│       <span style=\"color: #c0c0c0; text-decoration-color: #c0c0c0\">    Status: </span><span style=\"color: #008000; text-decoration-color: #008000; font-weight: bold\">✅ Completed</span>\n",
       "└── <span style=\"color: #008000; text-decoration-color: #008000; font-weight: bold\">📋 Task: c4f1df01-7adc-4012-9ce6-f082bf0d227c</span>\n",
       "    <span style=\"color: #c0c0c0; text-decoration-color: #c0c0c0\">   Assigned to: </span><span style=\"color: #008000; text-decoration-color: #008000\">Lead Scorer and Validator</span>\n",
       "    \n",
       "    <span style=\"color: #c0c0c0; text-decoration-color: #c0c0c0\">   Status: </span><span style=\"color: #008000; text-decoration-color: #008000; font-weight: bold\">✅ Completed</span>\n",
       "    └── <span style=\"color: #008000; text-decoration-color: #008000; font-weight: bold\">🤖 Agent: </span><span style=\"color: #008000; text-decoration-color: #008000\">Lead Scorer and Validator</span>\n",
       "        \n",
       "        <span style=\"color: #c0c0c0; text-decoration-color: #c0c0c0\">    Status: </span><span style=\"color: #008000; text-decoration-color: #008000; font-weight: bold\">✅ Completed</span>\n",
       "</pre>\n"
      ],
      "text/plain": [
       "\u001b[1;36m🚀 Crew: \u001b[0m\u001b[1;36mcrew\u001b[0m\n",
       "├── \u001b[1;32m📋 Task: 1eb4f66e-682a-4e7f-aee7-d29173bb965f\u001b[0m\n",
       "│   \u001b[37m   Assigned to: \u001b[0m\u001b[32mLead Data Specialist\u001b[0m\n",
       "│   \n",
       "│   \u001b[37m   Status: \u001b[0m\u001b[1;32m✅ Completed\u001b[0m\n",
       "│   └── \u001b[1;32m🤖 Agent: \u001b[0m\u001b[32mLead Data Specialist\u001b[0m\n",
       "│       \n",
       "│       \u001b[37m    Status: \u001b[0m\u001b[1;32m✅ Completed\u001b[0m\n",
       "├── \u001b[1;32m📋 Task: 19645590-28fb-4539-a6a4-d6547b86b6b1\u001b[0m\n",
       "│   \u001b[37m   Assigned to: \u001b[0m\u001b[32mCultural Fit Analyst\u001b[0m\n",
       "│   \n",
       "│   \u001b[37m   Status: \u001b[0m\u001b[1;32m✅ Completed\u001b[0m\n",
       "│   └── \u001b[1;32m🤖 Agent: \u001b[0m\u001b[32mCultural Fit Analyst\u001b[0m\n",
       "│       \n",
       "│       \u001b[37m    Status: \u001b[0m\u001b[1;32m✅ Completed\u001b[0m\n",
       "└── \u001b[1;32m📋 Task: c4f1df01-7adc-4012-9ce6-f082bf0d227c\u001b[0m\n",
       "    \u001b[37m   Assigned to: \u001b[0m\u001b[32mLead Scorer and Validator\u001b[0m\n",
       "    \n",
       "    \u001b[37m   Status: \u001b[0m\u001b[1;32m✅ Completed\u001b[0m\n",
       "    └── \u001b[1;32m🤖 Agent: \u001b[0m\u001b[32mLead Scorer and Validator\u001b[0m\n",
       "        \n",
       "        \u001b[37m    Status: \u001b[0m\u001b[1;32m✅ Completed\u001b[0m\n"
      ]
     },
     "metadata": {},
     "output_type": "display_data"
    },
    {
     "data": {
      "text/html": [
       "<pre style=\"white-space:pre;overflow-x:auto;line-height:normal;font-family:Menlo,'DejaVu Sans Mono',consolas,'Courier New',monospace\"><span style=\"color: #008000; text-decoration-color: #008000\">╭──────────────────────────────────────────────── Task Completion ────────────────────────────────────────────────╮</span>\n",
       "<span style=\"color: #008000; text-decoration-color: #008000\">│</span>                                                                                                                 <span style=\"color: #008000; text-decoration-color: #008000\">│</span>\n",
       "<span style=\"color: #008000; text-decoration-color: #008000\">│</span>  <span style=\"color: #008000; text-decoration-color: #008000; font-weight: bold\">Task Completed</span>                                                                                                 <span style=\"color: #008000; text-decoration-color: #008000\">│</span>\n",
       "<span style=\"color: #008000; text-decoration-color: #008000\">│</span>  <span style=\"color: #c0c0c0; text-decoration-color: #c0c0c0\">Name: </span><span style=\"color: #008000; text-decoration-color: #008000\">c4f1df01-7adc-4012-9ce6-f082bf0d227c</span>                                                                     <span style=\"color: #008000; text-decoration-color: #008000\">│</span>\n",
       "<span style=\"color: #008000; text-decoration-color: #008000\">│</span>  <span style=\"color: #c0c0c0; text-decoration-color: #c0c0c0\">Agent: </span><span style=\"color: #008000; text-decoration-color: #008000\">Lead Scorer and Validator</span>                                                                               <span style=\"color: #008000; text-decoration-color: #008000\">│</span>\n",
       "<span style=\"color: #008000; text-decoration-color: #008000\">│</span>                                                                                                                 <span style=\"color: #008000; text-decoration-color: #008000\">│</span>\n",
       "<span style=\"color: #008000; text-decoration-color: #008000\">│</span>                                                                                                                 <span style=\"color: #008000; text-decoration-color: #008000\">│</span>\n",
       "<span style=\"color: #008000; text-decoration-color: #008000\">│</span>                                                                                                                 <span style=\"color: #008000; text-decoration-color: #008000\">│</span>\n",
       "<span style=\"color: #008000; text-decoration-color: #008000\">╰─────────────────────────────────────────────────────────────────────────────────────────────────────────────────╯</span>\n",
       "</pre>\n"
      ],
      "text/plain": [
       "\u001b[32m╭─\u001b[0m\u001b[32m───────────────────────────────────────────────\u001b[0m\u001b[32m Task Completion \u001b[0m\u001b[32m───────────────────────────────────────────────\u001b[0m\u001b[32m─╮\u001b[0m\n",
       "\u001b[32m│\u001b[0m                                                                                                                 \u001b[32m│\u001b[0m\n",
       "\u001b[32m│\u001b[0m  \u001b[1;32mTask Completed\u001b[0m                                                                                                 \u001b[32m│\u001b[0m\n",
       "\u001b[32m│\u001b[0m  \u001b[37mName: \u001b[0m\u001b[32mc4f1df01-7adc-4012-9ce6-f082bf0d227c\u001b[0m                                                                     \u001b[32m│\u001b[0m\n",
       "\u001b[32m│\u001b[0m  \u001b[37mAgent: \u001b[0m\u001b[32mLead Scorer and Validator\u001b[0m                                                                               \u001b[32m│\u001b[0m\n",
       "\u001b[32m│\u001b[0m                                                                                                                 \u001b[32m│\u001b[0m\n",
       "\u001b[32m│\u001b[0m                                                                                                                 \u001b[32m│\u001b[0m\n",
       "\u001b[32m│\u001b[0m                                                                                                                 \u001b[32m│\u001b[0m\n",
       "\u001b[32m╰─────────────────────────────────────────────────────────────────────────────────────────────────────────────────╯\u001b[0m\n"
      ]
     },
     "metadata": {},
     "output_type": "display_data"
    },
    {
     "data": {
      "text/html": [
       "<pre style=\"white-space:pre;overflow-x:auto;line-height:normal;font-family:Menlo,'DejaVu Sans Mono',consolas,'Courier New',monospace\">\n",
       "</pre>\n"
      ],
      "text/plain": [
       "\n"
      ]
     },
     "metadata": {},
     "output_type": "display_data"
    },
    {
     "data": {
      "text/html": [
       "<pre style=\"white-space:pre;overflow-x:auto;line-height:normal;font-family:Menlo,'DejaVu Sans Mono',consolas,'Courier New',monospace\"><span style=\"color: #008000; text-decoration-color: #008000\">╭──────────────────────────────────────────────── Crew Completion ────────────────────────────────────────────────╮</span>\n",
       "<span style=\"color: #008000; text-decoration-color: #008000\">│</span>                                                                                                                 <span style=\"color: #008000; text-decoration-color: #008000\">│</span>\n",
       "<span style=\"color: #008000; text-decoration-color: #008000\">│</span>  <span style=\"color: #008000; text-decoration-color: #008000; font-weight: bold\">Crew Execution Completed</span>                                                                                       <span style=\"color: #008000; text-decoration-color: #008000\">│</span>\n",
       "<span style=\"color: #008000; text-decoration-color: #008000\">│</span>  <span style=\"color: #c0c0c0; text-decoration-color: #c0c0c0\">Name: </span><span style=\"color: #008000; text-decoration-color: #008000\">crew</span>                                                                                                     <span style=\"color: #008000; text-decoration-color: #008000\">│</span>\n",
       "<span style=\"color: #008000; text-decoration-color: #008000\">│</span>  <span style=\"color: #c0c0c0; text-decoration-color: #c0c0c0\">ID: </span><span style=\"color: #008000; text-decoration-color: #008000\">99e92e1d-548a-4513-a4c9-84a002b15ac8</span>                                                                       <span style=\"color: #008000; text-decoration-color: #008000\">│</span>\n",
       "<span style=\"color: #008000; text-decoration-color: #008000\">│</span>                                                                                                                 <span style=\"color: #008000; text-decoration-color: #008000\">│</span>\n",
       "<span style=\"color: #008000; text-decoration-color: #008000\">│</span>                                                                                                                 <span style=\"color: #008000; text-decoration-color: #008000\">│</span>\n",
       "<span style=\"color: #008000; text-decoration-color: #008000\">╰─────────────────────────────────────────────────────────────────────────────────────────────────────────────────╯</span>\n",
       "</pre>\n"
      ],
      "text/plain": [
       "\u001b[32m╭─\u001b[0m\u001b[32m───────────────────────────────────────────────\u001b[0m\u001b[32m Crew Completion \u001b[0m\u001b[32m───────────────────────────────────────────────\u001b[0m\u001b[32m─╮\u001b[0m\n",
       "\u001b[32m│\u001b[0m                                                                                                                 \u001b[32m│\u001b[0m\n",
       "\u001b[32m│\u001b[0m  \u001b[1;32mCrew Execution Completed\u001b[0m                                                                                       \u001b[32m│\u001b[0m\n",
       "\u001b[32m│\u001b[0m  \u001b[37mName: \u001b[0m\u001b[32mcrew\u001b[0m                                                                                                     \u001b[32m│\u001b[0m\n",
       "\u001b[32m│\u001b[0m  \u001b[37mID: \u001b[0m\u001b[32m99e92e1d-548a-4513-a4c9-84a002b15ac8\u001b[0m                                                                       \u001b[32m│\u001b[0m\n",
       "\u001b[32m│\u001b[0m                                                                                                                 \u001b[32m│\u001b[0m\n",
       "\u001b[32m│\u001b[0m                                                                                                                 \u001b[32m│\u001b[0m\n",
       "\u001b[32m╰─────────────────────────────────────────────────────────────────────────────────────────────────────────────────╯\u001b[0m\n"
      ]
     },
     "metadata": {},
     "output_type": "display_data"
    },
    {
     "data": {
      "text/html": [
       "<pre style=\"white-space:pre;overflow-x:auto;line-height:normal;font-family:Menlo,'DejaVu Sans Mono',consolas,'Courier New',monospace\">\n",
       "</pre>\n"
      ],
      "text/plain": [
       "\n"
      ]
     },
     "metadata": {},
     "output_type": "display_data"
    },
    {
     "data": {
      "text/html": [
       "<pre style=\"white-space:pre;overflow-x:auto;line-height:normal;font-family:Menlo,'DejaVu Sans Mono',consolas,'Courier New',monospace\"><span style=\"color: #000080; text-decoration-color: #000080; font-weight: bold\">🌊 Flow: </span><span style=\"color: #000080; text-decoration-color: #000080\">SalesPipeline</span>\n",
       "<span style=\"color: #c0c0c0; text-decoration-color: #c0c0c0\">    ID: </span><span style=\"color: #000080; text-decoration-color: #000080\">ffe00d9d-48e2-4f21-b3b6-1b4beaddf987</span>\n",
       "├── <span style=\"color: #c0c0c0; text-decoration-color: #c0c0c0\">Flow Method Step</span>\n",
       "├── <span style=\"color: #008000; text-decoration-color: #008000; font-weight: bold\">✅ Completed: fetch_leads</span>\n",
       "└── <span style=\"color: #008000; text-decoration-color: #008000; font-weight: bold\">✅ Completed: score_leads</span>\n",
       "</pre>\n"
      ],
      "text/plain": [
       "\u001b[1;34m🌊 Flow: \u001b[0m\u001b[34mSalesPipeline\u001b[0m\n",
       "\u001b[37m    ID: \u001b[0m\u001b[34mffe00d9d-48e2-4f21-b3b6-1b4beaddf987\u001b[0m\n",
       "├── \u001b[37mFlow Method Step\u001b[0m\n",
       "├── \u001b[1;32m✅ Completed:\u001b[0m\u001b[1;32m fetch_leads\u001b[0m\n",
       "└── \u001b[1;32m✅ Completed:\u001b[0m\u001b[1;32m score_leads\u001b[0m\n"
      ]
     },
     "metadata": {},
     "output_type": "display_data"
    },
    {
     "data": {
      "text/html": [
       "<pre style=\"white-space:pre;overflow-x:auto;line-height:normal;font-family:Menlo,'DejaVu Sans Mono',consolas,'Courier New',monospace\">\n",
       "</pre>\n"
      ],
      "text/plain": [
       "\n"
      ]
     },
     "metadata": {},
     "output_type": "display_data"
    },
    {
     "data": {
      "text/html": [
       "<pre style=\"white-space:pre;overflow-x:auto;line-height:normal;font-family:Menlo,'DejaVu Sans Mono',consolas,'Courier New',monospace\"><span style=\"color: #000080; text-decoration-color: #000080; font-weight: bold\">🌊 Flow: </span><span style=\"color: #000080; text-decoration-color: #000080\">SalesPipeline</span>\n",
       "<span style=\"color: #c0c0c0; text-decoration-color: #c0c0c0\">    ID: </span><span style=\"color: #000080; text-decoration-color: #000080\">ffe00d9d-48e2-4f21-b3b6-1b4beaddf987</span>\n",
       "├── <span style=\"color: #c0c0c0; text-decoration-color: #c0c0c0\">Flow Method Step</span>\n",
       "├── <span style=\"color: #008000; text-decoration-color: #008000; font-weight: bold\">✅ Completed: fetch_leads</span>\n",
       "├── <span style=\"color: #008000; text-decoration-color: #008000; font-weight: bold\">✅ Completed: score_leads</span>\n",
       "└── <span style=\"color: #808000; text-decoration-color: #808000; font-weight: bold\">🔄 Running: store_leads_score</span>\n",
       "</pre>\n"
      ],
      "text/plain": [
       "\u001b[1;34m🌊 Flow: \u001b[0m\u001b[34mSalesPipeline\u001b[0m\n",
       "\u001b[37m    ID: \u001b[0m\u001b[34mffe00d9d-48e2-4f21-b3b6-1b4beaddf987\u001b[0m\n",
       "├── \u001b[37mFlow Method Step\u001b[0m\n",
       "├── \u001b[1;32m✅ Completed:\u001b[0m\u001b[1;32m fetch_leads\u001b[0m\n",
       "├── \u001b[1;32m✅ Completed:\u001b[0m\u001b[1;32m score_leads\u001b[0m\n",
       "└── \u001b[1;33m🔄 Running:\u001b[0m\u001b[1;33m store_leads_score\u001b[0m\n"
      ]
     },
     "metadata": {},
     "output_type": "display_data"
    },
    {
     "data": {
      "text/html": [
       "<pre style=\"white-space:pre;overflow-x:auto;line-height:normal;font-family:Menlo,'DejaVu Sans Mono',consolas,'Courier New',monospace\">\n",
       "</pre>\n"
      ],
      "text/plain": [
       "\n"
      ]
     },
     "metadata": {},
     "output_type": "display_data"
    },
    {
     "data": {
      "text/html": [
       "<pre style=\"white-space:pre;overflow-x:auto;line-height:normal;font-family:Menlo,'DejaVu Sans Mono',consolas,'Courier New',monospace\"><span style=\"color: #000080; text-decoration-color: #000080; font-weight: bold\">🌊 Flow: </span><span style=\"color: #000080; text-decoration-color: #000080\">SalesPipeline</span>\n",
       "<span style=\"color: #c0c0c0; text-decoration-color: #c0c0c0\">    ID: </span><span style=\"color: #000080; text-decoration-color: #000080\">ffe00d9d-48e2-4f21-b3b6-1b4beaddf987</span>\n",
       "├── <span style=\"color: #c0c0c0; text-decoration-color: #c0c0c0\">Flow Method Step</span>\n",
       "├── <span style=\"color: #008000; text-decoration-color: #008000; font-weight: bold\">✅ Completed: fetch_leads</span>\n",
       "├── <span style=\"color: #008000; text-decoration-color: #008000; font-weight: bold\">✅ Completed: score_leads</span>\n",
       "└── <span style=\"color: #008000; text-decoration-color: #008000; font-weight: bold\">✅ Completed: store_leads_score</span>\n",
       "</pre>\n"
      ],
      "text/plain": [
       "\u001b[1;34m🌊 Flow: \u001b[0m\u001b[34mSalesPipeline\u001b[0m\n",
       "\u001b[37m    ID: \u001b[0m\u001b[34mffe00d9d-48e2-4f21-b3b6-1b4beaddf987\u001b[0m\n",
       "├── \u001b[37mFlow Method Step\u001b[0m\n",
       "├── \u001b[1;32m✅ Completed:\u001b[0m\u001b[1;32m fetch_leads\u001b[0m\n",
       "├── \u001b[1;32m✅ Completed:\u001b[0m\u001b[1;32m score_leads\u001b[0m\n",
       "└── \u001b[1;32m✅ Completed:\u001b[0m\u001b[1;32m store_leads_score\u001b[0m\n"
      ]
     },
     "metadata": {},
     "output_type": "display_data"
    },
    {
     "data": {
      "text/html": [
       "<pre style=\"white-space:pre;overflow-x:auto;line-height:normal;font-family:Menlo,'DejaVu Sans Mono',consolas,'Courier New',monospace\">\n",
       "</pre>\n"
      ],
      "text/plain": [
       "\n"
      ]
     },
     "metadata": {},
     "output_type": "display_data"
    },
    {
     "data": {
      "text/html": [
       "<pre style=\"white-space:pre;overflow-x:auto;line-height:normal;font-family:Menlo,'DejaVu Sans Mono',consolas,'Courier New',monospace\"><span style=\"color: #000080; text-decoration-color: #000080; font-weight: bold\">🌊 Flow: </span><span style=\"color: #000080; text-decoration-color: #000080\">SalesPipeline</span>\n",
       "<span style=\"color: #c0c0c0; text-decoration-color: #c0c0c0\">    ID: </span><span style=\"color: #000080; text-decoration-color: #000080\">ffe00d9d-48e2-4f21-b3b6-1b4beaddf987</span>\n",
       "├── <span style=\"color: #c0c0c0; text-decoration-color: #c0c0c0\">Flow Method Step</span>\n",
       "├── <span style=\"color: #008000; text-decoration-color: #008000; font-weight: bold\">✅ Completed: fetch_leads</span>\n",
       "├── <span style=\"color: #008000; text-decoration-color: #008000; font-weight: bold\">✅ Completed: score_leads</span>\n",
       "├── <span style=\"color: #008000; text-decoration-color: #008000; font-weight: bold\">✅ Completed: store_leads_score</span>\n",
       "└── <span style=\"color: #808000; text-decoration-color: #808000; font-weight: bold\">🔄 Running: filter_leads</span>\n",
       "</pre>\n"
      ],
      "text/plain": [
       "\u001b[1;34m🌊 Flow: \u001b[0m\u001b[34mSalesPipeline\u001b[0m\n",
       "\u001b[37m    ID: \u001b[0m\u001b[34mffe00d9d-48e2-4f21-b3b6-1b4beaddf987\u001b[0m\n",
       "├── \u001b[37mFlow Method Step\u001b[0m\n",
       "├── \u001b[1;32m✅ Completed:\u001b[0m\u001b[1;32m fetch_leads\u001b[0m\n",
       "├── \u001b[1;32m✅ Completed:\u001b[0m\u001b[1;32m score_leads\u001b[0m\n",
       "├── \u001b[1;32m✅ Completed:\u001b[0m\u001b[1;32m store_leads_score\u001b[0m\n",
       "└── \u001b[1;33m🔄 Running:\u001b[0m\u001b[1;33m filter_leads\u001b[0m\n"
      ]
     },
     "metadata": {},
     "output_type": "display_data"
    },
    {
     "data": {
      "text/html": [
       "<pre style=\"white-space:pre;overflow-x:auto;line-height:normal;font-family:Menlo,'DejaVu Sans Mono',consolas,'Courier New',monospace\">\n",
       "</pre>\n"
      ],
      "text/plain": [
       "\n"
      ]
     },
     "metadata": {},
     "output_type": "display_data"
    },
    {
     "data": {
      "text/html": [
       "<pre style=\"white-space:pre;overflow-x:auto;line-height:normal;font-family:Menlo,'DejaVu Sans Mono',consolas,'Courier New',monospace\"><span style=\"color: #000080; text-decoration-color: #000080; font-weight: bold\">🌊 Flow: </span><span style=\"color: #000080; text-decoration-color: #000080\">SalesPipeline</span>\n",
       "<span style=\"color: #c0c0c0; text-decoration-color: #c0c0c0\">    ID: </span><span style=\"color: #000080; text-decoration-color: #000080\">ffe00d9d-48e2-4f21-b3b6-1b4beaddf987</span>\n",
       "├── <span style=\"color: #c0c0c0; text-decoration-color: #c0c0c0\">Flow Method Step</span>\n",
       "├── <span style=\"color: #008000; text-decoration-color: #008000; font-weight: bold\">✅ Completed: fetch_leads</span>\n",
       "├── <span style=\"color: #008000; text-decoration-color: #008000; font-weight: bold\">✅ Completed: score_leads</span>\n",
       "├── <span style=\"color: #008000; text-decoration-color: #008000; font-weight: bold\">✅ Completed: store_leads_score</span>\n",
       "└── <span style=\"color: #008000; text-decoration-color: #008000; font-weight: bold\">✅ Completed: filter_leads</span>\n",
       "</pre>\n"
      ],
      "text/plain": [
       "\u001b[1;34m🌊 Flow: \u001b[0m\u001b[34mSalesPipeline\u001b[0m\n",
       "\u001b[37m    ID: \u001b[0m\u001b[34mffe00d9d-48e2-4f21-b3b6-1b4beaddf987\u001b[0m\n",
       "├── \u001b[37mFlow Method Step\u001b[0m\n",
       "├── \u001b[1;32m✅ Completed:\u001b[0m\u001b[1;32m fetch_leads\u001b[0m\n",
       "├── \u001b[1;32m✅ Completed:\u001b[0m\u001b[1;32m score_leads\u001b[0m\n",
       "├── \u001b[1;32m✅ Completed:\u001b[0m\u001b[1;32m store_leads_score\u001b[0m\n",
       "└── \u001b[1;32m✅ Completed:\u001b[0m\u001b[1;32m filter_leads\u001b[0m\n"
      ]
     },
     "metadata": {},
     "output_type": "display_data"
    },
    {
     "data": {
      "text/html": [
       "<pre style=\"white-space:pre;overflow-x:auto;line-height:normal;font-family:Menlo,'DejaVu Sans Mono',consolas,'Courier New',monospace\">\n",
       "</pre>\n"
      ],
      "text/plain": [
       "\n"
      ]
     },
     "metadata": {},
     "output_type": "display_data"
    },
    {
     "data": {
      "text/html": [
       "<pre style=\"white-space:pre;overflow-x:auto;line-height:normal;font-family:Menlo,'DejaVu Sans Mono',consolas,'Courier New',monospace\"><span style=\"color: #000080; text-decoration-color: #000080; font-weight: bold\">🌊 Flow: </span><span style=\"color: #000080; text-decoration-color: #000080\">SalesPipeline</span>\n",
       "<span style=\"color: #c0c0c0; text-decoration-color: #c0c0c0\">    ID: </span><span style=\"color: #000080; text-decoration-color: #000080\">ffe00d9d-48e2-4f21-b3b6-1b4beaddf987</span>\n",
       "├── <span style=\"color: #c0c0c0; text-decoration-color: #c0c0c0\">Flow Method Step</span>\n",
       "├── <span style=\"color: #008000; text-decoration-color: #008000; font-weight: bold\">✅ Completed: fetch_leads</span>\n",
       "├── <span style=\"color: #008000; text-decoration-color: #008000; font-weight: bold\">✅ Completed: score_leads</span>\n",
       "├── <span style=\"color: #008000; text-decoration-color: #008000; font-weight: bold\">✅ Completed: store_leads_score</span>\n",
       "├── <span style=\"color: #008000; text-decoration-color: #008000; font-weight: bold\">✅ Completed: filter_leads</span>\n",
       "└── <span style=\"color: #808000; text-decoration-color: #808000; font-weight: bold\">🔄 Running: write_email</span>\n",
       "</pre>\n"
      ],
      "text/plain": [
       "\u001b[1;34m🌊 Flow: \u001b[0m\u001b[34mSalesPipeline\u001b[0m\n",
       "\u001b[37m    ID: \u001b[0m\u001b[34mffe00d9d-48e2-4f21-b3b6-1b4beaddf987\u001b[0m\n",
       "├── \u001b[37mFlow Method Step\u001b[0m\n",
       "├── \u001b[1;32m✅ Completed:\u001b[0m\u001b[1;32m fetch_leads\u001b[0m\n",
       "├── \u001b[1;32m✅ Completed:\u001b[0m\u001b[1;32m score_leads\u001b[0m\n",
       "├── \u001b[1;32m✅ Completed:\u001b[0m\u001b[1;32m store_leads_score\u001b[0m\n",
       "├── \u001b[1;32m✅ Completed:\u001b[0m\u001b[1;32m filter_leads\u001b[0m\n",
       "└── \u001b[1;33m🔄 Running:\u001b[0m\u001b[1;33m write_email\u001b[0m\n"
      ]
     },
     "metadata": {},
     "output_type": "display_data"
    },
    {
     "data": {
      "text/html": [
       "<pre style=\"white-space:pre;overflow-x:auto;line-height:normal;font-family:Menlo,'DejaVu Sans Mono',consolas,'Courier New',monospace\">\n",
       "</pre>\n"
      ],
      "text/plain": [
       "\n"
      ]
     },
     "metadata": {},
     "output_type": "display_data"
    },
    {
     "data": {
      "text/html": [
       "<pre style=\"white-space:pre;overflow-x:auto;line-height:normal;font-family:Menlo,'DejaVu Sans Mono',consolas,'Courier New',monospace\"><span style=\"color: #008080; text-decoration-color: #008080\">╭──────────────────────────────────────────── Crew Execution Started ─────────────────────────────────────────────╮</span>\n",
       "<span style=\"color: #008080; text-decoration-color: #008080\">│</span>                                                                                                                 <span style=\"color: #008080; text-decoration-color: #008080\">│</span>\n",
       "<span style=\"color: #008080; text-decoration-color: #008080\">│</span>  <span style=\"color: #008080; text-decoration-color: #008080; font-weight: bold\">Crew Execution Started</span>                                                                                         <span style=\"color: #008080; text-decoration-color: #008080\">│</span>\n",
       "<span style=\"color: #008080; text-decoration-color: #008080\">│</span>  <span style=\"color: #c0c0c0; text-decoration-color: #c0c0c0\">Name: </span><span style=\"color: #008080; text-decoration-color: #008080\">crew</span>                                                                                                     <span style=\"color: #008080; text-decoration-color: #008080\">│</span>\n",
       "<span style=\"color: #008080; text-decoration-color: #008080\">│</span>  <span style=\"color: #c0c0c0; text-decoration-color: #c0c0c0\">ID: </span><span style=\"color: #008080; text-decoration-color: #008080\">cf5ae07d-da22-4a2c-aa8c-73e11346caf9</span>                                                                       <span style=\"color: #008080; text-decoration-color: #008080\">│</span>\n",
       "<span style=\"color: #008080; text-decoration-color: #008080\">│</span>                                                                                                                 <span style=\"color: #008080; text-decoration-color: #008080\">│</span>\n",
       "<span style=\"color: #008080; text-decoration-color: #008080\">│</span>                                                                                                                 <span style=\"color: #008080; text-decoration-color: #008080\">│</span>\n",
       "<span style=\"color: #008080; text-decoration-color: #008080\">╰─────────────────────────────────────────────────────────────────────────────────────────────────────────────────╯</span>\n",
       "</pre>\n"
      ],
      "text/plain": [
       "\u001b[36m╭─\u001b[0m\u001b[36m───────────────────────────────────────────\u001b[0m\u001b[36m Crew Execution Started \u001b[0m\u001b[36m────────────────────────────────────────────\u001b[0m\u001b[36m─╮\u001b[0m\n",
       "\u001b[36m│\u001b[0m                                                                                                                 \u001b[36m│\u001b[0m\n",
       "\u001b[36m│\u001b[0m  \u001b[1;36mCrew Execution Started\u001b[0m                                                                                         \u001b[36m│\u001b[0m\n",
       "\u001b[36m│\u001b[0m  \u001b[37mName: \u001b[0m\u001b[36mcrew\u001b[0m                                                                                                     \u001b[36m│\u001b[0m\n",
       "\u001b[36m│\u001b[0m  \u001b[37mID: \u001b[0m\u001b[36mcf5ae07d-da22-4a2c-aa8c-73e11346caf9\u001b[0m                                                                       \u001b[36m│\u001b[0m\n",
       "\u001b[36m│\u001b[0m                                                                                                                 \u001b[36m│\u001b[0m\n",
       "\u001b[36m│\u001b[0m                                                                                                                 \u001b[36m│\u001b[0m\n",
       "\u001b[36m╰─────────────────────────────────────────────────────────────────────────────────────────────────────────────────╯\u001b[0m\n"
      ]
     },
     "metadata": {},
     "output_type": "display_data"
    },
    {
     "data": {
      "text/html": [
       "<pre style=\"white-space:pre;overflow-x:auto;line-height:normal;font-family:Menlo,'DejaVu Sans Mono',consolas,'Courier New',monospace\">\n",
       "</pre>\n"
      ],
      "text/plain": [
       "\n"
      ]
     },
     "metadata": {},
     "output_type": "display_data"
    },
    {
     "data": {
      "text/html": [
       "<pre style=\"white-space:pre;overflow-x:auto;line-height:normal;font-family:Menlo,'DejaVu Sans Mono',consolas,'Courier New',monospace\"><span style=\"color: #008080; text-decoration-color: #008080; font-weight: bold\">🚀 Crew: crew</span>\n",
       "└── <span style=\"color: #808000; text-decoration-color: #808000; font-weight: bold\">📋 Task: ae8bac50-558d-4c37-9c26-844b0d475be3</span>\n",
       "    <span style=\"color: #c0c0c0; text-decoration-color: #c0c0c0\">   Status: </span><span style=\"color: #bfbf7f; text-decoration-color: #bfbf7f\">Executing Task...</span>\n",
       "</pre>\n"
      ],
      "text/plain": [
       "\u001b[1;36m🚀 Crew: \u001b[0m\u001b[1;36mcrew\u001b[0m\n",
       "└── \u001b[1;33m📋 Task: ae8bac50-558d-4c37-9c26-844b0d475be3\u001b[0m\n",
       "    \u001b[37m   Status: \u001b[0m\u001b[2;33mExecuting Task...\u001b[0m\n"
      ]
     },
     "metadata": {},
     "output_type": "display_data"
    },
    {
     "data": {
      "text/html": [
       "<pre style=\"white-space:pre;overflow-x:auto;line-height:normal;font-family:Menlo,'DejaVu Sans Mono',consolas,'Courier New',monospace\">\n",
       "</pre>\n"
      ],
      "text/plain": [
       "\n"
      ]
     },
     "metadata": {},
     "output_type": "display_data"
    },
    {
     "data": {
      "text/html": [
       "<pre style=\"white-space:pre;overflow-x:auto;line-height:normal;font-family:Menlo,'DejaVu Sans Mono',consolas,'Courier New',monospace\"><span style=\"color: #008080; text-decoration-color: #008080; font-weight: bold\">🚀 Crew: crew</span>\n",
       "└── <span style=\"color: #808000; text-decoration-color: #808000; font-weight: bold\">📋 Task: ae8bac50-558d-4c37-9c26-844b0d475be3</span>\n",
       "    <span style=\"color: #c0c0c0; text-decoration-color: #c0c0c0\">   Status: </span><span style=\"color: #bfbf7f; text-decoration-color: #bfbf7f\">Executing Task...</span>\n",
       "    └── <span style=\"color: #008000; text-decoration-color: #008000; font-weight: bold\">🤖 Agent: </span><span style=\"color: #008000; text-decoration-color: #008000\">Email Content Writer</span>\n",
       "        \n",
       "        <span style=\"color: #c0c0c0; text-decoration-color: #c0c0c0\">    Status: </span><span style=\"color: #008000; text-decoration-color: #008000; font-weight: bold\">In Progress</span>\n",
       "</pre>\n"
      ],
      "text/plain": [
       "\u001b[1;36m🚀 Crew: \u001b[0m\u001b[1;36mcrew\u001b[0m\n",
       "└── \u001b[1;33m📋 Task: ae8bac50-558d-4c37-9c26-844b0d475be3\u001b[0m\n",
       "    \u001b[37m   Status: \u001b[0m\u001b[2;33mExecuting Task...\u001b[0m\n",
       "    └── \u001b[1;32m🤖 Agent: \u001b[0m\u001b[32mEmail Content Writer\u001b[0m\n",
       "        \n",
       "        \u001b[37m    Status: \u001b[0m\u001b[1;32mIn Progress\u001b[0m\n"
      ]
     },
     "metadata": {},
     "output_type": "display_data"
    },
    {
     "data": {
      "text/html": [
       "<pre style=\"white-space:pre;overflow-x:auto;line-height:normal;font-family:Menlo,'DejaVu Sans Mono',consolas,'Courier New',monospace\">\n",
       "</pre>\n"
      ],
      "text/plain": [
       "\n"
      ]
     },
     "metadata": {},
     "output_type": "display_data"
    },
    {
     "name": "stdout",
     "output_type": "stream",
     "text": [
      "\u001b[1m\u001b[95m# Agent:\u001b[00m \u001b[1m\u001b[92mEmail Content Writer\u001b[00m\n",
      "\u001b[95m## Task:\u001b[00m \u001b[92mCraft a highly personalized email using the lead's name, job title, company information, and any relevant personal or company achievements. The email should speak directly to the lead's interests and the needs of their company. This is not as cold outreach as it is a follow up to a lead form, so keep it short and to the point. Don't use any salutations or closing remarks, nor too complex sentences.\n",
      "Our Company and Product: - Company Name: CrewAI - Product: Multi-Agent Orchestration Platform - ICP: Enterprise companies looking into Agentic automation. - Pitch: We are a platform that allows you to orchestrate AI Agents for automations to any vertical.\n",
      "Use the following information: Personal Info: {'name': 'João Moura', 'job_title': 'Director of Engineering', 'role_relevance': 8, 'professional_background': \"João Moura likely has extensive experience in engineering and data analytics, given his role and the company's focus on data enrichment.\"} Company Info: {'company_name': 'Clearbit', 'industry': 'B2B Marketing Intelligence', 'company_size': 127, 'revenue': 31.5, 'market_presence': 7} Lead Score: {'score': 78, 'scoring_criteria': ['Role Relevance: 8/10', 'Company Size: 8/10', 'Market Presence: 7/10', 'Cultural Fit: 8/10'], 'validation_notes': 'The scores have been derived based on clear benchmarking against predefined criteria, yielding a solid lead scoring outcome.'}\n",
      "\u001b[00m\n",
      "\n",
      "\n",
      "\u001b[1m\u001b[95m# Agent:\u001b[00m \u001b[1m\u001b[92mEmail Content Writer\u001b[00m\n",
      "\u001b[95m## Final Answer:\u001b[00m \u001b[92m\n",
      "Hi João Moura, as the Director of Engineering at Clearbit, your extensive background in engineering and data analytics positions you uniquely to harness the power of Agentic automation. With Clearbit's focus on B2B Marketing Intelligence and your company’s impressive market presence, CrewAI's Multi-Agent Orchestration Platform can seamlessly integrate into your operations. Our platform allows your team to orchestrate AI Agents across various verticals, enhancing efficiency and driving data-driven decisions. Given your emphasis on data enrichment, our solution can significantly optimize processes, making it an ideal fit for Clearbit's objectives. Let’s explore how we can support your initiatives towards effective automation.\u001b[00m\n",
      "\n",
      "\n"
     ]
    },
    {
     "data": {
      "text/html": [
       "<pre style=\"white-space:pre;overflow-x:auto;line-height:normal;font-family:Menlo,'DejaVu Sans Mono',consolas,'Courier New',monospace\"><span style=\"color: #008080; text-decoration-color: #008080; font-weight: bold\">🚀 Crew: crew</span>\n",
       "└── <span style=\"color: #808000; text-decoration-color: #808000; font-weight: bold\">📋 Task: ae8bac50-558d-4c37-9c26-844b0d475be3</span>\n",
       "    <span style=\"color: #c0c0c0; text-decoration-color: #c0c0c0\">   Status: </span><span style=\"color: #bfbf7f; text-decoration-color: #bfbf7f\">Executing Task...</span>\n",
       "    └── <span style=\"color: #008000; text-decoration-color: #008000; font-weight: bold\">🤖 Agent: </span><span style=\"color: #008000; text-decoration-color: #008000\">Email Content Writer</span>\n",
       "        \n",
       "        <span style=\"color: #c0c0c0; text-decoration-color: #c0c0c0\">    Status: </span><span style=\"color: #008000; text-decoration-color: #008000; font-weight: bold\">✅ Completed</span>\n",
       "</pre>\n"
      ],
      "text/plain": [
       "\u001b[1;36m🚀 Crew: \u001b[0m\u001b[1;36mcrew\u001b[0m\n",
       "└── \u001b[1;33m📋 Task: ae8bac50-558d-4c37-9c26-844b0d475be3\u001b[0m\n",
       "    \u001b[37m   Status: \u001b[0m\u001b[2;33mExecuting Task...\u001b[0m\n",
       "    └── \u001b[1;32m🤖 Agent: \u001b[0m\u001b[32mEmail Content Writer\u001b[0m\n",
       "        \n",
       "        \u001b[37m    Status: \u001b[0m\u001b[1;32m✅ Completed\u001b[0m\n"
      ]
     },
     "metadata": {},
     "output_type": "display_data"
    },
    {
     "data": {
      "text/html": [
       "<pre style=\"white-space:pre;overflow-x:auto;line-height:normal;font-family:Menlo,'DejaVu Sans Mono',consolas,'Courier New',monospace\">\n",
       "</pre>\n"
      ],
      "text/plain": [
       "\n"
      ]
     },
     "metadata": {},
     "output_type": "display_data"
    },
    {
     "data": {
      "text/html": [
       "<pre style=\"white-space:pre;overflow-x:auto;line-height:normal;font-family:Menlo,'DejaVu Sans Mono',consolas,'Courier New',monospace\"><span style=\"color: #008080; text-decoration-color: #008080; font-weight: bold\">🚀 Crew: crew</span>\n",
       "└── <span style=\"color: #008000; text-decoration-color: #008000; font-weight: bold\">📋 Task: ae8bac50-558d-4c37-9c26-844b0d475be3</span>\n",
       "    <span style=\"color: #c0c0c0; text-decoration-color: #c0c0c0\">   Assigned to: </span><span style=\"color: #008000; text-decoration-color: #008000\">Email Content Writer</span>\n",
       "    \n",
       "    <span style=\"color: #c0c0c0; text-decoration-color: #c0c0c0\">   Status: </span><span style=\"color: #008000; text-decoration-color: #008000; font-weight: bold\">✅ Completed</span>\n",
       "    └── <span style=\"color: #008000; text-decoration-color: #008000; font-weight: bold\">🤖 Agent: </span><span style=\"color: #008000; text-decoration-color: #008000\">Email Content Writer</span>\n",
       "        \n",
       "        <span style=\"color: #c0c0c0; text-decoration-color: #c0c0c0\">    Status: </span><span style=\"color: #008000; text-decoration-color: #008000; font-weight: bold\">✅ Completed</span>\n",
       "</pre>\n"
      ],
      "text/plain": [
       "\u001b[1;36m🚀 Crew: \u001b[0m\u001b[1;36mcrew\u001b[0m\n",
       "└── \u001b[1;32m📋 Task: ae8bac50-558d-4c37-9c26-844b0d475be3\u001b[0m\n",
       "    \u001b[37m   Assigned to: \u001b[0m\u001b[32mEmail Content Writer\u001b[0m\n",
       "    \n",
       "    \u001b[37m   Status: \u001b[0m\u001b[1;32m✅ Completed\u001b[0m\n",
       "    └── \u001b[1;32m🤖 Agent: \u001b[0m\u001b[32mEmail Content Writer\u001b[0m\n",
       "        \n",
       "        \u001b[37m    Status: \u001b[0m\u001b[1;32m✅ Completed\u001b[0m\n"
      ]
     },
     "metadata": {},
     "output_type": "display_data"
    },
    {
     "data": {
      "text/html": [
       "<pre style=\"white-space:pre;overflow-x:auto;line-height:normal;font-family:Menlo,'DejaVu Sans Mono',consolas,'Courier New',monospace\"><span style=\"color: #008000; text-decoration-color: #008000\">╭──────────────────────────────────────────────── Task Completion ────────────────────────────────────────────────╮</span>\n",
       "<span style=\"color: #008000; text-decoration-color: #008000\">│</span>                                                                                                                 <span style=\"color: #008000; text-decoration-color: #008000\">│</span>\n",
       "<span style=\"color: #008000; text-decoration-color: #008000\">│</span>  <span style=\"color: #008000; text-decoration-color: #008000; font-weight: bold\">Task Completed</span>                                                                                                 <span style=\"color: #008000; text-decoration-color: #008000\">│</span>\n",
       "<span style=\"color: #008000; text-decoration-color: #008000\">│</span>  <span style=\"color: #c0c0c0; text-decoration-color: #c0c0c0\">Name: </span><span style=\"color: #008000; text-decoration-color: #008000\">ae8bac50-558d-4c37-9c26-844b0d475be3</span>                                                                     <span style=\"color: #008000; text-decoration-color: #008000\">│</span>\n",
       "<span style=\"color: #008000; text-decoration-color: #008000\">│</span>  <span style=\"color: #c0c0c0; text-decoration-color: #c0c0c0\">Agent: </span><span style=\"color: #008000; text-decoration-color: #008000\">Email Content Writer</span>                                                                                    <span style=\"color: #008000; text-decoration-color: #008000\">│</span>\n",
       "<span style=\"color: #008000; text-decoration-color: #008000\">│</span>                                                                                                                 <span style=\"color: #008000; text-decoration-color: #008000\">│</span>\n",
       "<span style=\"color: #008000; text-decoration-color: #008000\">│</span>                                                                                                                 <span style=\"color: #008000; text-decoration-color: #008000\">│</span>\n",
       "<span style=\"color: #008000; text-decoration-color: #008000\">│</span>                                                                                                                 <span style=\"color: #008000; text-decoration-color: #008000\">│</span>\n",
       "<span style=\"color: #008000; text-decoration-color: #008000\">╰─────────────────────────────────────────────────────────────────────────────────────────────────────────────────╯</span>\n",
       "</pre>\n"
      ],
      "text/plain": [
       "\u001b[32m╭─\u001b[0m\u001b[32m───────────────────────────────────────────────\u001b[0m\u001b[32m Task Completion \u001b[0m\u001b[32m───────────────────────────────────────────────\u001b[0m\u001b[32m─╮\u001b[0m\n",
       "\u001b[32m│\u001b[0m                                                                                                                 \u001b[32m│\u001b[0m\n",
       "\u001b[32m│\u001b[0m  \u001b[1;32mTask Completed\u001b[0m                                                                                                 \u001b[32m│\u001b[0m\n",
       "\u001b[32m│\u001b[0m  \u001b[37mName: \u001b[0m\u001b[32mae8bac50-558d-4c37-9c26-844b0d475be3\u001b[0m                                                                     \u001b[32m│\u001b[0m\n",
       "\u001b[32m│\u001b[0m  \u001b[37mAgent: \u001b[0m\u001b[32mEmail Content Writer\u001b[0m                                                                                    \u001b[32m│\u001b[0m\n",
       "\u001b[32m│\u001b[0m                                                                                                                 \u001b[32m│\u001b[0m\n",
       "\u001b[32m│\u001b[0m                                                                                                                 \u001b[32m│\u001b[0m\n",
       "\u001b[32m│\u001b[0m                                                                                                                 \u001b[32m│\u001b[0m\n",
       "\u001b[32m╰─────────────────────────────────────────────────────────────────────────────────────────────────────────────────╯\u001b[0m\n"
      ]
     },
     "metadata": {},
     "output_type": "display_data"
    },
    {
     "data": {
      "text/html": [
       "<pre style=\"white-space:pre;overflow-x:auto;line-height:normal;font-family:Menlo,'DejaVu Sans Mono',consolas,'Courier New',monospace\">\n",
       "</pre>\n"
      ],
      "text/plain": [
       "\n"
      ]
     },
     "metadata": {},
     "output_type": "display_data"
    },
    {
     "data": {
      "text/html": [
       "<pre style=\"white-space:pre;overflow-x:auto;line-height:normal;font-family:Menlo,'DejaVu Sans Mono',consolas,'Courier New',monospace\"><span style=\"color: #008080; text-decoration-color: #008080; font-weight: bold\">🚀 Crew: crew</span>\n",
       "├── <span style=\"color: #008000; text-decoration-color: #008000; font-weight: bold\">📋 Task: ae8bac50-558d-4c37-9c26-844b0d475be3</span>\n",
       "│   <span style=\"color: #c0c0c0; text-decoration-color: #c0c0c0\">   Assigned to: </span><span style=\"color: #008000; text-decoration-color: #008000\">Email Content Writer</span>\n",
       "│   \n",
       "│   <span style=\"color: #c0c0c0; text-decoration-color: #c0c0c0\">   Status: </span><span style=\"color: #008000; text-decoration-color: #008000; font-weight: bold\">✅ Completed</span>\n",
       "│   └── <span style=\"color: #008000; text-decoration-color: #008000; font-weight: bold\">🤖 Agent: </span><span style=\"color: #008000; text-decoration-color: #008000\">Email Content Writer</span>\n",
       "│       \n",
       "│       <span style=\"color: #c0c0c0; text-decoration-color: #c0c0c0\">    Status: </span><span style=\"color: #008000; text-decoration-color: #008000; font-weight: bold\">✅ Completed</span>\n",
       "└── <span style=\"color: #808000; text-decoration-color: #808000; font-weight: bold\">📋 Task: 045fed3e-3e14-4dc9-91b6-90fb4b35e73a</span>\n",
       "    <span style=\"color: #c0c0c0; text-decoration-color: #c0c0c0\">   Status: </span><span style=\"color: #bfbf7f; text-decoration-color: #bfbf7f\">Executing Task...</span>\n",
       "</pre>\n"
      ],
      "text/plain": [
       "\u001b[1;36m🚀 Crew: \u001b[0m\u001b[1;36mcrew\u001b[0m\n",
       "├── \u001b[1;32m📋 Task: ae8bac50-558d-4c37-9c26-844b0d475be3\u001b[0m\n",
       "│   \u001b[37m   Assigned to: \u001b[0m\u001b[32mEmail Content Writer\u001b[0m\n",
       "│   \n",
       "│   \u001b[37m   Status: \u001b[0m\u001b[1;32m✅ Completed\u001b[0m\n",
       "│   └── \u001b[1;32m🤖 Agent: \u001b[0m\u001b[32mEmail Content Writer\u001b[0m\n",
       "│       \n",
       "│       \u001b[37m    Status: \u001b[0m\u001b[1;32m✅ Completed\u001b[0m\n",
       "└── \u001b[1;33m📋 Task: 045fed3e-3e14-4dc9-91b6-90fb4b35e73a\u001b[0m\n",
       "    \u001b[37m   Status: \u001b[0m\u001b[2;33mExecuting Task...\u001b[0m\n"
      ]
     },
     "metadata": {},
     "output_type": "display_data"
    },
    {
     "data": {
      "text/html": [
       "<pre style=\"white-space:pre;overflow-x:auto;line-height:normal;font-family:Menlo,'DejaVu Sans Mono',consolas,'Courier New',monospace\">\n",
       "</pre>\n"
      ],
      "text/plain": [
       "\n"
      ]
     },
     "metadata": {},
     "output_type": "display_data"
    },
    {
     "data": {
      "text/html": [
       "<pre style=\"white-space:pre;overflow-x:auto;line-height:normal;font-family:Menlo,'DejaVu Sans Mono',consolas,'Courier New',monospace\"><span style=\"color: #008080; text-decoration-color: #008080; font-weight: bold\">🚀 Crew: crew</span>\n",
       "├── <span style=\"color: #008000; text-decoration-color: #008000; font-weight: bold\">📋 Task: ae8bac50-558d-4c37-9c26-844b0d475be3</span>\n",
       "│   <span style=\"color: #c0c0c0; text-decoration-color: #c0c0c0\">   Assigned to: </span><span style=\"color: #008000; text-decoration-color: #008000\">Email Content Writer</span>\n",
       "│   \n",
       "│   <span style=\"color: #c0c0c0; text-decoration-color: #c0c0c0\">   Status: </span><span style=\"color: #008000; text-decoration-color: #008000; font-weight: bold\">✅ Completed</span>\n",
       "│   └── <span style=\"color: #008000; text-decoration-color: #008000; font-weight: bold\">🤖 Agent: </span><span style=\"color: #008000; text-decoration-color: #008000\">Email Content Writer</span>\n",
       "│       \n",
       "│       <span style=\"color: #c0c0c0; text-decoration-color: #c0c0c0\">    Status: </span><span style=\"color: #008000; text-decoration-color: #008000; font-weight: bold\">✅ Completed</span>\n",
       "└── <span style=\"color: #808000; text-decoration-color: #808000; font-weight: bold\">📋 Task: 045fed3e-3e14-4dc9-91b6-90fb4b35e73a</span>\n",
       "    <span style=\"color: #c0c0c0; text-decoration-color: #c0c0c0\">   Status: </span><span style=\"color: #bfbf7f; text-decoration-color: #bfbf7f\">Executing Task...</span>\n",
       "    └── <span style=\"color: #008000; text-decoration-color: #008000; font-weight: bold\">🤖 Agent: </span><span style=\"color: #008000; text-decoration-color: #008000\">Engagement Optimization Specialist</span>\n",
       "        \n",
       "        <span style=\"color: #c0c0c0; text-decoration-color: #c0c0c0\">    Status: </span><span style=\"color: #008000; text-decoration-color: #008000; font-weight: bold\">In Progress</span>\n",
       "</pre>\n"
      ],
      "text/plain": [
       "\u001b[1;36m🚀 Crew: \u001b[0m\u001b[1;36mcrew\u001b[0m\n",
       "├── \u001b[1;32m📋 Task: ae8bac50-558d-4c37-9c26-844b0d475be3\u001b[0m\n",
       "│   \u001b[37m   Assigned to: \u001b[0m\u001b[32mEmail Content Writer\u001b[0m\n",
       "│   \n",
       "│   \u001b[37m   Status: \u001b[0m\u001b[1;32m✅ Completed\u001b[0m\n",
       "│   └── \u001b[1;32m🤖 Agent: \u001b[0m\u001b[32mEmail Content Writer\u001b[0m\n",
       "│       \n",
       "│       \u001b[37m    Status: \u001b[0m\u001b[1;32m✅ Completed\u001b[0m\n",
       "└── \u001b[1;33m📋 Task: 045fed3e-3e14-4dc9-91b6-90fb4b35e73a\u001b[0m\n",
       "    \u001b[37m   Status: \u001b[0m\u001b[2;33mExecuting Task...\u001b[0m\n",
       "    └── \u001b[1;32m🤖 Agent: \u001b[0m\u001b[32mEngagement Optimization Specialist\u001b[0m\n",
       "        \n",
       "        \u001b[37m    Status: \u001b[0m\u001b[1;32mIn Progress\u001b[0m\n"
      ]
     },
     "metadata": {},
     "output_type": "display_data"
    },
    {
     "data": {
      "text/html": [
       "<pre style=\"white-space:pre;overflow-x:auto;line-height:normal;font-family:Menlo,'DejaVu Sans Mono',consolas,'Courier New',monospace\">\n",
       "</pre>\n"
      ],
      "text/plain": [
       "\n"
      ]
     },
     "metadata": {},
     "output_type": "display_data"
    },
    {
     "name": "stdout",
     "output_type": "stream",
     "text": [
      "\u001b[1m\u001b[95m# Agent:\u001b[00m \u001b[1m\u001b[92mEngagement Optimization Specialist\u001b[00m\n",
      "\u001b[95m## Task:\u001b[00m \u001b[92mReview the personalized email draft and optimize it with strong CTAs and engagement hooks. Keep in mind they reached out and filled a lead form. Keep it short and to the point. Don't use any salutations or closing remarks, nor too complex sentences. Ensure the email encourages the lead to schedule a meeting or take another desired action immediately.\n",
      "Our Company and Product: - Company Name: CrewAI - Product: Multi-Agent Orchestration Platform - ICP: Enterprise companies looking into Agentic automation. - Pitch: We are a platform that allows you to orchestrate AI Agents for automations to any vertical.\n",
      "\u001b[00m\n",
      "\n",
      "\n",
      "\u001b[1m\u001b[95m# Agent:\u001b[00m \u001b[1m\u001b[92mEngagement Optimization Specialist\u001b[00m\n",
      "\u001b[95m## Final Answer:\u001b[00m \u001b[92m\n",
      "João, your role at Clearbit centers on harnessing data to drive decisions. Imagine amplifying your team's capabilities with CrewAI's Multi-Agent Orchestration Platform. Our solution empowers you to orchestrate AI Agents optimizing your processes, directly aligning with Clearbit's goals in B2B Marketing Intelligence.\n",
      "\n",
      "Ready to see how this can transform your operations? Click here to schedule a quick demo and discover the potential: [Schedule Demo Link]. \n",
      "\n",
      "Don’t miss out on the chance to elevate your automation strategy. Let’s make Clearbit's growth more efficient! Act now!\u001b[00m\n",
      "\n",
      "\n"
     ]
    },
    {
     "data": {
      "text/html": [
       "<pre style=\"white-space:pre;overflow-x:auto;line-height:normal;font-family:Menlo,'DejaVu Sans Mono',consolas,'Courier New',monospace\"><span style=\"color: #008080; text-decoration-color: #008080; font-weight: bold\">🚀 Crew: crew</span>\n",
       "├── <span style=\"color: #008000; text-decoration-color: #008000; font-weight: bold\">📋 Task: ae8bac50-558d-4c37-9c26-844b0d475be3</span>\n",
       "│   <span style=\"color: #c0c0c0; text-decoration-color: #c0c0c0\">   Assigned to: </span><span style=\"color: #008000; text-decoration-color: #008000\">Email Content Writer</span>\n",
       "│   \n",
       "│   <span style=\"color: #c0c0c0; text-decoration-color: #c0c0c0\">   Status: </span><span style=\"color: #008000; text-decoration-color: #008000; font-weight: bold\">✅ Completed</span>\n",
       "│   └── <span style=\"color: #008000; text-decoration-color: #008000; font-weight: bold\">🤖 Agent: </span><span style=\"color: #008000; text-decoration-color: #008000\">Email Content Writer</span>\n",
       "│       \n",
       "│       <span style=\"color: #c0c0c0; text-decoration-color: #c0c0c0\">    Status: </span><span style=\"color: #008000; text-decoration-color: #008000; font-weight: bold\">✅ Completed</span>\n",
       "└── <span style=\"color: #808000; text-decoration-color: #808000; font-weight: bold\">📋 Task: 045fed3e-3e14-4dc9-91b6-90fb4b35e73a</span>\n",
       "    <span style=\"color: #c0c0c0; text-decoration-color: #c0c0c0\">   Status: </span><span style=\"color: #bfbf7f; text-decoration-color: #bfbf7f\">Executing Task...</span>\n",
       "    └── <span style=\"color: #008000; text-decoration-color: #008000; font-weight: bold\">🤖 Agent: </span><span style=\"color: #008000; text-decoration-color: #008000\">Engagement Optimization Specialist</span>\n",
       "        \n",
       "        <span style=\"color: #c0c0c0; text-decoration-color: #c0c0c0\">    Status: </span><span style=\"color: #008000; text-decoration-color: #008000; font-weight: bold\">✅ Completed</span>\n",
       "</pre>\n"
      ],
      "text/plain": [
       "\u001b[1;36m🚀 Crew: \u001b[0m\u001b[1;36mcrew\u001b[0m\n",
       "├── \u001b[1;32m📋 Task: ae8bac50-558d-4c37-9c26-844b0d475be3\u001b[0m\n",
       "│   \u001b[37m   Assigned to: \u001b[0m\u001b[32mEmail Content Writer\u001b[0m\n",
       "│   \n",
       "│   \u001b[37m   Status: \u001b[0m\u001b[1;32m✅ Completed\u001b[0m\n",
       "│   └── \u001b[1;32m🤖 Agent: \u001b[0m\u001b[32mEmail Content Writer\u001b[0m\n",
       "│       \n",
       "│       \u001b[37m    Status: \u001b[0m\u001b[1;32m✅ Completed\u001b[0m\n",
       "└── \u001b[1;33m📋 Task: 045fed3e-3e14-4dc9-91b6-90fb4b35e73a\u001b[0m\n",
       "    \u001b[37m   Status: \u001b[0m\u001b[2;33mExecuting Task...\u001b[0m\n",
       "    └── \u001b[1;32m🤖 Agent: \u001b[0m\u001b[32mEngagement Optimization Specialist\u001b[0m\n",
       "        \n",
       "        \u001b[37m    Status: \u001b[0m\u001b[1;32m✅ Completed\u001b[0m\n"
      ]
     },
     "metadata": {},
     "output_type": "display_data"
    },
    {
     "data": {
      "text/html": [
       "<pre style=\"white-space:pre;overflow-x:auto;line-height:normal;font-family:Menlo,'DejaVu Sans Mono',consolas,'Courier New',monospace\">\n",
       "</pre>\n"
      ],
      "text/plain": [
       "\n"
      ]
     },
     "metadata": {},
     "output_type": "display_data"
    },
    {
     "data": {
      "text/html": [
       "<pre style=\"white-space:pre;overflow-x:auto;line-height:normal;font-family:Menlo,'DejaVu Sans Mono',consolas,'Courier New',monospace\"><span style=\"color: #008080; text-decoration-color: #008080; font-weight: bold\">🚀 Crew: crew</span>\n",
       "├── <span style=\"color: #008000; text-decoration-color: #008000; font-weight: bold\">📋 Task: ae8bac50-558d-4c37-9c26-844b0d475be3</span>\n",
       "│   <span style=\"color: #c0c0c0; text-decoration-color: #c0c0c0\">   Assigned to: </span><span style=\"color: #008000; text-decoration-color: #008000\">Email Content Writer</span>\n",
       "│   \n",
       "│   <span style=\"color: #c0c0c0; text-decoration-color: #c0c0c0\">   Status: </span><span style=\"color: #008000; text-decoration-color: #008000; font-weight: bold\">✅ Completed</span>\n",
       "│   └── <span style=\"color: #008000; text-decoration-color: #008000; font-weight: bold\">🤖 Agent: </span><span style=\"color: #008000; text-decoration-color: #008000\">Email Content Writer</span>\n",
       "│       \n",
       "│       <span style=\"color: #c0c0c0; text-decoration-color: #c0c0c0\">    Status: </span><span style=\"color: #008000; text-decoration-color: #008000; font-weight: bold\">✅ Completed</span>\n",
       "└── <span style=\"color: #008000; text-decoration-color: #008000; font-weight: bold\">📋 Task: 045fed3e-3e14-4dc9-91b6-90fb4b35e73a</span>\n",
       "    <span style=\"color: #c0c0c0; text-decoration-color: #c0c0c0\">   Assigned to: </span><span style=\"color: #008000; text-decoration-color: #008000\">Engagement Optimization Specialist</span>\n",
       "    \n",
       "    <span style=\"color: #c0c0c0; text-decoration-color: #c0c0c0\">   Status: </span><span style=\"color: #008000; text-decoration-color: #008000; font-weight: bold\">✅ Completed</span>\n",
       "    └── <span style=\"color: #008000; text-decoration-color: #008000; font-weight: bold\">🤖 Agent: </span><span style=\"color: #008000; text-decoration-color: #008000\">Engagement Optimization Specialist</span>\n",
       "        \n",
       "        <span style=\"color: #c0c0c0; text-decoration-color: #c0c0c0\">    Status: </span><span style=\"color: #008000; text-decoration-color: #008000; font-weight: bold\">✅ Completed</span>\n",
       "</pre>\n"
      ],
      "text/plain": [
       "\u001b[1;36m🚀 Crew: \u001b[0m\u001b[1;36mcrew\u001b[0m\n",
       "├── \u001b[1;32m📋 Task: ae8bac50-558d-4c37-9c26-844b0d475be3\u001b[0m\n",
       "│   \u001b[37m   Assigned to: \u001b[0m\u001b[32mEmail Content Writer\u001b[0m\n",
       "│   \n",
       "│   \u001b[37m   Status: \u001b[0m\u001b[1;32m✅ Completed\u001b[0m\n",
       "│   └── \u001b[1;32m🤖 Agent: \u001b[0m\u001b[32mEmail Content Writer\u001b[0m\n",
       "│       \n",
       "│       \u001b[37m    Status: \u001b[0m\u001b[1;32m✅ Completed\u001b[0m\n",
       "└── \u001b[1;32m📋 Task: 045fed3e-3e14-4dc9-91b6-90fb4b35e73a\u001b[0m\n",
       "    \u001b[37m   Assigned to: \u001b[0m\u001b[32mEngagement Optimization Specialist\u001b[0m\n",
       "    \n",
       "    \u001b[37m   Status: \u001b[0m\u001b[1;32m✅ Completed\u001b[0m\n",
       "    └── \u001b[1;32m🤖 Agent: \u001b[0m\u001b[32mEngagement Optimization Specialist\u001b[0m\n",
       "        \n",
       "        \u001b[37m    Status: \u001b[0m\u001b[1;32m✅ Completed\u001b[0m\n"
      ]
     },
     "metadata": {},
     "output_type": "display_data"
    },
    {
     "data": {
      "text/html": [
       "<pre style=\"white-space:pre;overflow-x:auto;line-height:normal;font-family:Menlo,'DejaVu Sans Mono',consolas,'Courier New',monospace\"><span style=\"color: #008000; text-decoration-color: #008000\">╭──────────────────────────────────────────────── Task Completion ────────────────────────────────────────────────╮</span>\n",
       "<span style=\"color: #008000; text-decoration-color: #008000\">│</span>                                                                                                                 <span style=\"color: #008000; text-decoration-color: #008000\">│</span>\n",
       "<span style=\"color: #008000; text-decoration-color: #008000\">│</span>  <span style=\"color: #008000; text-decoration-color: #008000; font-weight: bold\">Task Completed</span>                                                                                                 <span style=\"color: #008000; text-decoration-color: #008000\">│</span>\n",
       "<span style=\"color: #008000; text-decoration-color: #008000\">│</span>  <span style=\"color: #c0c0c0; text-decoration-color: #c0c0c0\">Name: </span><span style=\"color: #008000; text-decoration-color: #008000\">045fed3e-3e14-4dc9-91b6-90fb4b35e73a</span>                                                                     <span style=\"color: #008000; text-decoration-color: #008000\">│</span>\n",
       "<span style=\"color: #008000; text-decoration-color: #008000\">│</span>  <span style=\"color: #c0c0c0; text-decoration-color: #c0c0c0\">Agent: </span><span style=\"color: #008000; text-decoration-color: #008000\">Engagement Optimization Specialist</span>                                                                      <span style=\"color: #008000; text-decoration-color: #008000\">│</span>\n",
       "<span style=\"color: #008000; text-decoration-color: #008000\">│</span>                                                                                                                 <span style=\"color: #008000; text-decoration-color: #008000\">│</span>\n",
       "<span style=\"color: #008000; text-decoration-color: #008000\">│</span>                                                                                                                 <span style=\"color: #008000; text-decoration-color: #008000\">│</span>\n",
       "<span style=\"color: #008000; text-decoration-color: #008000\">│</span>                                                                                                                 <span style=\"color: #008000; text-decoration-color: #008000\">│</span>\n",
       "<span style=\"color: #008000; text-decoration-color: #008000\">╰─────────────────────────────────────────────────────────────────────────────────────────────────────────────────╯</span>\n",
       "</pre>\n"
      ],
      "text/plain": [
       "\u001b[32m╭─\u001b[0m\u001b[32m───────────────────────────────────────────────\u001b[0m\u001b[32m Task Completion \u001b[0m\u001b[32m───────────────────────────────────────────────\u001b[0m\u001b[32m─╮\u001b[0m\n",
       "\u001b[32m│\u001b[0m                                                                                                                 \u001b[32m│\u001b[0m\n",
       "\u001b[32m│\u001b[0m  \u001b[1;32mTask Completed\u001b[0m                                                                                                 \u001b[32m│\u001b[0m\n",
       "\u001b[32m│\u001b[0m  \u001b[37mName: \u001b[0m\u001b[32m045fed3e-3e14-4dc9-91b6-90fb4b35e73a\u001b[0m                                                                     \u001b[32m│\u001b[0m\n",
       "\u001b[32m│\u001b[0m  \u001b[37mAgent: \u001b[0m\u001b[32mEngagement Optimization Specialist\u001b[0m                                                                      \u001b[32m│\u001b[0m\n",
       "\u001b[32m│\u001b[0m                                                                                                                 \u001b[32m│\u001b[0m\n",
       "\u001b[32m│\u001b[0m                                                                                                                 \u001b[32m│\u001b[0m\n",
       "\u001b[32m│\u001b[0m                                                                                                                 \u001b[32m│\u001b[0m\n",
       "\u001b[32m╰─────────────────────────────────────────────────────────────────────────────────────────────────────────────────╯\u001b[0m\n"
      ]
     },
     "metadata": {},
     "output_type": "display_data"
    },
    {
     "data": {
      "text/html": [
       "<pre style=\"white-space:pre;overflow-x:auto;line-height:normal;font-family:Menlo,'DejaVu Sans Mono',consolas,'Courier New',monospace\">\n",
       "</pre>\n"
      ],
      "text/plain": [
       "\n"
      ]
     },
     "metadata": {},
     "output_type": "display_data"
    },
    {
     "data": {
      "text/html": [
       "<pre style=\"white-space:pre;overflow-x:auto;line-height:normal;font-family:Menlo,'DejaVu Sans Mono',consolas,'Courier New',monospace\"><span style=\"color: #008000; text-decoration-color: #008000\">╭──────────────────────────────────────────────── Crew Completion ────────────────────────────────────────────────╮</span>\n",
       "<span style=\"color: #008000; text-decoration-color: #008000\">│</span>                                                                                                                 <span style=\"color: #008000; text-decoration-color: #008000\">│</span>\n",
       "<span style=\"color: #008000; text-decoration-color: #008000\">│</span>  <span style=\"color: #008000; text-decoration-color: #008000; font-weight: bold\">Crew Execution Completed</span>                                                                                       <span style=\"color: #008000; text-decoration-color: #008000\">│</span>\n",
       "<span style=\"color: #008000; text-decoration-color: #008000\">│</span>  <span style=\"color: #c0c0c0; text-decoration-color: #c0c0c0\">Name: </span><span style=\"color: #008000; text-decoration-color: #008000\">crew</span>                                                                                                     <span style=\"color: #008000; text-decoration-color: #008000\">│</span>\n",
       "<span style=\"color: #008000; text-decoration-color: #008000\">│</span>  <span style=\"color: #c0c0c0; text-decoration-color: #c0c0c0\">ID: </span><span style=\"color: #008000; text-decoration-color: #008000\">cf5ae07d-da22-4a2c-aa8c-73e11346caf9</span>                                                                       <span style=\"color: #008000; text-decoration-color: #008000\">│</span>\n",
       "<span style=\"color: #008000; text-decoration-color: #008000\">│</span>                                                                                                                 <span style=\"color: #008000; text-decoration-color: #008000\">│</span>\n",
       "<span style=\"color: #008000; text-decoration-color: #008000\">│</span>                                                                                                                 <span style=\"color: #008000; text-decoration-color: #008000\">│</span>\n",
       "<span style=\"color: #008000; text-decoration-color: #008000\">╰─────────────────────────────────────────────────────────────────────────────────────────────────────────────────╯</span>\n",
       "</pre>\n"
      ],
      "text/plain": [
       "\u001b[32m╭─\u001b[0m\u001b[32m───────────────────────────────────────────────\u001b[0m\u001b[32m Crew Completion \u001b[0m\u001b[32m───────────────────────────────────────────────\u001b[0m\u001b[32m─╮\u001b[0m\n",
       "\u001b[32m│\u001b[0m                                                                                                                 \u001b[32m│\u001b[0m\n",
       "\u001b[32m│\u001b[0m  \u001b[1;32mCrew Execution Completed\u001b[0m                                                                                       \u001b[32m│\u001b[0m\n",
       "\u001b[32m│\u001b[0m  \u001b[37mName: \u001b[0m\u001b[32mcrew\u001b[0m                                                                                                     \u001b[32m│\u001b[0m\n",
       "\u001b[32m│\u001b[0m  \u001b[37mID: \u001b[0m\u001b[32mcf5ae07d-da22-4a2c-aa8c-73e11346caf9\u001b[0m                                                                       \u001b[32m│\u001b[0m\n",
       "\u001b[32m│\u001b[0m                                                                                                                 \u001b[32m│\u001b[0m\n",
       "\u001b[32m│\u001b[0m                                                                                                                 \u001b[32m│\u001b[0m\n",
       "\u001b[32m╰─────────────────────────────────────────────────────────────────────────────────────────────────────────────────╯\u001b[0m\n"
      ]
     },
     "metadata": {},
     "output_type": "display_data"
    },
    {
     "data": {
      "text/html": [
       "<pre style=\"white-space:pre;overflow-x:auto;line-height:normal;font-family:Menlo,'DejaVu Sans Mono',consolas,'Courier New',monospace\">\n",
       "</pre>\n"
      ],
      "text/plain": [
       "\n"
      ]
     },
     "metadata": {},
     "output_type": "display_data"
    },
    {
     "data": {
      "text/html": [
       "<pre style=\"white-space:pre;overflow-x:auto;line-height:normal;font-family:Menlo,'DejaVu Sans Mono',consolas,'Courier New',monospace\"><span style=\"color: #000080; text-decoration-color: #000080; font-weight: bold\">🌊 Flow: </span><span style=\"color: #000080; text-decoration-color: #000080\">SalesPipeline</span>\n",
       "<span style=\"color: #c0c0c0; text-decoration-color: #c0c0c0\">    ID: </span><span style=\"color: #000080; text-decoration-color: #000080\">ffe00d9d-48e2-4f21-b3b6-1b4beaddf987</span>\n",
       "├── <span style=\"color: #c0c0c0; text-decoration-color: #c0c0c0\">Flow Method Step</span>\n",
       "├── <span style=\"color: #008000; text-decoration-color: #008000; font-weight: bold\">✅ Completed: fetch_leads</span>\n",
       "├── <span style=\"color: #008000; text-decoration-color: #008000; font-weight: bold\">✅ Completed: score_leads</span>\n",
       "├── <span style=\"color: #008000; text-decoration-color: #008000; font-weight: bold\">✅ Completed: store_leads_score</span>\n",
       "├── <span style=\"color: #008000; text-decoration-color: #008000; font-weight: bold\">✅ Completed: filter_leads</span>\n",
       "└── <span style=\"color: #008000; text-decoration-color: #008000; font-weight: bold\">✅ Completed: write_email</span>\n",
       "</pre>\n"
      ],
      "text/plain": [
       "\u001b[1;34m🌊 Flow: \u001b[0m\u001b[34mSalesPipeline\u001b[0m\n",
       "\u001b[37m    ID: \u001b[0m\u001b[34mffe00d9d-48e2-4f21-b3b6-1b4beaddf987\u001b[0m\n",
       "├── \u001b[37mFlow Method Step\u001b[0m\n",
       "├── \u001b[1;32m✅ Completed:\u001b[0m\u001b[1;32m fetch_leads\u001b[0m\n",
       "├── \u001b[1;32m✅ Completed:\u001b[0m\u001b[1;32m score_leads\u001b[0m\n",
       "├── \u001b[1;32m✅ Completed:\u001b[0m\u001b[1;32m store_leads_score\u001b[0m\n",
       "├── \u001b[1;32m✅ Completed:\u001b[0m\u001b[1;32m filter_leads\u001b[0m\n",
       "└── \u001b[1;32m✅ Completed:\u001b[0m\u001b[1;32m write_email\u001b[0m\n"
      ]
     },
     "metadata": {},
     "output_type": "display_data"
    },
    {
     "data": {
      "text/html": [
       "<pre style=\"white-space:pre;overflow-x:auto;line-height:normal;font-family:Menlo,'DejaVu Sans Mono',consolas,'Courier New',monospace\">\n",
       "</pre>\n"
      ],
      "text/plain": [
       "\n"
      ]
     },
     "metadata": {},
     "output_type": "display_data"
    },
    {
     "data": {
      "text/html": [
       "<pre style=\"white-space:pre;overflow-x:auto;line-height:normal;font-family:Menlo,'DejaVu Sans Mono',consolas,'Courier New',monospace\"><span style=\"color: #000080; text-decoration-color: #000080; font-weight: bold\">🌊 Flow: </span><span style=\"color: #000080; text-decoration-color: #000080\">SalesPipeline</span>\n",
       "<span style=\"color: #c0c0c0; text-decoration-color: #c0c0c0\">    ID: </span><span style=\"color: #000080; text-decoration-color: #000080\">ffe00d9d-48e2-4f21-b3b6-1b4beaddf987</span>\n",
       "├── <span style=\"color: #c0c0c0; text-decoration-color: #c0c0c0\">Flow Method Step</span>\n",
       "├── <span style=\"color: #008000; text-decoration-color: #008000; font-weight: bold\">✅ Completed: fetch_leads</span>\n",
       "├── <span style=\"color: #008000; text-decoration-color: #008000; font-weight: bold\">✅ Completed: score_leads</span>\n",
       "├── <span style=\"color: #008000; text-decoration-color: #008000; font-weight: bold\">✅ Completed: store_leads_score</span>\n",
       "├── <span style=\"color: #008000; text-decoration-color: #008000; font-weight: bold\">✅ Completed: filter_leads</span>\n",
       "├── <span style=\"color: #008000; text-decoration-color: #008000; font-weight: bold\">✅ Completed: write_email</span>\n",
       "└── <span style=\"color: #808000; text-decoration-color: #808000; font-weight: bold\">🔄 Running: send_email</span>\n",
       "</pre>\n"
      ],
      "text/plain": [
       "\u001b[1;34m🌊 Flow: \u001b[0m\u001b[34mSalesPipeline\u001b[0m\n",
       "\u001b[37m    ID: \u001b[0m\u001b[34mffe00d9d-48e2-4f21-b3b6-1b4beaddf987\u001b[0m\n",
       "├── \u001b[37mFlow Method Step\u001b[0m\n",
       "├── \u001b[1;32m✅ Completed:\u001b[0m\u001b[1;32m fetch_leads\u001b[0m\n",
       "├── \u001b[1;32m✅ Completed:\u001b[0m\u001b[1;32m score_leads\u001b[0m\n",
       "├── \u001b[1;32m✅ Completed:\u001b[0m\u001b[1;32m store_leads_score\u001b[0m\n",
       "├── \u001b[1;32m✅ Completed:\u001b[0m\u001b[1;32m filter_leads\u001b[0m\n",
       "├── \u001b[1;32m✅ Completed:\u001b[0m\u001b[1;32m write_email\u001b[0m\n",
       "└── \u001b[1;33m🔄 Running:\u001b[0m\u001b[1;33m send_email\u001b[0m\n"
      ]
     },
     "metadata": {},
     "output_type": "display_data"
    },
    {
     "data": {
      "text/html": [
       "<pre style=\"white-space:pre;overflow-x:auto;line-height:normal;font-family:Menlo,'DejaVu Sans Mono',consolas,'Courier New',monospace\">\n",
       "</pre>\n"
      ],
      "text/plain": [
       "\n"
      ]
     },
     "metadata": {},
     "output_type": "display_data"
    },
    {
     "data": {
      "text/html": [
       "<pre style=\"white-space:pre;overflow-x:auto;line-height:normal;font-family:Menlo,'DejaVu Sans Mono',consolas,'Courier New',monospace\"><span style=\"color: #000080; text-decoration-color: #000080; font-weight: bold\">🌊 Flow: </span><span style=\"color: #000080; text-decoration-color: #000080\">SalesPipeline</span>\n",
       "<span style=\"color: #c0c0c0; text-decoration-color: #c0c0c0\">    ID: </span><span style=\"color: #000080; text-decoration-color: #000080\">ffe00d9d-48e2-4f21-b3b6-1b4beaddf987</span>\n",
       "├── <span style=\"color: #c0c0c0; text-decoration-color: #c0c0c0\">Flow Method Step</span>\n",
       "├── <span style=\"color: #008000; text-decoration-color: #008000; font-weight: bold\">✅ Completed: fetch_leads</span>\n",
       "├── <span style=\"color: #008000; text-decoration-color: #008000; font-weight: bold\">✅ Completed: score_leads</span>\n",
       "├── <span style=\"color: #008000; text-decoration-color: #008000; font-weight: bold\">✅ Completed: store_leads_score</span>\n",
       "├── <span style=\"color: #008000; text-decoration-color: #008000; font-weight: bold\">✅ Completed: filter_leads</span>\n",
       "├── <span style=\"color: #008000; text-decoration-color: #008000; font-weight: bold\">✅ Completed: write_email</span>\n",
       "└── <span style=\"color: #008000; text-decoration-color: #008000; font-weight: bold\">✅ Completed: send_email</span>\n",
       "</pre>\n"
      ],
      "text/plain": [
       "\u001b[1;34m🌊 Flow: \u001b[0m\u001b[34mSalesPipeline\u001b[0m\n",
       "\u001b[37m    ID: \u001b[0m\u001b[34mffe00d9d-48e2-4f21-b3b6-1b4beaddf987\u001b[0m\n",
       "├── \u001b[37mFlow Method Step\u001b[0m\n",
       "├── \u001b[1;32m✅ Completed:\u001b[0m\u001b[1;32m fetch_leads\u001b[0m\n",
       "├── \u001b[1;32m✅ Completed:\u001b[0m\u001b[1;32m score_leads\u001b[0m\n",
       "├── \u001b[1;32m✅ Completed:\u001b[0m\u001b[1;32m store_leads_score\u001b[0m\n",
       "├── \u001b[1;32m✅ Completed:\u001b[0m\u001b[1;32m filter_leads\u001b[0m\n",
       "├── \u001b[1;32m✅ Completed:\u001b[0m\u001b[1;32m write_email\u001b[0m\n",
       "└── \u001b[1;32m✅ Completed:\u001b[0m\u001b[1;32m send_email\u001b[0m\n"
      ]
     },
     "metadata": {},
     "output_type": "display_data"
    },
    {
     "data": {
      "text/html": [
       "<pre style=\"white-space:pre;overflow-x:auto;line-height:normal;font-family:Menlo,'DejaVu Sans Mono',consolas,'Courier New',monospace\">\n",
       "</pre>\n"
      ],
      "text/plain": [
       "\n"
      ]
     },
     "metadata": {},
     "output_type": "display_data"
    },
    {
     "data": {
      "text/html": [
       "<pre style=\"white-space:pre;overflow-x:auto;line-height:normal;font-family:Menlo,'DejaVu Sans Mono',consolas,'Courier New',monospace\"><span style=\"color: #008000; text-decoration-color: #008000; font-weight: bold\">✅ Flow Finished: </span><span style=\"color: #008000; text-decoration-color: #008000\">SalesPipeline</span>\n",
       "├── <span style=\"color: #c0c0c0; text-decoration-color: #c0c0c0\">Flow Method Step</span>\n",
       "├── <span style=\"color: #008000; text-decoration-color: #008000; font-weight: bold\">✅ Completed: fetch_leads</span>\n",
       "├── <span style=\"color: #008000; text-decoration-color: #008000; font-weight: bold\">✅ Completed: score_leads</span>\n",
       "├── <span style=\"color: #008000; text-decoration-color: #008000; font-weight: bold\">✅ Completed: store_leads_score</span>\n",
       "├── <span style=\"color: #008000; text-decoration-color: #008000; font-weight: bold\">✅ Completed: filter_leads</span>\n",
       "├── <span style=\"color: #008000; text-decoration-color: #008000; font-weight: bold\">✅ Completed: write_email</span>\n",
       "└── <span style=\"color: #008000; text-decoration-color: #008000; font-weight: bold\">✅ Completed: send_email</span>\n",
       "</pre>\n"
      ],
      "text/plain": [
       "\u001b[1;32m✅ Flow Finished: \u001b[0m\u001b[32mSalesPipeline\u001b[0m\n",
       "├── \u001b[37mFlow Method Step\u001b[0m\n",
       "├── \u001b[1;32m✅ Completed:\u001b[0m\u001b[1;32m fetch_leads\u001b[0m\n",
       "├── \u001b[1;32m✅ Completed:\u001b[0m\u001b[1;32m score_leads\u001b[0m\n",
       "├── \u001b[1;32m✅ Completed:\u001b[0m\u001b[1;32m store_leads_score\u001b[0m\n",
       "├── \u001b[1;32m✅ Completed:\u001b[0m\u001b[1;32m filter_leads\u001b[0m\n",
       "├── \u001b[1;32m✅ Completed:\u001b[0m\u001b[1;32m write_email\u001b[0m\n",
       "└── \u001b[1;32m✅ Completed:\u001b[0m\u001b[1;32m send_email\u001b[0m\n"
      ]
     },
     "metadata": {},
     "output_type": "display_data"
    },
    {
     "data": {
      "text/html": [
       "<pre style=\"white-space:pre;overflow-x:auto;line-height:normal;font-family:Menlo,'DejaVu Sans Mono',consolas,'Courier New',monospace\"><span style=\"color: #008000; text-decoration-color: #008000\">╭──────────────────────────────────────────────── Flow Completion ────────────────────────────────────────────────╮</span>\n",
       "<span style=\"color: #008000; text-decoration-color: #008000\">│</span>                                                                                                                 <span style=\"color: #008000; text-decoration-color: #008000\">│</span>\n",
       "<span style=\"color: #008000; text-decoration-color: #008000\">│</span>  <span style=\"color: #008000; text-decoration-color: #008000; font-weight: bold\">Flow Execution Completed</span>                                                                                       <span style=\"color: #008000; text-decoration-color: #008000\">│</span>\n",
       "<span style=\"color: #008000; text-decoration-color: #008000\">│</span>  <span style=\"color: #c0c0c0; text-decoration-color: #c0c0c0\">Name: </span><span style=\"color: #008000; text-decoration-color: #008000\">SalesPipeline</span>                                                                                            <span style=\"color: #008000; text-decoration-color: #008000\">│</span>\n",
       "<span style=\"color: #008000; text-decoration-color: #008000\">│</span>  <span style=\"color: #c0c0c0; text-decoration-color: #c0c0c0\">ID: </span><span style=\"color: #008000; text-decoration-color: #008000\">ffe00d9d-48e2-4f21-b3b6-1b4beaddf987</span>                                                                       <span style=\"color: #008000; text-decoration-color: #008000\">│</span>\n",
       "<span style=\"color: #008000; text-decoration-color: #008000\">│</span>                                                                                                                 <span style=\"color: #008000; text-decoration-color: #008000\">│</span>\n",
       "<span style=\"color: #008000; text-decoration-color: #008000\">│</span>                                                                                                                 <span style=\"color: #008000; text-decoration-color: #008000\">│</span>\n",
       "<span style=\"color: #008000; text-decoration-color: #008000\">╰─────────────────────────────────────────────────────────────────────────────────────────────────────────────────╯</span>\n",
       "</pre>\n"
      ],
      "text/plain": [
       "\u001b[32m╭─\u001b[0m\u001b[32m───────────────────────────────────────────────\u001b[0m\u001b[32m Flow Completion \u001b[0m\u001b[32m───────────────────────────────────────────────\u001b[0m\u001b[32m─╮\u001b[0m\n",
       "\u001b[32m│\u001b[0m                                                                                                                 \u001b[32m│\u001b[0m\n",
       "\u001b[32m│\u001b[0m  \u001b[1;32mFlow Execution Completed\u001b[0m                                                                                       \u001b[32m│\u001b[0m\n",
       "\u001b[32m│\u001b[0m  \u001b[37mName: \u001b[0m\u001b[32mSalesPipeline\u001b[0m                                                                                            \u001b[32m│\u001b[0m\n",
       "\u001b[32m│\u001b[0m  \u001b[37mID: \u001b[0m\u001b[32mffe00d9d-48e2-4f21-b3b6-1b4beaddf987\u001b[0m                                                                       \u001b[32m│\u001b[0m\n",
       "\u001b[32m│\u001b[0m                                                                                                                 \u001b[32m│\u001b[0m\n",
       "\u001b[32m│\u001b[0m                                                                                                                 \u001b[32m│\u001b[0m\n",
       "\u001b[32m╰─────────────────────────────────────────────────────────────────────────────────────────────────────────────────╯\u001b[0m\n"
      ]
     },
     "metadata": {},
     "output_type": "display_data"
    },
    {
     "data": {
      "text/html": [
       "<pre style=\"white-space:pre;overflow-x:auto;line-height:normal;font-family:Menlo,'DejaVu Sans Mono',consolas,'Courier New',monospace\">\n",
       "</pre>\n"
      ],
      "text/plain": [
       "\n"
      ]
     },
     "metadata": {},
     "output_type": "display_data"
    }
   ],
   "source": [
    "emails = await flow.kickoff_async()"
   ]
  },
  {
   "cell_type": "code",
   "execution_count": 24,
   "id": "6d68694a-c344-4bd1-abe1-19d09251cca9",
   "metadata": {
    "tags": []
   },
   "outputs": [
    {
     "name": "stdout",
     "output_type": "stream",
     "text": [
      "Total costs: $0.0029\n"
     ]
    },
    {
     "name": "stderr",
     "output_type": "stream",
     "text": [
      "/var/tmp/ipykernel_178180/1963678899.py:4: PydanticDeprecatedSince20: The `dict` method is deprecated; use `model_dump` instead. Deprecated in Pydantic V2.0 to be removed in V3.0. See Pydantic V2 Migration Guide at https://errors.pydantic.dev/2.11/migration/\n",
      "  df_usage_metrics = pd.DataFrame([flow.state[\"score_crews_results\"][0].token_usage.dict()])\n"
     ]
    },
    {
     "data": {
      "text/html": [
       "<div>\n",
       "<style scoped>\n",
       "    .dataframe tbody tr th:only-of-type {\n",
       "        vertical-align: middle;\n",
       "    }\n",
       "\n",
       "    .dataframe tbody tr th {\n",
       "        vertical-align: top;\n",
       "    }\n",
       "\n",
       "    .dataframe thead th {\n",
       "        text-align: right;\n",
       "    }\n",
       "</style>\n",
       "<table border=\"1\" class=\"dataframe\">\n",
       "  <thead>\n",
       "    <tr style=\"text-align: right;\">\n",
       "      <th></th>\n",
       "      <th>total_tokens</th>\n",
       "      <th>prompt_tokens</th>\n",
       "      <th>cached_prompt_tokens</th>\n",
       "      <th>completion_tokens</th>\n",
       "      <th>successful_requests</th>\n",
       "    </tr>\n",
       "  </thead>\n",
       "  <tbody>\n",
       "    <tr>\n",
       "      <th>0</th>\n",
       "      <td>19398</td>\n",
       "      <td>17731</td>\n",
       "      <td>0</td>\n",
       "      <td>1667</td>\n",
       "      <td>7</td>\n",
       "    </tr>\n",
       "  </tbody>\n",
       "</table>\n",
       "</div>"
      ],
      "text/plain": [
       "   total_tokens  prompt_tokens  cached_prompt_tokens  completion_tokens  \\\n",
       "0         19398          17731                     0               1667   \n",
       "\n",
       "   successful_requests  \n",
       "0                    7  "
      ]
     },
     "execution_count": 24,
     "metadata": {},
     "output_type": "execute_result"
    }
   ],
   "source": [
    "import pandas as pd\n",
    "\n",
    "# Convert UsageMetrics instance to a DataFrame\n",
    "df_usage_metrics = pd.DataFrame([flow.state[\"score_crews_results\"][0].token_usage.dict()])\n",
    "\n",
    "# Calculate total costs\n",
    "costs = 0.150 * df_usage_metrics['total_tokens'].sum() / 1_000_000\n",
    "print(f\"Total costs: ${costs:.4f}\")\n",
    "\n",
    "# Display the DataFrame\n",
    "df_usage_metrics"
   ]
  },
  {
   "cell_type": "code",
   "execution_count": 25,
   "id": "4abf8f4f-dc0a-4bf8-b10b-97828dd46b11",
   "metadata": {
    "tags": []
   },
   "outputs": [
    {
     "name": "stdout",
     "output_type": "stream",
     "text": [
      "Total costs: $0.0002\n"
     ]
    },
    {
     "name": "stderr",
     "output_type": "stream",
     "text": [
      "/var/tmp/ipykernel_178180/99626748.py:4: PydanticDeprecatedSince20: The `dict` method is deprecated; use `model_dump` instead. Deprecated in Pydantic V2.0 to be removed in V3.0. See Pydantic V2 Migration Guide at https://errors.pydantic.dev/2.11/migration/\n",
      "  df_usage_metrics = pd.DataFrame([emails[0].token_usage.dict()])\n"
     ]
    },
    {
     "data": {
      "text/html": [
       "<div>\n",
       "<style scoped>\n",
       "    .dataframe tbody tr th:only-of-type {\n",
       "        vertical-align: middle;\n",
       "    }\n",
       "\n",
       "    .dataframe tbody tr th {\n",
       "        vertical-align: top;\n",
       "    }\n",
       "\n",
       "    .dataframe thead th {\n",
       "        text-align: right;\n",
       "    }\n",
       "</style>\n",
       "<table border=\"1\" class=\"dataframe\">\n",
       "  <thead>\n",
       "    <tr style=\"text-align: right;\">\n",
       "      <th></th>\n",
       "      <th>total_tokens</th>\n",
       "      <th>prompt_tokens</th>\n",
       "      <th>cached_prompt_tokens</th>\n",
       "      <th>completion_tokens</th>\n",
       "      <th>successful_requests</th>\n",
       "    </tr>\n",
       "  </thead>\n",
       "  <tbody>\n",
       "    <tr>\n",
       "      <th>0</th>\n",
       "      <td>1278</td>\n",
       "      <td>1008</td>\n",
       "      <td>0</td>\n",
       "      <td>270</td>\n",
       "      <td>2</td>\n",
       "    </tr>\n",
       "  </tbody>\n",
       "</table>\n",
       "</div>"
      ],
      "text/plain": [
       "   total_tokens  prompt_tokens  cached_prompt_tokens  completion_tokens  \\\n",
       "0          1278           1008                     0                270   \n",
       "\n",
       "   successful_requests  \n",
       "0                    2  "
      ]
     },
     "execution_count": 25,
     "metadata": {},
     "output_type": "execute_result"
    }
   ],
   "source": [
    "import pandas as pd\n",
    "\n",
    "# Convert UsageMetrics instance to a DataFrame\n",
    "df_usage_metrics = pd.DataFrame([emails[0].token_usage.dict()])\n",
    "\n",
    "# Calculate total costs\n",
    "costs = 0.150 * df_usage_metrics['total_tokens'].sum() / 1_000_000\n",
    "print(f\"Total costs: ${costs:.4f}\")\n",
    "\n",
    "# Display the DataFrame\n",
    "df_usage_metrics"
   ]
  },
  {
   "cell_type": "markdown",
   "id": "d996f706-3038-4d24-8d9f-7b02fcceed32",
   "metadata": {},
   "source": [
    "## Inspecting Results"
   ]
  },
  {
   "cell_type": "code",
   "execution_count": 26,
   "id": "6b02f4f0-8c98-4125-b016-5e31d38383bb",
   "metadata": {
    "tags": []
   },
   "outputs": [],
   "source": [
    "scores = flow.state[\"score_crews_results\"]"
   ]
  },
  {
   "cell_type": "code",
   "execution_count": 27,
   "id": "ea37f949-f9bc-4e83-88fb-6edb24bc364a",
   "metadata": {
    "tags": []
   },
   "outputs": [
    {
     "name": "stderr",
     "output_type": "stream",
     "text": [
      "\n",
      "A module that was compiled using NumPy 1.x cannot be run in\n",
      "NumPy 2.2.5 as it may crash. To support both 1.x and 2.x\n",
      "versions of NumPy, modules must be compiled with NumPy 2.0.\n",
      "Some module may need to rebuild instead e.g. with 'pybind11>=2.12'.\n",
      "\n",
      "If you are a user of the module, the easiest solution will be to\n",
      "downgrade to 'numpy<2' or try to upgrade the affected module.\n",
      "We expect that some modules will need time to support NumPy 2.\n",
      "\n",
      "Traceback (most recent call last):  File \"/opt/conda/lib/python3.10/runpy.py\", line 196, in _run_module_as_main\n",
      "    return _run_code(code, main_globals, None,\n",
      "  File \"/opt/conda/lib/python3.10/runpy.py\", line 86, in _run_code\n",
      "    exec(code, run_globals)\n",
      "  File \"/opt/conda/lib/python3.10/site-packages/ipykernel_launcher.py\", line 18, in <module>\n",
      "    app.launch_new_instance()\n",
      "  File \"/opt/conda/lib/python3.10/site-packages/traitlets/config/application.py\", line 1075, in launch_instance\n",
      "    app.start()\n",
      "  File \"/opt/conda/lib/python3.10/site-packages/ipykernel/kernelapp.py\", line 739, in start\n",
      "    self.io_loop.start()\n",
      "  File \"/opt/conda/lib/python3.10/site-packages/tornado/platform/asyncio.py\", line 205, in start\n",
      "    self.asyncio_loop.run_forever()\n",
      "  File \"/opt/conda/lib/python3.10/asyncio/base_events.py\", line 603, in run_forever\n",
      "    self._run_once()\n",
      "  File \"/opt/conda/lib/python3.10/asyncio/base_events.py\", line 1909, in _run_once\n",
      "    handle._run()\n",
      "  File \"/opt/conda/lib/python3.10/asyncio/events.py\", line 80, in _run\n",
      "    self._context.run(self._callback, *self._args)\n",
      "  File \"/opt/conda/lib/python3.10/site-packages/ipykernel/kernelbase.py\", line 545, in dispatch_queue\n",
      "    await self.process_one()\n",
      "  File \"/opt/conda/lib/python3.10/site-packages/ipykernel/kernelbase.py\", line 534, in process_one\n",
      "    await dispatch(*args)\n",
      "  File \"/opt/conda/lib/python3.10/site-packages/ipykernel/kernelbase.py\", line 437, in dispatch_shell\n",
      "    await result\n",
      "  File \"/opt/conda/lib/python3.10/site-packages/ipykernel/ipkernel.py\", line 362, in execute_request\n",
      "    await super().execute_request(stream, ident, parent)\n",
      "  File \"/opt/conda/lib/python3.10/site-packages/ipykernel/kernelbase.py\", line 778, in execute_request\n",
      "    reply_content = await reply_content\n",
      "  File \"/opt/conda/lib/python3.10/site-packages/ipykernel/ipkernel.py\", line 449, in do_execute\n",
      "    res = shell.run_cell(\n",
      "  File \"/opt/conda/lib/python3.10/site-packages/ipykernel/zmqshell.py\", line 549, in run_cell\n",
      "    return super().run_cell(*args, **kwargs)\n",
      "  File \"/opt/conda/lib/python3.10/site-packages/IPython/core/interactiveshell.py\", line 3051, in run_cell\n",
      "    result = self._run_cell(\n",
      "  File \"/opt/conda/lib/python3.10/site-packages/IPython/core/interactiveshell.py\", line 3106, in _run_cell\n",
      "    result = runner(coro)\n",
      "  File \"/opt/conda/lib/python3.10/site-packages/IPython/core/async_helpers.py\", line 129, in _pseudo_sync_runner\n",
      "    coro.send(None)\n",
      "  File \"/opt/conda/lib/python3.10/site-packages/IPython/core/interactiveshell.py\", line 3311, in run_cell_async\n",
      "    has_raised = await self.run_ast_nodes(code_ast.body, cell_name,\n",
      "  File \"/opt/conda/lib/python3.10/site-packages/IPython/core/interactiveshell.py\", line 3493, in run_ast_nodes\n",
      "    if await self.run_code(code, result, async_=asy):\n",
      "  File \"/opt/conda/lib/python3.10/site-packages/IPython/core/interactiveshell.py\", line 3553, in run_code\n",
      "    exec(code_obj, self.user_global_ns, self.user_ns)\n",
      "  File \"/var/tmp/ipykernel_178180/3179663183.py\", line 32, in <module>\n",
      "    html_table = df.style.set_properties(**{'text-align': 'left'}) \\\n",
      "  File \"/opt/conda/lib/python3.10/site-packages/pandas/core/frame.py\", line 1442, in style\n",
      "    from pandas.io.formats.style import Styler\n",
      "  File \"/opt/conda/lib/python3.10/site-packages/pandas/io/formats/style.py\", line 85, in <module>\n",
      "    import matplotlib as mpl\n",
      "  File \"/opt/conda/lib/python3.10/site-packages/matplotlib/__init__.py\", line 129, in <module>\n",
      "    from . import _api, _version, cbook, _docstring, rcsetup\n",
      "  File \"/opt/conda/lib/python3.10/site-packages/matplotlib/rcsetup.py\", line 27, in <module>\n",
      "    from matplotlib.colors import Colormap, is_color_like\n",
      "  File \"/opt/conda/lib/python3.10/site-packages/matplotlib/colors.py\", line 56, in <module>\n",
      "    from matplotlib import _api, _cm, cbook, scale\n",
      "  File \"/opt/conda/lib/python3.10/site-packages/matplotlib/scale.py\", line 22, in <module>\n",
      "    from matplotlib.ticker import (\n",
      "  File \"/opt/conda/lib/python3.10/site-packages/matplotlib/ticker.py\", line 138, in <module>\n",
      "    from matplotlib import transforms as mtransforms\n",
      "  File \"/opt/conda/lib/python3.10/site-packages/matplotlib/transforms.py\", line 49, in <module>\n",
      "    from matplotlib._path import (\n"
     ]
    },
    {
     "ename": "AttributeError",
     "evalue": "_ARRAY_API not found",
     "output_type": "error",
     "traceback": [
      "\u001b[0;31m---------------------------------------------------------------------------\u001b[0m",
      "\u001b[0;31mAttributeError\u001b[0m                            Traceback (most recent call last)",
      "\u001b[0;31mAttributeError\u001b[0m: _ARRAY_API not found"
     ]
    },
    {
     "data": {
      "text/html": [
       "<style type=\"text/css\">\n",
       "#T_a0350_row0_col0, #T_a0350_row0_col1, #T_a0350_row1_col0, #T_a0350_row1_col1, #T_a0350_row2_col0, #T_a0350_row2_col1, #T_a0350_row3_col0, #T_a0350_row3_col1, #T_a0350_row4_col0, #T_a0350_row4_col1, #T_a0350_row5_col0, #T_a0350_row5_col1, #T_a0350_row6_col0, #T_a0350_row6_col1, #T_a0350_row7_col0, #T_a0350_row7_col1, #T_a0350_row8_col0, #T_a0350_row8_col1, #T_a0350_row9_col0, #T_a0350_row9_col1, #T_a0350_row10_col0, #T_a0350_row10_col1, #T_a0350_row11_col0, #T_a0350_row11_col1 {\n",
       "  text-align: left;\n",
       "}\n",
       "</style>\n",
       "<table id=\"T_a0350\">\n",
       "  <thead>\n",
       "    <tr>\n",
       "      <th id=\"T_a0350_level0_col0\" class=\"col_heading level0 col0\" >Attribute</th>\n",
       "      <th id=\"T_a0350_level0_col1\" class=\"col_heading level0 col1\" >Value</th>\n",
       "    </tr>\n",
       "  </thead>\n",
       "  <tbody>\n",
       "    <tr>\n",
       "      <td id=\"T_a0350_row0_col0\" class=\"data row0 col0\" ><b>Name</b></td>\n",
       "      <td id=\"T_a0350_row0_col1\" class=\"data row0 col1\" >João Moura</td>\n",
       "    </tr>\n",
       "    <tr>\n",
       "      <td id=\"T_a0350_row1_col0\" class=\"data row1 col0\" ><b>Job Title</b></td>\n",
       "      <td id=\"T_a0350_row1_col1\" class=\"data row1 col1\" >Director of Engineering</td>\n",
       "    </tr>\n",
       "    <tr>\n",
       "      <td id=\"T_a0350_row2_col0\" class=\"data row2 col0\" ><b>Role Relevance</b></td>\n",
       "      <td id=\"T_a0350_row2_col1\" class=\"data row2 col1\" >8</td>\n",
       "    </tr>\n",
       "    <tr>\n",
       "      <td id=\"T_a0350_row3_col0\" class=\"data row3 col0\" ><b>Professional Background</b></td>\n",
       "      <td id=\"T_a0350_row3_col1\" class=\"data row3 col1\" >João Moura likely has extensive experience in engineering and data analytics, given his role and the company's focus on data enrichment.</td>\n",
       "    </tr>\n",
       "    <tr>\n",
       "      <td id=\"T_a0350_row4_col0\" class=\"data row4 col0\" ><b>Company Name</b></td>\n",
       "      <td id=\"T_a0350_row4_col1\" class=\"data row4 col1\" >Clearbit</td>\n",
       "    </tr>\n",
       "    <tr>\n",
       "      <td id=\"T_a0350_row5_col0\" class=\"data row5 col0\" ><b>Industry</b></td>\n",
       "      <td id=\"T_a0350_row5_col1\" class=\"data row5 col1\" >B2B Marketing Intelligence</td>\n",
       "    </tr>\n",
       "    <tr>\n",
       "      <td id=\"T_a0350_row6_col0\" class=\"data row6 col0\" ><b>Company Size</b></td>\n",
       "      <td id=\"T_a0350_row6_col1\" class=\"data row6 col1\" >127</td>\n",
       "    </tr>\n",
       "    <tr>\n",
       "      <td id=\"T_a0350_row7_col0\" class=\"data row7 col0\" ><b>Revenue</b></td>\n",
       "      <td id=\"T_a0350_row7_col1\" class=\"data row7 col1\" >31.500000</td>\n",
       "    </tr>\n",
       "    <tr>\n",
       "      <td id=\"T_a0350_row8_col0\" class=\"data row8 col0\" ><b>Market Presence</b></td>\n",
       "      <td id=\"T_a0350_row8_col1\" class=\"data row8 col1\" >7</td>\n",
       "    </tr>\n",
       "    <tr>\n",
       "      <td id=\"T_a0350_row9_col0\" class=\"data row9 col0\" ><b>Lead Score</b></td>\n",
       "      <td id=\"T_a0350_row9_col1\" class=\"data row9 col1\" >78</td>\n",
       "    </tr>\n",
       "    <tr>\n",
       "      <td id=\"T_a0350_row10_col0\" class=\"data row10 col0\" ><b>Scoring Criteria</b></td>\n",
       "      <td id=\"T_a0350_row10_col1\" class=\"data row10 col1\" >Role Relevance: 8/10, Company Size: 8/10, Market Presence: 7/10, Cultural Fit: 8/10</td>\n",
       "    </tr>\n",
       "    <tr>\n",
       "      <td id=\"T_a0350_row11_col0\" class=\"data row11 col0\" ><b>Validation Notes</b></td>\n",
       "      <td id=\"T_a0350_row11_col1\" class=\"data row11 col1\" >The scores have been derived based on clear benchmarking against predefined criteria, yielding a solid lead scoring outcome.</td>\n",
       "    </tr>\n",
       "  </tbody>\n",
       "</table>\n"
      ],
      "text/plain": [
       "<IPython.core.display.HTML object>"
      ]
     },
     "metadata": {},
     "output_type": "display_data"
    }
   ],
   "source": [
    "import pandas as pd\n",
    "from IPython.display import display, HTML\n",
    "\n",
    "lead_scoring_result = scores[0].pydantic\n",
    "\n",
    "# Create a dictionary with the nested structure flattened\n",
    "data = {\n",
    "    'Name': lead_scoring_result.personal_info.name,\n",
    "    'Job Title': lead_scoring_result.personal_info.job_title,\n",
    "    'Role Relevance': lead_scoring_result.personal_info.role_relevance,\n",
    "    'Professional Background': lead_scoring_result.personal_info.professional_background,\n",
    "    'Company Name': lead_scoring_result.company_info.company_name,\n",
    "    'Industry': lead_scoring_result.company_info.industry,\n",
    "    'Company Size': lead_scoring_result.company_info.company_size,\n",
    "    'Revenue': lead_scoring_result.company_info.revenue,\n",
    "    'Market Presence': lead_scoring_result.company_info.market_presence,\n",
    "    'Lead Score': lead_scoring_result.lead_score.score,\n",
    "    'Scoring Criteria': ', '.join(lead_scoring_result.lead_score.scoring_criteria),\n",
    "    'Validation Notes': lead_scoring_result.lead_score.validation_notes\n",
    "}\n",
    "\n",
    "# Convert the dictionary to a DataFrame\n",
    "df = pd.DataFrame.from_dict(data, orient='index', columns=['Value'])\n",
    "\n",
    "# Reset the index to turn the original column names into a regular column\n",
    "df = df.reset_index()\n",
    "\n",
    "# Rename the index column to 'Attribute'\n",
    "df = df.rename(columns={'index': 'Attribute'})\n",
    "\n",
    "# Create HTML table with bold attributes and left-aligned values\n",
    "html_table = df.style.set_properties(**{'text-align': 'left'}) \\\n",
    "                     .format({'Attribute': lambda x: f'<b>{x}</b>'}) \\\n",
    "                     .hide(axis='index') \\\n",
    "                     .to_html()\n",
    "\n",
    "# Display the styled HTML table\n",
    "display(HTML(html_table))"
   ]
  },
  {
   "cell_type": "markdown",
   "id": "122da417-dbce-4552-85a3-83bb00751685",
   "metadata": {},
   "source": [
    "## Results"
   ]
  },
  {
   "cell_type": "code",
   "execution_count": 28,
   "id": "a3024b88-7030-4109-93cc-9e37b00e9d7e",
   "metadata": {
    "tags": []
   },
   "outputs": [
    {
     "name": "stdout",
     "output_type": "stream",
     "text": [
      "João, your role at Clearbit centers on harnessing data to drive decisions.\n",
      "Imagine amplifying your team's capabilities with CrewAI's Multi-Agent\n",
      "Orchestration Platform. Our solution empowers you to orchestrate AI Agents\n",
      "optimizing your processes, directly aligning with Clearbit's goals in B2B\n",
      "Marketing Intelligence.  Ready to see how this can transform your operations?\n",
      "Click here to schedule a quick demo and discover the potential: [Schedule Demo\n",
      "Link].   Don’t miss out on the chance to elevate your automation strategy. Let’s\n",
      "make Clearbit's growth more efficient! Act now!\n"
     ]
    }
   ],
   "source": [
    "import textwrap\n",
    "\n",
    "result_text = emails[0].raw\n",
    "wrapped_text = textwrap.fill(result_text, width=80)\n",
    "print(wrapped_text)"
   ]
  },
  {
   "cell_type": "markdown",
   "id": "53d3e89b-b95a-4dec-b88a-b7a075c48d53",
   "metadata": {},
   "source": [
    "## Another sample flow"
   ]
  },
  {
   "cell_type": "code",
   "execution_count": 30,
   "id": "15123602-bcd5-44e4-8115-c06cfbcfe576",
   "metadata": {
    "tags": []
   },
   "outputs": [],
   "source": [
    "from crewai import Flow\n",
    "from crewai.flow.flow import listen, start, and_, or_, router\n",
    "\n",
    "class SalesPipeline(Flow):\n",
    "    \n",
    "  @start()\n",
    "  def fetch_leads(self):\n",
    "    # Pull our leads from the database\n",
    "    # This is a mock, in a real-world scenario, this is where you would\n",
    "    # fetch leads from a database\n",
    "    leads = [\n",
    "      {\n",
    "        \"lead_data\": {\n",
    "          \"name\": \"João Moura\",\n",
    "          \"job_title\": \"Director of Engineering\",\n",
    "          \"company\": \"Clearbit\",\n",
    "          \"email\": \"joao@clearbit.com\",\n",
    "          \"use_case\": \"Using AI Agent to do better data enrichment.\"\n",
    "        },\n",
    "      },\n",
    "    ]\n",
    "    return leads\n",
    "\n",
    "  @listen(fetch_leads)\n",
    "  def score_leads(self, leads):\n",
    "    scores = lead_scoring_crew.kickoff_for_each(leads)\n",
    "    self.state[\"score_crews_results\"] = scores\n",
    "    return scores\n",
    "\n",
    "  @listen(score_leads)\n",
    "  def store_leads_score(self, scores):\n",
    "    # Here we would store the scores in the database\n",
    "    return scores\n",
    "\n",
    "  @listen(score_leads)\n",
    "  def filter_leads(self, scores):\n",
    "    return [score for score in scores if score['lead_score'].score > 70]\n",
    "\n",
    "  @listen(and_(filter_leads, store_leads_score))\n",
    "  def log_leads(self, leads):\n",
    "    print(f\"Leads: {leads}\")\n",
    "\n",
    "  @router(filter_leads)\n",
    "  def count_leads(self, scores):\n",
    "    if len(scores) > 10:\n",
    "      return 'high'\n",
    "    elif len(scores) > 5:\n",
    "      return 'medium'\n",
    "    else:\n",
    "      return 'low'\n",
    "\n",
    "  @listen('high')\n",
    "  def store_in_salesforce(self, leads):\n",
    "    return leads\n",
    "\n",
    "  @listen('medium')\n",
    "  def send_to_sales_team(self, leads):\n",
    "    return leads\n",
    "\n",
    "  @listen('low')\n",
    "  def write_email(self, leads):\n",
    "    scored_leads = [lead.to_dict() for lead in leads]\n",
    "    emails = email_writing_crew.kickoff_for_each(scored_leads)\n",
    "    return emails\n",
    "\n",
    "  @listen(write_email)\n",
    "  def send_email(self, emails):\n",
    "    # Here we would send the emails to the leads\n",
    "    return emails"
   ]
  },
  {
   "cell_type": "code",
   "execution_count": 31,
   "id": "d802d931-e90e-4ca3-b63e-f418209b8a91",
   "metadata": {
    "tags": []
   },
   "outputs": [
    {
     "data": {
      "text/html": [
       "<pre style=\"white-space:pre;overflow-x:auto;line-height:normal;font-family:Menlo,'DejaVu Sans Mono',consolas,'Courier New',monospace\"><span style=\"color: #000080; text-decoration-color: #000080\">╭──────────────────────────────────────────────── Flow Execution ─────────────────────────────────────────────────╮</span>\n",
       "<span style=\"color: #000080; text-decoration-color: #000080\">│</span>                                                                                                                 <span style=\"color: #000080; text-decoration-color: #000080\">│</span>\n",
       "<span style=\"color: #000080; text-decoration-color: #000080\">│</span>  <span style=\"color: #000080; text-decoration-color: #000080; font-weight: bold\">Starting Flow Execution</span>                                                                                        <span style=\"color: #000080; text-decoration-color: #000080\">│</span>\n",
       "<span style=\"color: #000080; text-decoration-color: #000080\">│</span>  <span style=\"color: #c0c0c0; text-decoration-color: #c0c0c0\">Name: </span><span style=\"color: #000080; text-decoration-color: #000080\">SalesPipeline</span>                                                                                            <span style=\"color: #000080; text-decoration-color: #000080\">│</span>\n",
       "<span style=\"color: #000080; text-decoration-color: #000080\">│</span>  <span style=\"color: #c0c0c0; text-decoration-color: #c0c0c0\">ID: </span><span style=\"color: #000080; text-decoration-color: #000080\">2cb7de94-1a7e-48ce-8ef2-7dff31bdfb53</span>                                                                       <span style=\"color: #000080; text-decoration-color: #000080\">│</span>\n",
       "<span style=\"color: #000080; text-decoration-color: #000080\">│</span>                                                                                                                 <span style=\"color: #000080; text-decoration-color: #000080\">│</span>\n",
       "<span style=\"color: #000080; text-decoration-color: #000080\">│</span>                                                                                                                 <span style=\"color: #000080; text-decoration-color: #000080\">│</span>\n",
       "<span style=\"color: #000080; text-decoration-color: #000080\">╰─────────────────────────────────────────────────────────────────────────────────────────────────────────────────╯</span>\n",
       "</pre>\n"
      ],
      "text/plain": [
       "\u001b[34m╭─\u001b[0m\u001b[34m───────────────────────────────────────────────\u001b[0m\u001b[34m Flow Execution \u001b[0m\u001b[34m────────────────────────────────────────────────\u001b[0m\u001b[34m─╮\u001b[0m\n",
       "\u001b[34m│\u001b[0m                                                                                                                 \u001b[34m│\u001b[0m\n",
       "\u001b[34m│\u001b[0m  \u001b[1;34mStarting Flow Execution\u001b[0m                                                                                        \u001b[34m│\u001b[0m\n",
       "\u001b[34m│\u001b[0m  \u001b[37mName: \u001b[0m\u001b[34mSalesPipeline\u001b[0m                                                                                            \u001b[34m│\u001b[0m\n",
       "\u001b[34m│\u001b[0m  \u001b[37mID: \u001b[0m\u001b[34m2cb7de94-1a7e-48ce-8ef2-7dff31bdfb53\u001b[0m                                                                       \u001b[34m│\u001b[0m\n",
       "\u001b[34m│\u001b[0m                                                                                                                 \u001b[34m│\u001b[0m\n",
       "\u001b[34m│\u001b[0m                                                                                                                 \u001b[34m│\u001b[0m\n",
       "\u001b[34m╰─────────────────────────────────────────────────────────────────────────────────────────────────────────────────╯\u001b[0m\n"
      ]
     },
     "metadata": {},
     "output_type": "display_data"
    },
    {
     "data": {
      "text/html": [
       "<pre style=\"white-space:pre;overflow-x:auto;line-height:normal;font-family:Menlo,'DejaVu Sans Mono',consolas,'Courier New',monospace\">\n",
       "</pre>\n"
      ],
      "text/plain": [
       "\n"
      ]
     },
     "metadata": {},
     "output_type": "display_data"
    },
    {
     "name": "stdout",
     "output_type": "stream",
     "text": [
      "Plot saved as crewai_flow.html\n"
     ]
    }
   ],
   "source": [
    "flow = SalesPipeline()\n",
    "flow.plot()"
   ]
  },
  {
   "cell_type": "code",
   "execution_count": null,
   "id": "a2acc4ea-aadd-415b-8202-4e7b29005c5d",
   "metadata": {},
   "outputs": [],
   "source": []
  }
 ],
 "metadata": {
  "environment": {
   "kernel": "python3",
   "name": "pytorch-gpu.2-4.m129",
   "type": "gcloud",
   "uri": "us-docker.pkg.dev/deeplearning-platform-release/gcr.io/pytorch-gpu.2-4:m129"
  },
  "kernelspec": {
   "display_name": "Python 3",
   "language": "python",
   "name": "python3"
  },
  "language_info": {
   "codemirror_mode": {
    "name": "ipython",
    "version": 3
   },
   "file_extension": ".py",
   "mimetype": "text/x-python",
   "name": "python",
   "nbconvert_exporter": "python",
   "pygments_lexer": "ipython3",
   "version": "3.10.17"
  }
 },
 "nbformat": 4,
 "nbformat_minor": 5
}
